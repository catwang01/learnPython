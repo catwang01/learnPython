{
 "cells": [
  {
   "cell_type": "markdown",
   "metadata": {},
   "source": [
    "[toc]\n",
    "\n",
    "# Pandas hdf"
   ]
  },
  {
   "cell_type": "markdown",
   "metadata": {},
   "source": [
    "## 前言"
   ]
  },
  {
   "cell_type": "markdown",
   "metadata": {},
   "source": [
    "在训练 fm 模型的时候遇到了 pandas csv 数据读写慢的问题，之后发现 hdf 的速度很快。因此尝试了一下，发现读写速度都不错。\n",
    "\n",
    "了解了 hdf5 的结构之后，以为可以将这个货当做一个数据库之类的东西，所有数据都写在一个 .h5 文件的不同 group 下。\n",
    "结果尝试了一下使用 PD.HDFStore 来实现这个功能，发现这个格式的文件很容易损坏，如果一不小心某次读写数据的时候电脑没电导致文件损坏，那么之前存在 h5 文件中的数据也就找不回来了！这个不能忍。因此感觉 h5 格式的文件只适合保存单个文件。因此下面的内容，实际上看看，会 read_hdf 和 to_hdf 也就差不多了。"
   ]
  },
  {
   "cell_type": "markdown",
   "metadata": {},
   "source": [
    "## 最简单的使用"
   ]
  },
  {
   "cell_type": "markdown",
   "metadata": {},
   "source": [
    "### 写入文件"
   ]
  },
  {
   "cell_type": "code",
   "execution_count": 2,
   "metadata": {},
   "outputs": [],
   "source": [
    "import pandas as pd\n",
    "import numpy as np\n",
    "\n",
    "df = pd.DataFrame(np.random.rand(1000, 1000))"
   ]
  },
  {
   "cell_type": "code",
   "execution_count": 3,
   "metadata": {},
   "outputs": [],
   "source": [
    "df.to_hdf(\"test.h5\", key='df')"
   ]
  },
  {
   "cell_type": "markdown",
   "metadata": {},
   "source": [
    "### 从 h5 文件中读取"
   ]
  },
  {
   "cell_type": "code",
   "execution_count": 5,
   "metadata": {},
   "outputs": [],
   "source": [
    "df = pd.read_hdf(\"test.h5\", key='df')"
   ]
  },
  {
   "cell_type": "markdown",
   "metadata": {},
   "source": [
    "## HDFStore"
   ]
  },
  {
   "cell_type": "code",
   "execution_count": 6,
   "metadata": {},
   "outputs": [],
   "source": [
    "# 打开保存的 h5 文件\n",
    "store = pd.HDFStore(\"test.h5\")"
   ]
  },
  {
   "cell_type": "code",
   "execution_count": 7,
   "metadata": {},
   "outputs": [
    {
     "output_type": "execute_result",
     "data": {
      "text/plain": "['/df']"
     },
     "metadata": {},
     "execution_count": 7
    }
   ],
   "source": [
    "store.keys() # 可以看到其中有一个 df"
   ]
  },
  {
   "cell_type": "markdown",
   "metadata": {},
   "source": [
    "可以直接使用赋值的方式添加 dataframe"
   ]
  },
  {
   "cell_type": "code",
   "execution_count": 16,
   "metadata": {},
   "outputs": [],
   "source": [
    "store['df2'] = pd.DataFrame(np.random.rand(20, 20))"
   ]
  },
  {
   "cell_type": "markdown",
   "metadata": {},
   "source": [
    "使用路径的方式直接写入组中"
   ]
  },
  {
   "cell_type": "code",
   "execution_count": 13,
   "metadata": {},
   "outputs": [],
   "source": [
    "\n",
    "store['test/df1'] = pd.DataFrame(np.random.rand(20, 20))\n",
    "store['test/df2'] = pd.DataFrame(np.random.rand(20, 20))"
   ]
  },
  {
   "cell_type": "markdown",
   "metadata": {},
   "source": [
    "获取组"
   ]
  },
  {
   "cell_type": "code",
   "execution_count": 26,
   "metadata": {},
   "outputs": [
    {
     "output_type": "execute_result",
     "data": {
      "text/plain": "/ (RootGroup) ''\n  children := ['df' (Group), 'group1' (Group), 'dset1' (Array), 'test' (Group), 'df2' (Group)]"
     },
     "metadata": {},
     "execution_count": 26
    },
    {
     "output_type": "execute_result",
     "data": {
      "text/plain": "/test (Group) ''\n  children := ['df3' (Group), 'df1' (Group), 'df2' (Group)]"
     },
     "metadata": {},
     "execution_count": 26
    },
    {
     "output_type": "execute_result",
     "data": {
      "text/plain": "/test (Group) ''\n  children := ['df3' (Group), 'df1' (Group), 'df2' (Group)]"
     },
     "metadata": {},
     "execution_count": 26
    }
   ],
   "source": [
    "store.root # 获取 root\n",
    "# 获取刚才创建的 test 组\n",
    "store.root.test\n",
    "store.root['test']"
   ]
  }
 ],
 "metadata": {
  "language_info": {
   "codemirror_mode": {
    "name": "ipython",
    "version": 3
   },
   "file_extension": ".py",
   "mimetype": "text/x-python",
   "name": "python",
   "nbconvert_exporter": "python",
   "pygments_lexer": "ipython3",
   "version": "3.6.10-final"
  },
  "orig_nbformat": 2,
  "kernelspec": {
   "name": "python361064bittensorflow2conda916f6dc8789a43e39b82205c8a731f83",
   "display_name": "Python 3.6.10 64-bit ('tensorflow2': conda)"
  }
 },
 "nbformat": 4,
 "nbformat_minor": 2
}