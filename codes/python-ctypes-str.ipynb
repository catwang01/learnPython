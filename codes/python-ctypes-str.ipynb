{
 "cells": [
  {
   "cell_type": "markdown",
   "metadata": {},
   "source": [
    "[toc]\n",
    "\n",
    "# Python ctypes 字符串使用"
   ]
  },
  {
   "cell_type": "code",
   "execution_count": 4,
   "metadata": {
    "tags": []
   },
   "outputs": [
    {
     "output_type": "stream",
     "name": "stdout",
     "text": "<__main__.c_char_Array_100 object at 0x10dca5200>\n"
    }
   ],
   "source": [
    "import ctypes\n",
    "\n",
    "s = (ctypes.c_char * 100)()\n",
    "print(s) # c_char_Array_100 对象"
   ]
  },
  {
   "cell_type": "markdown",
   "metadata": {},
   "source": [
    "初始化参数 （str 转化为 c_char_Array)"
   ]
  },
  {
   "cell_type": "code",
   "execution_count": 29,
   "metadata": {
    "tags": []
   },
   "outputs": [
    {
     "output_type": "stream",
     "name": "stdout",
     "text": "<__main__.c_char_Array_100 object at 0x10df8e950>\n"
    }
   ],
   "source": [
    "s = (ctypes.c_char * 100)(*bytearray(\"hello world\", encoding='utf8'))\n",
    "print(s)"
   ]
  },
  {
   "cell_type": "markdown",
   "metadata": {},
   "source": [
    "## c_char_Array 转化为 str"
   ]
  },
  {
   "cell_type": "code",
   "execution_count": 37,
   "metadata": {},
   "outputs": [
    {
     "output_type": "execute_result",
     "data": {
      "text/plain": "'hello world'"
     },
     "metadata": {},
     "execution_count": 37
    }
   ],
   "source": [
    "bytearray(s).decode(\"utf8\").strip('\\x00')"
   ]
  }
 ],
 "metadata": {
  "language_info": {
   "codemirror_mode": {
    "name": "ipython",
    "version": 3
   },
   "file_extension": ".py",
   "mimetype": "text/x-python",
   "name": "python",
   "nbconvert_exporter": "python",
   "pygments_lexer": "ipython3",
   "version": "3.7.6-final"
  },
  "orig_nbformat": 2,
  "kernelspec": {
   "name": "python37664bitsrgancondad40efa82395a4251b23b581f920438c6",
   "display_name": "Python 3.7.6 64-bit ('srgan': conda)"
  }
 },
 "nbformat": 4,
 "nbformat_minor": 2
}