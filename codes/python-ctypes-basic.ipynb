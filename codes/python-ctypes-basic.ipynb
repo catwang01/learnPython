{
 "cells": [
  {
   "cell_type": "markdown",
   "metadata": {},
   "source": [
    "[toc]\n",
    "\n",
    "# Python ctypes 基本使用"
   ]
  },
  {
   "cell_type": "markdown",
   "metadata": {},
   "source": [
    "## 编写 c/c++ 程序"
   ]
  },
  {
   "cell_type": "markdown",
   "metadata": {},
   "source": [
    "先写一个简单的 hello world 程序，这里是用 cpp 来实现的"
   ]
  },
  {
   "cell_type": "markdown",
   "metadata": {},
   "source": [
    "```cpp\n",
    "#include <cstdio>\n",
    "\n",
    "extern \"C\" {\n",
    "    int printHello()\n",
    "    {\n",
    "        printf(\"Hello world!\\n\");\n",
    "        return 0;\n",
    "    }\n",
    "}\n",
    "```"
   ]
  },
  {
   "cell_type": "markdown",
   "metadata": {},
   "source": [
    "完成这个函数之后进行编译，\n",
    "\n",
    " ```\n",
    " g++ hello.cpp -O3 -shared -fPIC -o hello.so\n",
    " ```\n",
    "\n",
    " 得到了 `hello.so` 文件，下面我们用 python 来调用这个文件中的函数"
   ]
  },
  {
   "cell_type": "markdown",
   "metadata": {},
   "source": [
    "## 使用 python 调用"
   ]
  },
  {
   "cell_type": "markdown",
   "metadata": {},
   "source": [
    "在同一目录下，创建 `test_hello.py` 文件，内容如下"
   ]
  },
  {
   "cell_type": "code",
   "execution_count": null,
   "metadata": {},
   "outputs": [],
   "source": [
    "\n",
    "import ctypes\n",
    "\n",
    "lib = ctypes.cdll.LoadLibrary('hello.so')\n",
    "lib.printHello()"
   ]
  },
  {
   "cell_type": "markdown",
   "metadata": {},
   "source": [
    "\n",
    "运行上面的 `test_hello.py` 脚本，可以看到输出结果\n",
    "\n",
    "```\n",
    "$ python test_hello.py \n",
    "Hello world!\n",
    "```"
   ]
  }
 ],
 "metadata": {
  "language_info": {
   "codemirror_mode": {
    "name": "ipython",
    "version": 3
   },
   "file_extension": ".py",
   "mimetype": "text/x-python",
   "name": "python",
   "nbconvert_exporter": "python",
   "pygments_lexer": "ipython3",
   "version": 3
  },
  "orig_nbformat": 2
 },
 "nbformat": 4,
 "nbformat_minor": 2
}