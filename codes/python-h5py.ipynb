{
 "cells": [
  {
   "cell_type": "markdown",
   "metadata": {},
   "source": [
    "[toc]\n",
    "\n",
    "# Python h5py"
   ]
  },
  {
   "cell_type": "markdown",
   "metadata": {},
   "source": [
    "## 打开 h5 文件"
   ]
  },
  {
   "cell_type": "code",
   "execution_count": 51,
   "metadata": {},
   "outputs": [],
   "source": [
    "f.close()"
   ]
  },
  {
   "cell_type": "code",
   "execution_count": 50,
   "metadata": {},
   "outputs": [
    {
     "output_type": "execute_result",
     "data": {
      "text/plain": "<HDF5 group \"/df\" (4 members)>"
     },
     "metadata": {},
     "execution_count": 50
    }
   ],
   "source": [
    "f['df']"
   ]
  },
  {
   "cell_type": "code",
   "execution_count": 45,
   "metadata": {},
   "outputs": [],
   "source": [
    "import numpy as np\n",
    "import h5py\n",
    "\n",
    "filename = 'test.h5'\n",
    "\n",
    "f = h5py.File(filename, mode='r') # 写模式"
   ]
  },
  {
   "cell_type": "markdown",
   "metadata": {},
   "source": [
    "## 添加 group"
   ]
  },
  {
   "cell_type": "markdown",
   "metadata": {},
   "source": [
    "group 有点类型于目录的概念。其中可以包含多个 dataset 和 其它的 group（子目录）\n",
    "\n",
    "hdf5 文件有一个默认的名为 `/` 的默认的 group 类型于根目录。如果没有指定， dateset 是在这个默认的 group 下。"
   ]
  },
  {
   "cell_type": "code",
   "execution_count": 2,
   "metadata": {},
   "outputs": [
    {
     "output_type": "execute_result",
     "data": {
      "text/plain": "<HDF5 group \"/group1\" (0 members)>"
     },
     "metadata": {},
     "execution_count": 2
    }
   ],
   "source": [
    "f.create_group(\"group1\") # or f.create_group('/group1')"
   ]
  },
  {
   "cell_type": "code",
   "execution_count": 3,
   "metadata": {},
   "outputs": [
    {
     "output_type": "execute_result",
     "data": {
      "text/plain": "<KeysViewHDF5 ['group1']>"
     },
     "metadata": {},
     "execution_count": 3
    }
   ],
   "source": [
    "f.keys()"
   ]
  },
  {
   "cell_type": "code",
   "execution_count": 4,
   "metadata": {},
   "outputs": [
    {
     "output_type": "execute_result",
     "data": {
      "text/plain": "<HDF5 group \"/group2/group21\" (0 members)>"
     },
     "metadata": {},
     "execution_count": 4
    }
   ],
   "source": [
    "# 一次性创建多层\n",
    "f.create_group(\"group2/group21\")"
   ]
  },
  {
   "cell_type": "code",
   "execution_count": 5,
   "metadata": {},
   "outputs": [
    {
     "output_type": "execute_result",
     "data": {
      "text/plain": "<KeysViewHDF5 ['group1', 'group2']>"
     },
     "metadata": {},
     "execution_count": 5
    }
   ],
   "source": [
    "f.keys()"
   ]
  },
  {
   "cell_type": "markdown",
   "metadata": {},
   "source": [
    "## 添加 dataset"
   ]
  },
  {
   "cell_type": "code",
   "execution_count": 8,
   "metadata": {},
   "outputs": [],
   "source": [
    "data = np.random.rand(1000, 100)"
   ]
  },
  {
   "cell_type": "code",
   "execution_count": 9,
   "metadata": {},
   "outputs": [
    {
     "output_type": "execute_result",
     "data": {
      "text/plain": "<HDF5 dataset \"dset1\": shape (1000, 100), type \"<f8\">"
     },
     "metadata": {},
     "execution_count": 9
    }
   ],
   "source": [
    "f.create_dataset('dset1', data=data) # 使用 create_dataset 创建"
   ]
  },
  {
   "cell_type": "code",
   "execution_count": 10,
   "metadata": {},
   "outputs": [
    {
     "output_type": "execute_result",
     "data": {
      "text/plain": "<KeysViewHDF5 ['dset1', 'group1', 'group2']>"
     },
     "metadata": {},
     "execution_count": 10
    }
   ],
   "source": [
    "f.keys() # 再查看，多出了一个 dset1"
   ]
  },
  {
   "cell_type": "markdown",
   "metadata": {},
   "source": [
    "还可以像字典赋值一样直接创建"
   ]
  },
  {
   "cell_type": "code",
   "execution_count": 11,
   "metadata": {},
   "outputs": [
    {
     "output_type": "execute_result",
     "data": {
      "text/plain": "<KeysViewHDF5 ['dset2']>"
     },
     "metadata": {},
     "execution_count": 11
    }
   ],
   "source": [
    "f['group1/dset2'] = np.random.rand(4,5)\n",
    "f['group1'].keys() # 看到在 group1 下创建了一个 dset2"
   ]
  },
  {
   "cell_type": "markdown",
   "metadata": {},
   "source": [
    "## 添加属性"
   ]
  },
  {
   "cell_type": "code",
   "execution_count": 71,
   "metadata": {},
   "outputs": [],
   "source": [
    "f.attrs['a'] = 1"
   ]
  },
  {
   "cell_type": "code",
   "execution_count": 72,
   "metadata": {},
   "outputs": [
    {
     "output_type": "execute_result",
     "data": {
      "text/plain": "<KeysViewHDF5 ['a']>"
     },
     "metadata": {},
     "execution_count": 72
    }
   ],
   "source": [
    "f.attrs.keys() # 可以看到多出了一个属性"
   ]
  },
  {
   "cell_type": "code",
   "execution_count": 73,
   "metadata": {},
   "outputs": [],
   "source": [
    "f['group1'].attrs['b'] = 'group1: b'"
   ]
  },
  {
   "cell_type": "code",
   "execution_count": 74,
   "metadata": {},
   "outputs": [
    {
     "output_type": "execute_result",
     "data": {
      "text/plain": "<KeysViewHDF5 ['b']>"
     },
     "metadata": {},
     "execution_count": 74
    }
   ],
   "source": [
    "f['group1'].attrs.keys()"
   ]
  },
  {
   "cell_type": "code",
   "execution_count": 12,
   "metadata": {},
   "outputs": [],
   "source": [
    "f.close()"
   ]
  },
  {
   "cell_type": "code",
   "execution_count": 14,
   "metadata": {},
   "outputs": [],
   "source": [
    "new_f = h5py.File(filename, 'r') # 读入h5 文件"
   ]
  },
  {
   "cell_type": "code",
   "execution_count": 16,
   "metadata": {},
   "outputs": [
    {
     "output_type": "execute_result",
     "data": {
      "text/plain": "<HDF5 dataset \"dset1\": shape (1000, 100), type \"<f8\">"
     },
     "metadata": {},
     "execution_count": 16
    },
    {
     "output_type": "error",
     "ename": "KeyError",
     "evalue": "\"Can't open attribute (can't locate attribute: 'a')\"",
     "traceback": [
      "\u001b[0;31m---------------------------------------------------------------------------\u001b[0m",
      "\u001b[0;31mKeyError\u001b[0m                                  Traceback (most recent call last)",
      "\u001b[0;32m<ipython-input-16-e94fd5c52bb6>\u001b[0m in \u001b[0;36m<module>\u001b[0;34m\u001b[0m\n\u001b[1;32m      1\u001b[0m \u001b[0mnew_f\u001b[0m\u001b[0;34m[\u001b[0m\u001b[0;34m'dset1'\u001b[0m\u001b[0;34m]\u001b[0m \u001b[0;31m# 查看其中的 dset1\u001b[0m\u001b[0;34m\u001b[0m\u001b[0;34m\u001b[0m\u001b[0m\n\u001b[0;32m----> 2\u001b[0;31m \u001b[0mnew_f\u001b[0m\u001b[0;34m.\u001b[0m\u001b[0mattrs\u001b[0m\u001b[0;34m[\u001b[0m\u001b[0;34m'a'\u001b[0m\u001b[0;34m]\u001b[0m  \u001b[0;31m# 查看其中的属性\u001b[0m\u001b[0;34m\u001b[0m\u001b[0;34m\u001b[0m\u001b[0m\n\u001b[0m",
      "\u001b[0;32mh5py/_objects.pyx\u001b[0m in \u001b[0;36mh5py._objects.with_phil.wrapper\u001b[0;34m()\u001b[0m\n",
      "\u001b[0;32mh5py/_objects.pyx\u001b[0m in \u001b[0;36mh5py._objects.with_phil.wrapper\u001b[0;34m()\u001b[0m\n",
      "\u001b[0;32m/anaconda3/envs/tensorflow2/lib/python3.6/site-packages/h5py/_hl/attrs.py\u001b[0m in \u001b[0;36m__getitem__\u001b[0;34m(self, name)\u001b[0m\n\u001b[1;32m     58\u001b[0m         \"\"\" Read the value of an attribute.\n\u001b[1;32m     59\u001b[0m         \"\"\"\n\u001b[0;32m---> 60\u001b[0;31m         \u001b[0mattr\u001b[0m \u001b[0;34m=\u001b[0m \u001b[0mh5a\u001b[0m\u001b[0;34m.\u001b[0m\u001b[0mopen\u001b[0m\u001b[0;34m(\u001b[0m\u001b[0mself\u001b[0m\u001b[0;34m.\u001b[0m\u001b[0m_id\u001b[0m\u001b[0;34m,\u001b[0m \u001b[0mself\u001b[0m\u001b[0;34m.\u001b[0m\u001b[0m_e\u001b[0m\u001b[0;34m(\u001b[0m\u001b[0mname\u001b[0m\u001b[0;34m)\u001b[0m\u001b[0;34m)\u001b[0m\u001b[0;34m\u001b[0m\u001b[0;34m\u001b[0m\u001b[0m\n\u001b[0m\u001b[1;32m     61\u001b[0m \u001b[0;34m\u001b[0m\u001b[0m\n\u001b[1;32m     62\u001b[0m         \u001b[0;32mif\u001b[0m \u001b[0mis_empty_dataspace\u001b[0m\u001b[0;34m(\u001b[0m\u001b[0mattr\u001b[0m\u001b[0;34m)\u001b[0m\u001b[0;34m:\u001b[0m\u001b[0;34m\u001b[0m\u001b[0;34m\u001b[0m\u001b[0m\n",
      "\u001b[0;32mh5py/_objects.pyx\u001b[0m in \u001b[0;36mh5py._objects.with_phil.wrapper\u001b[0;34m()\u001b[0m\n",
      "\u001b[0;32mh5py/_objects.pyx\u001b[0m in \u001b[0;36mh5py._objects.with_phil.wrapper\u001b[0;34m()\u001b[0m\n",
      "\u001b[0;32mh5py/h5a.pyx\u001b[0m in \u001b[0;36mh5py.h5a.open\u001b[0;34m()\u001b[0m\n",
      "\u001b[0;31mKeyError\u001b[0m: \"Can't open attribute (can't locate attribute: 'a')\""
     ]
    }
   ],
   "source": [
    "new_f['dset1'] # 查看其中的 dset1\n",
    "new_f.attrs['a']  # 查看其中的属性"
   ]
  },
  {
   "cell_type": "markdown",
   "metadata": {},
   "source": [
    "注意，只是查看还没有读入数据，当对数据进行操作，如切片、取属性时才会真正读入数据"
   ]
  },
  {
   "cell_type": "code",
   "execution_count": 17,
   "metadata": {},
   "outputs": [
    {
     "output_type": "execute_result",
     "data": {
      "text/plain": "56"
     },
     "metadata": {},
     "execution_count": 17
    }
   ],
   "source": [
    "import sys\n",
    "sys.getsizeof(new_f['dset1'])"
   ]
  },
  {
   "cell_type": "code",
   "execution_count": 18,
   "metadata": {},
   "outputs": [],
   "source": [
    "df = new_f['dset1'][:] # 读入 numpy 数组"
   ]
  },
  {
   "cell_type": "code",
   "execution_count": 19,
   "metadata": {},
   "outputs": [
    {
     "output_type": "execute_result",
     "data": {
      "text/plain": "800112"
     },
     "metadata": {},
     "execution_count": 19
    }
   ],
   "source": [
    "sys.getsizeof(df)"
   ]
  },
  {
   "cell_type": "markdown",
   "metadata": {},
   "source": [
    "\n",
    "# References\n",
    "1. [HDF5 文件及 h5py - 简书](https://www.jianshu.com/p/de9f33cdfba0)"
   ]
  }
 ],
 "metadata": {
  "language_info": {
   "codemirror_mode": {
    "name": "ipython",
    "version": 3
   },
   "file_extension": ".py",
   "mimetype": "text/x-python",
   "name": "python",
   "nbconvert_exporter": "python",
   "pygments_lexer": "ipython3",
   "version": "3.6.10-final"
  },
  "orig_nbformat": 2,
  "kernelspec": {
   "name": "python361064bittensorflow2conda916f6dc8789a43e39b82205c8a731f83",
   "display_name": "Python 3.6.10 64-bit ('tensorflow2': conda)"
  }
 },
 "nbformat": 4,
 "nbformat_minor": 2
}