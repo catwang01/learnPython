{
 "cells": [
  {
   "cell_type": "markdown",
   "metadata": {},
   "source": [
    "---\n",
    "title: Python Type hint\n",
    "tags: 小书匠,python,built-in,type-hint,mypy,typing\n",
    "grammar_cjkRuby: true\n",
    "---\n",
    "\n",
    "[toc!]\n",
    "\n",
    "# Python Type hint"
   ]
  },
  {
   "cell_type": "markdown",
   "metadata": {},
   "source": [
    "So, Type Annotations or Type Comments?\n",
    "\n",
    "所以向自己的代码添加类型提示时，应该使用注释还是类型注释？简而言之:尽可能使用注释，必要时使用类型注释。\n",
    "注释提供了更清晰的语法，使类型信息更接近您的代码。它们也是官方推荐的写入类型提示的方式，并将在未来进一步开发和适当维护。\n",
    "\n",
    "类型注释更详细，可能与代码中的其他类型注释冲突，如linter指令。但是，它们可以用在不支持注释的代码库中。\n",
    "\n",
    "还有一个隐藏选项3:存根文件。稍后，当我们讨论向第三方库添加类型时，您将了解这些。\n",
    "\n",
    "存根文件可以在任何版本的Python中使用，代价是必须维护第二组文件。通常，如果无法更改原始源代码，则只需使用存根文件。"
   ]
  },
  {
   "cell_type": "code",
   "execution_count": 1,
   "metadata": {},
   "outputs": [],
   "source": [
    "from typing import List, Sequence\n",
    "\n",
    "def square(elems: Sequence[float]) -> List[float]:\n",
    "    return [x**2 for x in elems]"
   ]
  },
  {
   "cell_type": "markdown",
   "metadata": {},
   "source": [
    "使用 Sequence 是一个典型的鸭子类型的例子. 也就意味着可以使用len() 和 . __getitem__()等方法。"
   ]
  },
  {
   "cell_type": "markdown",
   "metadata": {},
   "source": [
    "## Variable"
   ]
  },
  {
   "cell_type": "code",
   "execution_count": 2,
   "metadata": {},
   "outputs": [],
   "source": [
    "# This is how you declare the type of a variable type in Python 3.6\n",
    "age: int = 1\n",
    "\n",
    "# In Python 3.5 and earlier you can use a type comment instead\n",
    "# (equivalent to the previous definition)\n",
    "age = 1  # type: int\n",
    "\n",
    "# You don't need to initialize a variable to annotate it\n",
    "a: int  # Ok (no value at runtime until assigned)\n",
    "\n",
    "# The latter is useful in conditional branches\n",
    "child: bool\n",
    "if age < 18:\n",
    "    child = True\n",
    "else:\n",
    "    child = False"
   ]
  },
  {
   "cell_type": "markdown",
   "metadata": {},
   "source": [
    "## Built-in types"
   ]
  },
  {
   "cell_type": "code",
   "execution_count": 3,
   "metadata": {
    "collapsed": true,
    "jupyter": {
     "outputs_hidden": true
    },
    "tags": []
   },
   "outputs": [
    {
     "ename": "TypeError",
     "evalue": "'type' object is not subscriptable",
     "output_type": "error",
     "traceback": [
      "\u001b[0;31m-------------------------------------------------------------------------\u001b[0m",
      "\u001b[0;31mTypeError\u001b[0m                               Traceback (most recent call last)",
      "\u001b[0;32m<ipython-input-3-2e981936cf97>\u001b[0m in \u001b[0;36m<module>\u001b[0;34m\u001b[0m\n\u001b[1;32m     10\u001b[0m \u001b[0;31m# For collections, the type of the collection item is in brackets\u001b[0m\u001b[0;34m\u001b[0m\u001b[0;34m\u001b[0m\u001b[0;34m\u001b[0m\u001b[0m\n\u001b[1;32m     11\u001b[0m \u001b[0;31m# (Python 3.9+)\u001b[0m\u001b[0;34m\u001b[0m\u001b[0;34m\u001b[0m\u001b[0;34m\u001b[0m\u001b[0m\n\u001b[0;32m---> 12\u001b[0;31m \u001b[0mx\u001b[0m\u001b[0;34m:\u001b[0m \u001b[0mlist\u001b[0m\u001b[0;34m[\u001b[0m\u001b[0mint\u001b[0m\u001b[0;34m]\u001b[0m \u001b[0;34m=\u001b[0m \u001b[0;34m[\u001b[0m\u001b[0;36m1\u001b[0m\u001b[0;34m]\u001b[0m\u001b[0;34m\u001b[0m\u001b[0;34m\u001b[0m\u001b[0m\n\u001b[0m\u001b[1;32m     13\u001b[0m \u001b[0mx\u001b[0m\u001b[0;34m:\u001b[0m \u001b[0mset\u001b[0m\u001b[0;34m[\u001b[0m\u001b[0mint\u001b[0m\u001b[0;34m]\u001b[0m \u001b[0;34m=\u001b[0m \u001b[0;34m{\u001b[0m\u001b[0;36m6\u001b[0m\u001b[0;34m,\u001b[0m \u001b[0;36m7\u001b[0m\u001b[0;34m}\u001b[0m\u001b[0;34m\u001b[0m\u001b[0;34m\u001b[0m\u001b[0m\n\u001b[1;32m     14\u001b[0m \u001b[0;34m\u001b[0m\u001b[0m\n",
      "\u001b[0;31mTypeError\u001b[0m: 'type' object is not subscriptable"
     ]
    }
   ],
   "source": [
    "from typing import List, Set, Dict, Tuple, Optional\n",
    "\n",
    "# For simple built-in types, just use the name of the type\n",
    "x: int = 1\n",
    "x: float = 1.0\n",
    "x: bool = True\n",
    "x: str = \"test\"\n",
    "x: bytes = b\"test\"\n",
    "\n",
    "# For collections, the type of the collection item is in brackets\n",
    "# (Python 3.9+)\n",
    "x: list[int] = [1]\n",
    "x: set[int] = {6, 7}\n",
    "\n",
    "# In Python 3.8 and earlier, the name of the collection type is\n",
    "# capitalized, and the type is imported from 'typing'\n",
    "x: List[int] = [1]\n",
    "x: Set[int] = {6, 7}\n",
    "\n",
    "# Same as above, but with type comment syntax (Python 3.5 and earlier)\n",
    "x = [1]  # type: List[int]"
   ]
  },
  {
   "cell_type": "markdown",
   "metadata": {},
   "source": [
    "### dict"
   ]
  },
  {
   "cell_type": "code",
   "execution_count": 4,
   "metadata": {
    "collapsed": true,
    "jupyter": {
     "outputs_hidden": true
    },
    "tags": []
   },
   "outputs": [
    {
     "ename": "TypeError",
     "evalue": "'type' object is not subscriptable",
     "output_type": "error",
     "traceback": [
      "\u001b[0;31m-------------------------------------------------------------------------\u001b[0m",
      "\u001b[0;31mTypeError\u001b[0m                               Traceback (most recent call last)",
      "\u001b[0;32m<ipython-input-4-03cad0084c3d>\u001b[0m in \u001b[0;36m<module>\u001b[0;34m\u001b[0m\n\u001b[1;32m      1\u001b[0m \u001b[0;31m# For mappings, we need the types of both keys and values\u001b[0m\u001b[0;34m\u001b[0m\u001b[0;34m\u001b[0m\u001b[0;34m\u001b[0m\u001b[0m\n\u001b[0;32m----> 2\u001b[0;31m \u001b[0mx\u001b[0m\u001b[0;34m:\u001b[0m \u001b[0mdict\u001b[0m\u001b[0;34m[\u001b[0m\u001b[0mstr\u001b[0m\u001b[0;34m,\u001b[0m \u001b[0mfloat\u001b[0m\u001b[0;34m]\u001b[0m \u001b[0;34m=\u001b[0m \u001b[0;34m{\u001b[0m\u001b[0;34m'field'\u001b[0m\u001b[0;34m:\u001b[0m \u001b[0;36m2.0\u001b[0m\u001b[0;34m}\u001b[0m  \u001b[0;31m# Python 3.9+\u001b[0m\u001b[0;34m\u001b[0m\u001b[0;34m\u001b[0m\u001b[0m\n\u001b[0m\u001b[1;32m      3\u001b[0m \u001b[0mx\u001b[0m\u001b[0;34m:\u001b[0m \u001b[0mDict\u001b[0m\u001b[0;34m[\u001b[0m\u001b[0mstr\u001b[0m\u001b[0;34m,\u001b[0m \u001b[0mfloat\u001b[0m\u001b[0;34m]\u001b[0m \u001b[0;34m=\u001b[0m \u001b[0;34m{\u001b[0m\u001b[0;34m'field'\u001b[0m\u001b[0;34m:\u001b[0m \u001b[0;36m2.0\u001b[0m\u001b[0;34m}\u001b[0m\u001b[0;34m\u001b[0m\u001b[0;34m\u001b[0m\u001b[0m\n",
      "\u001b[0;31mTypeError\u001b[0m: 'type' object is not subscriptable"
     ]
    }
   ],
   "source": [
    "# For mappings, we need the types of both keys and values\n",
    "x: dict[str, float] = {'field': 2.0}  # Python 3.9+\n",
    "x: Dict[str, float] = {'field': 2.0}"
   ]
  },
  {
   "cell_type": "markdown",
   "metadata": {},
   "source": [
    "### tuple"
   ]
  },
  {
   "cell_type": "code",
   "execution_count": null,
   "metadata": {},
   "outputs": [],
   "source": [
    "# For tuples of fixed size, we specify the types of all the elements\n",
    "x: tuple[int, str, float] = (3, \"yes\", 7.5)  # Python 3.9+\n",
    "x: Tuple[int, str, float] = (3, \"yes\", 7.5)\n",
    "\n",
    "# For tuples of variable size, we use one type and ellipsis\n",
    "x: tuple[int, ...] = (1, 2, 3)  # Python 3.9+\n",
    "x: Tuple[int, ...] = (1, 2, 3)"
   ]
  },
  {
   "cell_type": "markdown",
   "metadata": {},
   "source": [
    "### Optional"
   ]
  },
  {
   "cell_type": "markdown",
   "metadata": {},
   "source": [
    "`Optional[str]` 相当于 `Union[str, None]`"
   ]
  },
  {
   "cell_type": "code",
   "execution_count": null,
   "metadata": {},
   "outputs": [],
   "source": [
    "# Use Optional[] for values that could be None\n",
    "x: Optional[str] = '123'\n",
    "x: Optional[str] = None"
   ]
  },
  {
   "cell_type": "markdown",
   "metadata": {},
   "source": [
    "### Any"
   ]
  },
  {
   "cell_type": "code",
   "execution_count": null,
   "metadata": {},
   "outputs": [],
   "source": [
    "import random\n",
    "from typing import Any, Sequence\n",
    "\n",
    "def choose(items: Sequence[Any]) -> Any:\n",
    "  return random.choice(items)\n",
    "\n",
    "names = [\"Guido\", \"Jukka\", \"Ivan\"]\n",
    "reveal_type(names)\n",
    "\n",
    "name = choose(names)\n",
    "reveal_type(name)"
   ]
  },
  {
   "cell_type": "markdown",
   "metadata": {},
   "source": [
    "虽然Mypy会正确推断名称是字符串列表，但由于使用了任意类型，在调用choose ( )后，该信息会丢失:"
   ]
  },
  {
   "cell_type": "markdown",
   "metadata": {},
   "source": [
    "```\n",
    "$ mypy choose.py\n",
    "choose.py:10: error: Revealed type is 'builtins.list[builtins.str*]'\n",
    "choose.py:13: error: Revealed type is 'Any'\n",
    "```"
   ]
  },
  {
   "cell_type": "markdown",
   "metadata": {},
   "source": [
    "由此可以得知，如果使用了Any使用mypy的时候将不容易检测。"
   ]
  },
  {
   "cell_type": "markdown",
   "metadata": {},
   "source": [
    "## Functions\n",
    "Python 3 supports an annotation syntax for function declarations."
   ]
  },
  {
   "cell_type": "code",
   "execution_count": null,
   "metadata": {},
   "outputs": [],
   "source": [
    "from typing import Callable, Iterator, Union, Optional, List\n",
    "\n",
    "# This is how you annotate a function definition\n",
    "def stringify(num: int) -> str:\n",
    "    return str(num)\n",
    "\n",
    "# And here's how you specify multiple arguments\n",
    "def plus(num1: int, num2: int) -> int:\n",
    "    return num1 + num2\n",
    "\n",
    "# Add default value for an argument after the type annotation\n",
    "def f(num1: int, my_float: float = 3.5) -> float:\n",
    "    return num1 + my_float\n",
    "\n",
    "# This is how you annotate a callable (function) value\n",
    "x: Callable[[int, float], float] = f\n",
    "    \n",
    "# 对于没有返回值的函数，我们可以指定None\n",
    "def play(player_name: str) -> None:\n",
    "    print(f\"{player_name} plays\")"
   ]
  },
  {
   "cell_type": "markdown",
   "metadata": {},
   "source": [
    "### 注解 *args 和 **kwargs\n",
    "\n",
    "在面向对象的游戏版本中，我们添加了在命令行上命名玩家的选项。这是通过在程序名称后面列出玩家名称来完成的：\n",
    "\n",
    "关于类型注释:即使名称是字符串元组，也应该只注释每个名称的类型。换句话说，您应该使用字符串而不是元组[字符串]，就像下面这个例子:"
   ]
  },
  {
   "cell_type": "code",
   "execution_count": null,
   "metadata": {},
   "outputs": [],
   "source": [
    "class Game:\n",
    "     def __init__(self, *names: str) -> None:\n",
    "         \"\"\"Set up the deck and deal cards to 4 players\"\"\"\n",
    "         deck = Deck.create(shuffle=True)\n",
    "         self.names = (list(names) + \"P1 P2 P3 P4\".split())[:4]\n",
    "         self.hands = {\n",
    "             n: Player(n, h) for n, h in zip(self.names, deck.deal(4))\n",
    "         }"
   ]
  },
  {
   "cell_type": "markdown",
   "metadata": {},
   "source": [
    "类似地，如果有一个接受**kwargs的函数或方法，那么你应该只注释每个可能的关键字参数的类型。"
   ]
  },
  {
   "cell_type": "markdown",
   "metadata": {},
   "source": [
    "### Generator"
   ]
  },
  {
   "cell_type": "code",
   "execution_count": null,
   "metadata": {},
   "outputs": [],
   "source": [
    "# A generator function that yields ints is secretly just a function that\n",
    "# returns an iterator of ints, so that's how we annotate it\n",
    "def g(n: int) -> Iterator[int]:\n",
    "    i = 0\n",
    "    while i < n:\n",
    "        yield i\n",
    "        i += 1\n",
    "\n",
    "# You can of course split a function annotation over multiple lines\n",
    "def send_email(address: Union[str, List[str]],\n",
    "               sender: str,\n",
    "               cc: Optional[List[str]],\n",
    "               bcc: Optional[List[str]],\n",
    "               subject='',\n",
    "               body: Optional[List[str]] = None\n",
    "               ) -> bool:\n",
    "    ..."
   ]
  },
  {
   "cell_type": "code",
   "execution_count": null,
   "metadata": {},
   "outputs": [],
   "source": [
    "# An argument can be declared positional-only by giving it a name\n",
    "# starting with two underscores:\n",
    "def quux(__x: int) -> None:\n",
    "    pass\n",
    "\n",
    "quux(3)  # Fine\n",
    "quux(__x=3)  # Error"
   ]
  },
  {
   "cell_type": "markdown",
   "metadata": {},
   "source": [
    "## When you’re puzzled or when things are complicated"
   ]
  },
  {
   "cell_type": "code",
   "execution_count": null,
   "metadata": {},
   "outputs": [],
   "source": [
    "from typing import Union, Any, List, Optional, cast\n",
    "\n",
    "# To find out what type mypy infers for an expression anywhere in\n",
    "# your program, wrap it in reveal_type().  Mypy will print an error\n",
    "# message with the type; remove it again before running the code.\n",
    "reveal_type(1)  # -> Revealed type is 'builtins.int'\n",
    "\n",
    "# Use Union when something could be one of a few types\n",
    "x: List[Union[int, str]] = [3, 5, \"test\", \"fun\"]\n",
    "\n",
    "# Use Any if you don't know the type of something or it's too\n",
    "# dynamic to write a type for\n",
    "x: Any = mystery_function()\n",
    "\n",
    "# If you initialize a variable with an empty container or \"None\"\n",
    "# you may have to help mypy a bit by providing a type annotation\n",
    "x: List[str] = []\n",
    "x: Optional[str] = None\n",
    "\n",
    "# This makes each positional arg and each keyword arg a \"str\"\n",
    "def call(self, *args: str, **kwargs: str) -> str:\n",
    "    request = make_request(*args, **kwargs)\n",
    "    return self.do_api_query(request)\n",
    "\n",
    "# Use a \"type: ignore\" comment to suppress errors on a given line,\n",
    "# when your code confuses mypy or runs into an outright bug in mypy.\n",
    "# Good practice is to comment every \"ignore\" with a bug link\n",
    "# (in mypy, typeshed, or your own code) or an explanation of the issue.\n",
    "x = confusing_function()  # type: ignore  # https://github.com/python/mypy/issues/1167\n",
    "\n",
    "# \"cast\" is a helper function that lets you override the inferred\n",
    "# type of an expression. It's only for mypy -- there's no runtime check.\n",
    "a = [4]\n",
    "b = cast(List[int], a)  # Passes fine\n",
    "c = cast(List[str], a)  # Passes fine (no runtime check)\n",
    "reveal_type(c)  # -> Revealed type is 'builtins.list[builtins.str]'\n",
    "print(c)  # -> [4]; the object is not cast\n",
    "\n",
    "# If you want dynamic attributes on your class, have it override \"__setattr__\"\n",
    "# or \"__getattr__\" in a stub or in your source code.\n",
    "#\n",
    "# \"__setattr__\" allows for dynamic assignment to names\n",
    "# \"__getattr__\" allows for dynamic access to names\n",
    "class A:\n",
    "    # This will allow assignment to any A.x, if x is the same type as \"value\"\n",
    "    # (use \"value: Any\" to allow arbitrary types)\n",
    "    def __setattr__(self, name: str, value: int) -> None: ...\n",
    "\n",
    "    # This will allow access to any A.x, if x is compatible with the return type\n",
    "    def __getattr__(self, name: str) -> int: ...\n",
    "\n",
    "a.foo = 42  # Works\n",
    "a.bar = 'Ex-parrot'  # Fails type checking"
   ]
  },
  {
   "cell_type": "markdown",
   "metadata": {},
   "source": [
    "## Standard “duck types”"
   ]
  },
  {
   "cell_type": "markdown",
   "metadata": {},
   "source": [
    "In typical Python code, many functions that can take a list or a dict as an argument only need their argument to be somehow “list-like” or “dict-like”. A specific meaning of “list-like” or “dict-like” (or something-else-like) is called a “duck type”, and several duck types that are common in idiomatic Python are standardized."
   ]
  },
  {
   "cell_type": "markdown",
   "metadata": {},
   "source": [
    "- Mapping 支持 `__getitem__` \n",
    "- Mapping 支持 `__getitem__` 和 `__setitem__`\n",
    "- Sequence 支持 `__len__` 和 `__getitem__`\n",
    "- Iterable anything useable in \"for\""
   ]
  },
  {
   "cell_type": "markdown",
   "metadata": {},
   "source": [
    "Tuple 是不可变序列，通常由固定数量的可能不同类型的元素组成。例如，我们将卡片表示为套装和等级的元组。通常，您为n元组编写Tuple[t_1，t_2，...，t_n]。\n",
    "\n",
    "List 是可变序列，通常由未知数量的相同类型的元素组成，例如卡片列表。无论列表中有多少元素，注释中只有一种类型:List[t]。\n",
    "\n",
    "在许多情况下，你的函数会期望某种序列，并不关心它是 List 还是 Tuple。在这些情况下，您应该使用 typing.Sequence "
   ]
  },
  {
   "cell_type": "code",
   "execution_count": null,
   "metadata": {},
   "outputs": [],
   "source": [
    "from typing import Mapping, MutableMapping, Sequence, Iterable, List, Set\n",
    "\n",
    "# Use Iterable for generic iterables (anything usable in \"for\"),\n",
    "# and Sequence where a sequence (supporting \"len\" and \"__getitem__\") is\n",
    "# required\n",
    "def f(ints: Iterable[int]) -> List[str]:\n",
    "    return [str(x) for x in ints]\n",
    "\n",
    "f(range(1, 3))"
   ]
  },
  {
   "cell_type": "code",
   "execution_count": null,
   "metadata": {},
   "outputs": [],
   "source": [
    "# Mapping describes a dict-like object (with \"__getitem__\") that we won't\n",
    "# mutate, and MutableMapping one (with \"__setitem__\") that we might\n",
    "def f(my_mapping: Mapping[int, str]) -> List[int]:\n",
    "    my_mapping[5] = 'maybe'  # if we try this, mypy will throw an error...\n",
    "    return list(my_mapping.keys())\n",
    "\n",
    "f({3: 'yes', 4: 'no'})\n",
    "\n",
    "def f(my_mapping: MutableMapping[int, str]) -> Set[str]:\n",
    "    my_mapping[5] = 'maybe'  # ...but mypy is OK with this.\n",
    "    return set(my_mapping.values())\n",
    "\n",
    "f({3: 'yes', 4: 'no'})"
   ]
  },
  {
   "cell_type": "markdown",
   "metadata": {},
   "source": [
    "You can even make your own duck types using Protocols and structural subtyping."
   ]
  },
  {
   "cell_type": "markdown",
   "metadata": {},
   "source": [
    "### Protocol"
   ]
  },
  {
   "cell_type": "markdown",
   "metadata": {},
   "source": [
    "看下面例子"
   ]
  },
  {
   "cell_type": "code",
   "execution_count": null,
   "metadata": {},
   "outputs": [],
   "source": [
    "def len(obj):\n",
    "    return obj.__len__()"
   ]
  },
  {
   "cell_type": "markdown",
   "metadata": {},
   "source": [
    "len()方法可以返回任何实现__len__魔法函数的对象的长度，那我们如何在len()里添加类型提示，尤其是参数obj的类型表示呢？"
   ]
  },
  {
   "cell_type": "markdown",
   "metadata": {},
   "source": [
    "答案隐藏在学术术语structural subtyping[https://en.wikipedia.org/wiki/Structural_type_system]。structural subtyping的一种方法是根据它们是normal的还是structural的:\n",
    "在normal系统中，类型之间的比较基于名称和声明。Python类型系统大多是名义上的，因为它们的子类型关系，可以用int来代替float。\n",
    "在structural系统中，类型之间的比较基于结构。您可以定义一个结构类型“大小”，它包括定义的所有实例。__len__()，无论其标称类型如何.\n",
    "\n",
    "目前正在通过PEP 544为Python带来一个成熟的结构类型系统，该系统旨在添加一个称为协议的概念。尽管大多数PEP 544已经在Mypy中实现了。\n",
    "\n",
    "协议指定了一个或多个实现的方法。例如，所有类定义。__len__()完成typing.Sized协议。因此，我们可以将len()注释如下:"
   ]
  },
  {
   "cell_type": "code",
   "execution_count": null,
   "metadata": {},
   "outputs": [],
   "source": [
    "from typing import Sized\n",
    "\n",
    "def len(obj: Sized) -> int:\n",
    "    return obj.__len__()"
   ]
  },
  {
   "cell_type": "markdown",
   "metadata": {},
   "source": [
    "除此之外，在Typing中还包括以下模块 Container, Iterable, Awaitable, 还有 ContextManager.\n",
    "你也可以声明自定的协议，通过导入typing_extensions模块中的Protocol协议对象，然后写一个继承该方法的子类，像下面这样:"
   ]
  },
  {
   "cell_type": "code",
   "execution_count": null,
   "metadata": {},
   "outputs": [],
   "source": [
    "from typing_extensions import Protocol\n",
    "\n",
    "class Sized(Protocol):\n",
    "    def __len__(self) -> int: ...\n",
    "\n",
    "def len(obj: Sized) -> int:\n",
    "    return obj.__len__()"
   ]
  },
  {
   "cell_type": "markdown",
   "metadata": {},
   "source": [
    "需要通过pip安装上面使用的第三方模块"
   ]
  },
  {
   "cell_type": "markdown",
   "metadata": {},
   "source": [
    "pip install typing-extensions"
   ]
  },
  {
   "cell_type": "markdown",
   "metadata": {},
   "source": [
    "在python中有一种公共模式，就是设置参数的默认值None，这样做通常是为了避免可变默认值的问题，或者让一个标记值标记特殊行为。"
   ]
  },
  {
   "cell_type": "code",
   "execution_count": null,
   "metadata": {},
   "outputs": [],
   "source": [
    "from typing import Sequence, Optional\n",
    "\n",
    "def player_order(\n",
    "    names: Sequence[str], start: Optional[str] = None\n",
    ") -> Sequence[str]:\n",
    "    ..."
   ]
  },
  {
   "cell_type": "markdown",
   "metadata": {},
   "source": [
    "等价于Union类型的 Union[None, str]，意思是这个参数的值类型为str，默认的话可以是 None\n",
    "\n",
    "请注意，使用Optional或Union时，必须注意变量是否在后面有操作。比如上面的例子通过判断start是否为None。如果不判断None的情况，在做静态类型检查的时候会发生错误，因为Mypy告诉你还没有处理start为None的情况。"
   ]
  },
  {
   "cell_type": "markdown",
   "metadata": {},
   "source": [
    "## Classes"
   ]
  },
  {
   "cell_type": "code",
   "execution_count": null,
   "metadata": {},
   "outputs": [],
   "source": [
    "from typing import ClassVar\n",
    "\n",
    "class MyClass:\n",
    "    # You can optionally declare instance variables in the class body\n",
    "    attr: int\n",
    "    # This is an instance variable with a default value\n",
    "    charge_percent: int = 100\n",
    "\n",
    "    # The \"__init__\" method doesn't return anything, so it gets return\n",
    "    # type \"None\" just like any other method that doesn't return anything\n",
    "    def __init__(self) -> None:\n",
    "        ...\n",
    "\n",
    "    # For instance methods, omit type for \"self\"\n",
    "    def my_method(self, num: int, str1: str) -> str:\n",
    "        return num * str1\n",
    "\n",
    "# User-defined classes are valid as types in annotations\n",
    "x: MyClass = MyClass()\n",
    "\n",
    "# You can use the ClassVar annotation to declare a class variable\n",
    "class Car:\n",
    "    seats: ClassVar[int] = 4\n",
    "    passengers: ClassVar[List[str]]"
   ]
  },
  {
   "cell_type": "code",
   "execution_count": null,
   "metadata": {},
   "outputs": [],
   "source": [
    "# You can also declare the type of an attribute in \"__init__\"\n",
    "class Box:\n",
    "    def __init__(self) -> None:\n",
    "        self.items: List[str] = []"
   ]
  },
  {
   "cell_type": "markdown",
   "metadata": {},
   "source": [
    "注意:__init__() 的返回值总是为None"
   ]
  },
  {
   "cell_type": "markdown",
   "metadata": {},
   "source": [
    "### Forward references"
   ]
  },
  {
   "cell_type": "code",
   "execution_count": null,
   "metadata": {},
   "outputs": [],
   "source": [
    "# Forward references are useful if you want to reference a class before\n",
    "# it is defined\n",
    "def f(foo: A) -> int:  # This will fail\n",
    "    ...\n",
    "\n",
    "class A:\n",
    "    ...\n",
    "\n",
    "# If you use the string literal 'A', it will pass as long as there is a\n",
    "# class of that name later on in the file\n",
    "def f(foo: 'A') -> int:  # Ok\n",
    "    ..."
   ]
  },
  {
   "cell_type": "markdown",
   "metadata": {},
   "source": [
    "通常，注释不会在运行时使用。这为推迟对注释的评估提供了动力。该提议不是将注释评估为Python表达式并存储其值，而是存储注释的字符串表示形式，并仅在需要时对其进行评估。\n",
    "\n",
    "这种功能计划在Python 4.0中成为标准。但是，在Python 3.7及更高版本中，可以通过导入__future__属性的annotations来实现："
   ]
  },
  {
   "cell_type": "code",
   "execution_count": null,
   "metadata": {},
   "outputs": [],
   "source": [
    "from __future__ import annotations\n",
    "\n",
    "class Deck:\n",
    "    @classmethod\n",
    "    def create(cls, shuffle: bool = False) -> Deck:\n",
    "        ...\n",
    "        "
   ]
  },
  {
   "cell_type": "markdown",
   "metadata": {},
   "source": [
    "使用 __future__之后就可以使用Deck对象替换字符串\"Deck\"了。"
   ]
  },
  {
   "cell_type": "markdown",
   "metadata": {},
   "source": [
    "### cls 和 self"
   ]
  },
  {
   "cell_type": "markdown",
   "metadata": {},
   "source": [
    "一般来说，self 和 cls 不需要标注，但是 cls 有时也需要标注，比如在 classmethod 中，可能会返回待创建类的示例的情况。但是此时这个类还没有被创建，因此可以用 forward reference 的方法。m"
   ]
  },
  {
   "cell_type": "code",
   "execution_count": null,
   "metadata": {},
   "outputs": [],
   "source": [
    "class A:\n",
    "    def __init__(self, key: str, value: int) -> None:\n",
    "        self.data = {key: value}\n",
    "    @classmethod\n",
    "    def from_str(cls, key: int, value: int) -> 'A':\n",
    "        return cls(key, value)"
   ]
  },
  {
   "cell_type": "markdown",
   "metadata": {},
   "source": [
    "### 继承关系中返回 self 或 cls"
   ]
  },
  {
   "cell_type": "code",
   "execution_count": null,
   "metadata": {},
   "outputs": [],
   "source": [
    "from datetime import date\n",
    "\n",
    "class Animal:\n",
    "    def __init__(self, name: str, birthday: date) -> None:\n",
    "        self.name = name\n",
    "        self.birthday = birthday\n",
    "\n",
    "    @classmethod\n",
    "    def newborn(cls, name: str) -> \"Animal\":\n",
    "        return cls(name, date.today())\n",
    "\n",
    "    def twin(self, name: str) -> \"Animal\":\n",
    "        cls = self.__class__\n",
    "        return cls(name, self.birthday)\n",
    "\n",
    "class Dog(Animal):\n",
    "    def bark(self) -> None:\n",
    "        print(f\"{self.name} says woof!\")\n",
    "\n",
    "fido = Dog.newborn(\"Fido\")\n",
    "pluto = fido.twin(\"Pluto\")\n",
    "fido.bark()\n",
    "pluto.bark()"
   ]
  },
  {
   "cell_type": "markdown",
   "metadata": {},
   "source": [
    "运行上面的代码，Mypy会抛出下面的错误:"
   ]
  },
  {
   "cell_type": "code",
   "execution_count": null,
   "metadata": {},
   "outputs": [],
   "source": [
    "$ mypy dogs.py\n",
    "dogs.py:24: error: \"Animal\" has no attribute \"bark\"\n",
    "dogs.py:25: error: \"Animal\" has no attribute \"bark\""
   ]
  },
  {
   "cell_type": "markdown",
   "metadata": {},
   "source": [
    "问题是，即使继承的Dog.newborn（）和Dog.twin（）方法将返回一个Dog，注释表明它们返回一个Animal。\n",
    "\n",
    "在这种情况下，您需要更加小心以确保注释正确。返回类型应与self的类型或cls的实例类型匹配。这可以使用TypeVar来完成，这些变量会跟踪实际传递给self和cls的内容："
   ]
  },
  {
   "cell_type": "code",
   "execution_count": null,
   "metadata": {},
   "outputs": [],
   "source": [
    "# dogs.py\n",
    "\n",
    "from datetime import date\n",
    "from typing import Type, TypeVar\n",
    "\n",
    "TAnimal = TypeVar(\"TAnimal\", bound=\"Animal\")\n",
    "\n",
    "class Animal:\n",
    "    def __init__(self, name: str, birthday: date) -> None:\n",
    "        self.name = name\n",
    "        self.birthday = birthday\n",
    "\n",
    "    @classmethod\n",
    "    def newborn(cls: Type[TAnimal], name: str) -> TAnimal:\n",
    "        return cls(name, date.today())\n",
    "\n",
    "    def twin(self: TAnimal, name: str) -> TAnimal:\n",
    "        cls = self.__class__\n",
    "        return cls(name, self.birthday)\n",
    "\n",
    "class Dog(Animal):\n",
    "    def bark(self) -> None:\n",
    "        print(f\"{self.name} says woof!\")\n",
    "\n",
    "fido = Dog.newborn(\"Fido\")\n",
    "pluto = fido.twin(\"Pluto\")\n",
    "fido.bark()\n",
    "pluto.bark()"
   ]
  },
  {
   "cell_type": "markdown",
   "metadata": {},
   "source": [
    "在这个例子中有几个需要注意的点：\n",
    "\n",
    "类型变量TAnimal用于表示返回值可能是Animal的子类的实例。.\n",
    "\n",
    "我们指定 Animal 是TAnimal的上限。指定绑定意味着TAnimal将是Animal子类之一。这可以正确限制所允许的类型。\n",
    "\n",
    "typing.Type []是type()的类型。需要注意，是cls的类方法需要使用这种形式注解，而self就不用使用。"
   ]
  },
  {
   "cell_type": "markdown",
   "metadata": {},
   "source": [
    "## Generic"
   ]
  },
  {
   "cell_type": "markdown",
   "metadata": {},
   "source": [
    "### User-defined generic types[¶](#user-defined-generic-types \"Permalink to this headline\")"
   ]
  },
  {
   "cell_type": "markdown",
   "metadata": {},
   "source": [
    "A user-defined class can be defined as a generic class."
   ]
  },
  {
   "cell_type": "code",
   "execution_count": null,
   "metadata": {},
   "outputs": [],
   "source": [
    "from typing import TypeVar, Generic\n",
    "from logging import Logger\n",
    "\n",
    "T = TypeVar('T')\n",
    "\n",
    "class LoggedVar(Generic[T]):\n",
    "    def __init__(self, value: T, name: str, logger: Logger) -> None:\n",
    "        self.name = name\n",
    "        self.logger = logger\n",
    "        self.value = value\n",
    "\n",
    "    def set(self, new: T) -> None:\n",
    "        self.log('Set ' + repr(self.value))\n",
    "        self.value = new\n",
    "\n",
    "    def get(self) -> T:\n",
    "        self.log('Get ' + repr(self.value))\n",
    "        return self.value\n",
    "\n",
    "    def log(self, message: str) -> None:\n",
    "        self.logger.info('%s: %s', self.name, message)"
   ]
  },
  {
   "cell_type": "markdown",
   "metadata": {},
   "source": [
    "### Alias for Generic"
   ]
  },
  {
   "cell_type": "code",
   "execution_count": null,
   "metadata": {},
   "outputs": [],
   "source": [
    "from typing import TypeVar, Union, Iterable, Tuple\n",
    "\n",
    "S = TypeVar('S')\n",
    "# Response is a generic class\n",
    "Response = Union[Iterable[S], int]\n",
    "\n",
    "# Return type here is same as Union[Iterable[str], int]\n",
    "def response(query: str) -> Response[str]:\n",
    "    ...\n",
    "\n",
    "T = TypeVar('T', int, float, complex)\n",
    "Vec = Iterable[Tuple[T, T]]\n",
    "\n",
    "def inproduct(v: Vec[T]) -> T: # Same as Iterable[tuple[T, T]]\n",
    "    return sum(x*y for x, y in v)"
   ]
  },
  {
   "cell_type": "markdown",
   "metadata": {},
   "source": [
    "注意，在指定 Generic 的时候，一定要加 []，否则不是 generic class 会报错。"
   ]
  },
  {
   "cell_type": "code",
   "execution_count": null,
   "metadata": {},
   "outputs": [],
   "source": [
    "try:\n",
    "    Response = Union[Iterable, int] # is not a generic\n",
    "    s = Response[int]\n",
    "except Exception as e:\n",
    "    print(e)"
   ]
  },
  {
   "cell_type": "markdown",
   "metadata": {},
   "source": [
    "## Miscellaneous"
   ]
  },
  {
   "cell_type": "code",
   "execution_count": null,
   "metadata": {},
   "outputs": [],
   "source": [
    "import sys\n",
    "import re\n",
    "from typing import Match, AnyStr, IO\n",
    "\n",
    "# \"typing.Match\" describes regex matches from the re module\n",
    "x: Match[str] = re.match(r'[0-9]+', \"15\")\n",
    "\n",
    "# Use IO[] for functions that should accept or return any\n",
    "# object that comes from an open() call (IO[] does not\n",
    "# distinguish between reading, writing or other modes)\n",
    "def get_sys_IO(mode: str = 'w') -> IO[str]:\n",
    "    if mode == 'w':\n",
    "        return sys.stdout\n",
    "    elif mode == 'r':\n",
    "        return sys.stdin\n",
    "    else:\n",
    "        return sys.stdout"
   ]
  },
  {
   "cell_type": "markdown",
   "metadata": {},
   "source": [
    "## Callables可调用类型"
   ]
  },
  {
   "cell_type": "markdown",
   "metadata": {},
   "source": [
    "函数是Python中的一类对象。可以使用函数作为其他函数的参数。这意味着需要能够添加表示函数的类型提示。\n",
    "函数以及lambdas、方法和类都由type的Callable对象表示。参数的类型和返回值通常也表示。例如，Callable[[A1, A2, A3],Rt]表示一个函数，它有三个参数，分别具有A1、A2和A3类型。函数的返回类型是Rt。\n",
    "\n",
    "在下面这个例子, 函数 do_twice() 传入一个Callable类型的func参数，并指明传入的函数的参数类型为str，返回值类型为str。比如传入参数create_greeting."
   ]
  },
  {
   "cell_type": "code",
   "execution_count": null,
   "metadata": {},
   "outputs": [],
   "source": [
    "# do_twice.py\n",
    "\n",
    "from typing import Callable\n",
    "\n",
    "def do_twice(func: Callable[[str], str], argument: str) -> None:\n",
    "    print(func(argument))\n",
    "\n",
    "def create_greeting(name: str) -> str:\n",
    "    return f\"Hello {name}\"\n",
    "\n",
    "do_twice(create_greeting, \"Jekyll\")"
   ]
  },
  {
   "cell_type": "markdown",
   "metadata": {},
   "source": [
    "## Decorators"
   ]
  },
  {
   "cell_type": "markdown",
   "metadata": {},
   "source": [
    "Decorator functions can be expressed via generics. See Declaring decorators for more details."
   ]
  },
  {
   "cell_type": "code",
   "execution_count": null,
   "metadata": {},
   "outputs": [],
   "source": [
    "from typing import Any, Callable, TypeVar\n",
    "\n",
    "F = TypeVar('F', bound=Callable[..., Any])\n",
    "\n",
    "def bare_decorator(func: F) -> F:\n",
    "    ...\n",
    "\n",
    "def decorator_args(url: str) -> Callable[[F], F]:\n",
    "    ..."
   ]
  },
  {
   "cell_type": "markdown",
   "metadata": {},
   "source": [
    "## Type Aliases\n",
    "\n",
    "我们可以使用起别名的方式把注解的类型赋值给一个新的变量，方便在后面使用，就像下面这样:"
   ]
  },
  {
   "cell_type": "code",
   "execution_count": null,
   "metadata": {},
   "outputs": [],
   "source": [
    "from typing import List, Tuple\n",
    "\n",
    "Card = Tuple[str, str]\n",
    "Deck = List[Card]\n",
    "\n",
    "def deal_hands(deck: Deck) -> Tuple[Deck, Deck, Deck, Deck]:\n",
    "     \"\"\"Deal the cards in the deck into four hands\"\"\"\n",
    "     return (deck[0::4], deck[1::4], deck[2::4], deck[3::4])"
   ]
  },
  {
   "cell_type": "markdown",
   "metadata": {},
   "source": [
    "## Type Variables[类型声明]"
   ]
  },
  {
   "cell_type": "markdown",
   "metadata": {},
   "source": [
    "类型声明是一个特殊变量声明，可以采用任何类型，具体取决于具体情况。"
   ]
  },
  {
   "cell_type": "code",
   "execution_count": null,
   "metadata": {},
   "outputs": [],
   "source": [
    "# choose.py\n",
    "\n",
    "import random\n",
    "from typing import Sequence, TypeVar\n",
    "\n",
    "Choosable = TypeVar(\"Chooseable\")\n",
    "\n",
    "def choose(items: Sequence[Choosable]) -> Choosable:\n",
    "  return random.choice(items)\n",
    "\n",
    "names = [\"Guido\", \"Jukka\", \"Ivan\"]\n",
    "reveal_type(names)\n",
    "\n",
    "name = choose(names)\n",
    "reveal_type(name)"
   ]
  },
  {
   "cell_type": "code",
   "execution_count": null,
   "metadata": {},
   "outputs": [],
   "source": [
    "# choose.py\n",
    "\n",
    "import random\n",
    "from typing import Sequence, TypeVar\n",
    "\n",
    "Choosable = TypeVar(\"Choosable\", str, float)\n",
    "\n",
    "def choose(items: Sequence[Choosable]) -> Choosable:\n",
    "  return random.choice(items)\n",
    "\n",
    "reveal_type(choose([\"Guido\", \"Jukka\", \"Ivan\"]))\n",
    "reveal_type(choose([1, 2, 3]))\n",
    "reveal_type(choose([True, 42, 3.14]))\n",
    "reveal_type(choose([\"Python\", 3, 7]))"
   ]
  },
  {
   "cell_type": "markdown",
   "metadata": {},
   "source": [
    "方法的类型提示与函数的类型提示非常相似。唯一的区别是self参数不需要注释，因为它是一个类的实例。Card类的类型很容易添加:"
   ]
  },
  {
   "cell_type": "markdown",
   "metadata": {},
   "source": [
    "# References\n",
    "- http://localhost:8888/lab/tree/learnPython/python-type-hints/Python%20type%20hint.ipynb\n",
    "- https://my.oschina.net/u/4297117/blog/3199574\n",
    "- [Type hints cheat sheet (Python 3) — Mypy 0.820+dev.bfc67b6129b3f82a7a6e92eddeedbcfb70440a31.dirty documentation](https://mypy.readthedocs.io/en/latest/cheat_sheet_py3.html#variables)\n",
    "- [typing — Support for type hints — Python 3.9.2 documentation](https://docs.python.org/3/library/typing.html)"
   ]
  }
 ],
 "metadata": {
  "kernelspec": {
   "display_name": "Python 3",
   "language": "python",
   "name": "python3"
  },
  "language_info": {
   "codemirror_mode": {
    "name": "ipython",
    "version": 3
   },
   "file_extension": ".py",
   "mimetype": "text/x-python",
   "name": "python",
   "nbconvert_exporter": "python",
   "pygments_lexer": "ipython3",
   "version": "3.7.3"
  }
 },
 "nbformat": 4,
 "nbformat_minor": 4
}
