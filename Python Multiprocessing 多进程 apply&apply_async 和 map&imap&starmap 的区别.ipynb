{
 "cells": [
  {
   "cell_type": "markdown",
   "metadata": {},
   "source": [
    "\n",
    "---\n",
    "title: Python Multiprocessing 多进程 apply/apply_async 和 map/imap/starmap 的区别\n",
    "tags: 小书匠,python,multiprocessing,multiprocess,apply,map,imap,starmap,map_async,async\n",
    "grammar_cjkRuby: true\n",
    "# renderNumberedHeading: true\n",
    "---\n",
    "\n",
    "[toc!]\n",
    "\n",
    "# Python Multiprocessing 多进程 apply/apply_async 和 map/imap/starmap 的区别"
   ]
  },
  {
   "cell_type": "markdown",
   "metadata": {},
   "source": [
    "Python 的 multiprocessing 的 Pool 对象中有许多容易混淆的方法，如\n",
    "1. map/imap/starmap/imap_unordered\n",
    "2. xx/xx_async，如 map/map_asycn，apply/apply_async，starmap/starmap_async"
   ]
  },
  {
   "cell_type": "markdown",
   "metadata": {},
   "source": [
    "## xx 和 xx_async 的区别"
   ]
  },
  {
   "cell_type": "markdown",
   "metadata": {},
   "source": [
    "先给出结论：\n",
    "1. pool.xx 返回的是接受的函数的结果\n",
    "2. pool.xx_async 返回的是一个 `multiprocessing.pool.ApplyResult` 对象，可以使用 .get() 方法从这个对象中获取结果。"
   ]
  },
  {
   "cell_type": "markdown",
   "metadata": {},
   "source": [
    "拿 `pool.apply` 和 `pool.apply_async` 为例:"
   ]
  },
  {
   "cell_type": "markdown",
   "metadata": {},
   "source": [
    "### pool.apply"
   ]
  },
  {
   "cell_type": "code",
   "execution_count": 5,
   "metadata": {},
   "outputs": [
    {
     "name": "stdout",
     "output_type": "stream",
     "text": [
      "0\n",
      "1\n",
      "2\n",
      "3\n",
      "4\n"
     ]
    }
   ],
   "source": [
    "from multiprocessing import Pool\n",
    "\n",
    "def func(x):\n",
    "    print(x)\n",
    "    return x\n",
    "    \n",
    "pool = Pool()\n",
    "rets = []\n",
    "for i in range(5):\n",
    "    ret = pool.apply(func, args=(i, ))\n",
    "    rets.append(ret)\n",
    "    \n",
    "pool.close()\n",
    "pool.join()"
   ]
  },
  {
   "cell_type": "markdown",
   "metadata": {},
   "source": [
    "pool.apply 返回的是 func 的结果"
   ]
  },
  {
   "cell_type": "markdown",
   "metadata": {},
   "source": [
    "### pool.apply_async"
   ]
  },
  {
   "cell_type": "code",
   "execution_count": 7,
   "metadata": {},
   "outputs": [
    {
     "name": "stdout",
     "output_type": "stream",
     "text": [
      "1\n",
      "2\n",
      "0\n",
      "3\n",
      "4\n",
      "<multiprocessing.pool.ApplyResult object at 0x10a03db00>\n",
      "0\n",
      "<multiprocessing.pool.ApplyResult object at 0x109fd0a20>\n",
      "1\n",
      "<multiprocessing.pool.ApplyResult object at 0x10a1107b8>\n",
      "2\n",
      "<multiprocessing.pool.ApplyResult object at 0x10a110b70>\n",
      "3\n",
      "<multiprocessing.pool.ApplyResult object at 0x10a1126a0>\n",
      "4\n"
     ]
    }
   ],
   "source": [
    "from multiprocessing import Pool\n",
    "\n",
    "def func(x):\n",
    "    print(x)\n",
    "    return x\n",
    "    \n",
    "pool = Pool()\n",
    "rets = []\n",
    "for i in range(5):\n",
    "    ret = pool.apply_async(func, args=(i, ))\n",
    "    rets.append(ret)\n",
    "    \n",
    "pool.close()\n",
    "pool.join()\n",
    "for ret in rets:\n",
    "    print(ret)\n",
    "    print(ret.get())"
   ]
  },
  {
   "cell_type": "markdown",
   "metadata": {},
   "source": [
    "实际上，`pool.apply` 就只是对 `pool.apply_async` 取了一个 get 而已，看[源码](https://github.com/python/cpython/blob/2d1cbe4193499914ccc9d217ea63eb17ff927c91/Lib/multiprocessing/pool.py#L352)"
   ]
  },
  {
   "cell_type": "code",
   "execution_count": 8,
   "metadata": {},
   "outputs": [],
   "source": [
    "def apply(self, func, args=(), kwds={}):\n",
    "    '''\n",
    "    Equivalent of `func(*args, **kwds)`.\n",
    "    Pool must be running.\n",
    "    '''\n",
    "    return self.apply_async(func, args, kwds).get()"
   ]
  },
  {
   "cell_type": "markdown",
   "metadata": {},
   "source": [
    "## map 和 starmap"
   ]
  },
  {
   "cell_type": "markdown",
   "metadata": {},
   "source": [
    "这个比较简单，map 只能接受单参数函数，而 starmap 可以接受多参数函数"
   ]
  },
  {
   "cell_type": "code",
   "execution_count": 12,
   "metadata": {},
   "outputs": [
    {
     "name": "stdout",
     "output_type": "stream",
     "text": [
      "x: 1 y: 1\n",
      "x: 0 y: 0\n",
      "x: 4 y: 4\n",
      "x: 2 y: 2\n",
      "x: 3 y: 3\n"
     ]
    }
   ],
   "source": [
    "def func(x, y):\n",
    "    print(\"x: {} y: {}\".format(x, y))\n",
    "\n",
    "pool = Pool()\n",
    "pool.starmap(func, zip(range(5), range(5))) #关键点，images是一个可迭代对象\n",
    "pool.close()\n",
    "pool.join()"
   ]
  },
  {
   "cell_type": "code",
   "execution_count": 14,
   "metadata": {},
   "outputs": [
    {
     "name": "stdout",
     "output_type": "stream",
     "text": [
      "0\n",
      "1\n",
      "2\n",
      "3\n",
      "4\n"
     ]
    }
   ],
   "source": [
    "def func(x):\n",
    "    print(x)\n",
    "\n",
    "pool = Pool()\n",
    "ret = pool.map(func, range(5)) #关键点，images是一个可迭代对象\n",
    "pool.close()\n",
    "pool.join()"
   ]
  },
  {
   "cell_type": "markdown",
   "metadata": {},
   "source": [
    "实际上，starmap 也是通过 map 来实现的，看[源码](https://github.com/python/cpython/blob/2d1cbe4193499914ccc9d217ea63eb17ff927c91/Lib/multiprocessing/pool.py#L374)"
   ]
  },
  {
   "cell_type": "code",
   "execution_count": 15,
   "metadata": {},
   "outputs": [],
   "source": [
    "def starmap(self, func, iterable, chunksize=None):\n",
    "    '''\n",
    "    Like `map()` method but the elements of the `iterable` are expected to\n",
    "    be iterables as well and will be unpacked as arguments. Hence\n",
    "    `func` and (a, b) becomes func(a, b).\n",
    "    '''\n",
    "    return self._map_async(func, iterable, starmapstar, chunksize).get()"
   ]
  },
  {
   "cell_type": "markdown",
   "metadata": {},
   "source": [
    "其中用到了一个 starmapstar 函数，这个函数在 [这里](https://github.com/python/cpython/blob/2d1cbe4193499914ccc9d217ea63eb17ff927c91/Lib/multiprocessing/pool.py#L50)"
   ]
  },
  {
   "cell_type": "code",
   "execution_count": 18,
   "metadata": {},
   "outputs": [],
   "source": [
    "def starmapstar(args):\n",
    "    return list(itertools.starmap(args[0], args[1]))"
   ]
  },
  {
   "cell_type": "markdown",
   "metadata": {},
   "source": [
    "其中还用到了 `self._map_async` 函数，这个函数就是 map，imap，starmap 底层的一个函数，其原型是"
   ]
  },
  {
   "cell_type": "code",
   "execution_count": 35,
   "metadata": {},
   "outputs": [],
   "source": [
    "def _map_async(self, func, iterable, mapper, chunksize=None, callback=None,\n",
    "        error_callback=None):\n",
    "    '''\n",
    "    Helper function to implement map, starmap and their async counterparts.\n",
    "    '''\n",
    "    pass"
   ]
  },
  {
   "cell_type": "markdown",
   "metadata": {},
   "source": [
    "可以看到，这个函数的 mapper 参数是一个函数，用来对 iterable 进行迭代。"
   ]
  },
  {
   "cell_type": "markdown",
   "metadata": {},
   "source": [
    "这个源代码没哟看明白。。。"
   ]
  },
  {
   "cell_type": "markdown",
   "metadata": {},
   "source": [
    "# References\n",
    "\n",
    "1. http://localhost:8888/lab/workspaces/auto-K/tree/learnPython/Python%20tqdm%20multiprocessing.ipynb\n",
    "2. [python - multiprocessing.Pool: What's the difference between map_async and imap? - Stack Overflow](https://stackoverflow.com/questions/26520781/multiprocessing-pool-whats-the-difference-between-map-async-and-imap/26521507#26521507)"
   ]
  }
 ],
 "metadata": {
  "kernelspec": {
   "display_name": "Python 3",
   "language": "python",
   "name": "python3"
  },
  "language_info": {
   "codemirror_mode": {
    "name": "ipython",
    "version": 3
   },
   "file_extension": ".py",
   "mimetype": "text/x-python",
   "name": "python",
   "nbconvert_exporter": "python",
   "pygments_lexer": "ipython3",
   "version": "3.7.3"
  }
 },
 "nbformat": 4,
 "nbformat_minor": 4
}
