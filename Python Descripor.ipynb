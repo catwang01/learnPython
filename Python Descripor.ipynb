{
 "cells": [
  {
   "cell_type": "markdown",
   "metadata": {},
   "source": [
    "---\n",
    "title: Python Descriptor\n",
    "tags: 小书匠,python,descriptor,property\n",
    "grammar_cjkRuby: true\n",
    "renderNumberedHeading: true\n",
    "---\n",
    "\n",
    "[toc]\n",
    "\n",
    "# Python Descriptor"
   ]
  },
  {
   "cell_type": "markdown",
   "metadata": {},
   "source": [
    "## 什么是 Descriptor\n",
    "\n",
    "Descriptor 是定义了 `__get__`、`__set__`、`__delete__` 其中任意一个方法的类"
   ]
  },
  {
   "cell_type": "markdown",
   "metadata": {},
   "source": [
    "## Descriptor 的作用"
   ]
  },
  {
   "cell_type": "markdown",
   "metadata": {},
   "source": [
    "Descriptors let objects customize attribute lookup, storage, and deletion.\n",
    "\n",
    "说白了，Descriptor 提供给我们一种能力：当我们访问某个属性的时候，我们实际上在运行一个函数并且获得这个函数的结果。这个功能听起来类似于 `@preporty` 提供的功能。"
   ]
  },
  {
   "cell_type": "code",
   "execution_count": 3,
   "metadata": {},
   "outputs": [
    {
     "name": "stdout",
     "output_type": "stream",
     "text": [
      "5\n",
      "10\n"
     ]
    }
   ],
   "source": [
    "class Ten:\n",
    "    def __get__(self, instance, owner=None):\n",
    "        return 10\n",
    "    \n",
    "class A:\n",
    "    x = 5                       # Regular class attribute\n",
    "    y = Ten()                   # Descriptor instance\n",
    "    \n",
    "a = A()\n",
    "print(a.x)\n",
    "print(a.y)"
   ]
  },
  {
   "cell_type": "markdown",
   "metadata": {},
   "source": [
    "其中 `__get__` 接受两个参数，`instance` 和 `owner`，其中 `instance` 是调用 descriptor 的对象，像这里的 `a`。`owner` 是 `instance` 对应的类。\n",
    "\n",
    "因为一个属性，即可以通过实例对象访问（由 `instance` 参数接受），又可以通过类访问（由 `owner` 接收）"
   ]
  },
  {
   "cell_type": "code",
   "execution_count": null,
   "metadata": {},
   "outputs": [],
   "source": [
    "object.__get__(self, instance, owner=None)\n",
    "object.__set__(self, instance, value)\n",
    "object.__delete__(self, instance)"
   ]
  },
  {
   "cell_type": "code",
   "execution_count": 8,
   "metadata": {},
   "outputs": [
    {
     "name": "stdout",
     "output_type": "stream",
     "text": [
      "5\n",
      "{}\n",
      "{'name': 1}\n"
     ]
    }
   ],
   "source": [
    "class DictDescriptor:\n",
    "    def __init__(self):\n",
    "        self.data = {}\n",
    "        \n",
    "    def __get__(self, instance, owner=None):\n",
    "        return self.data\n",
    "    \n",
    "class A:\n",
    "    x = 5                       # Regular class attribute\n",
    "    y = DictDescriptor()                   # Descriptor instance\n",
    "    \n",
    "a = A()\n",
    "print(a.x)\n",
    "print(a.y)\n",
    "a.y['name'] = 1\n",
    "print(a.y)"
   ]
  },
  {
   "cell_type": "markdown",
   "metadata": {},
   "source": [
    "Descriptor 的一个示例就是 `property`，可以查看 [Python property 原理解析与复现](https://app.yinxiang.com/shard/s54/nl/22483756/fa566faa-6e19-4118-9e74-422ee88a87cc/)"
   ]
  },
  {
   "cell_type": "markdown",
   "metadata": {},
   "source": [
    "# References\n",
    "\n",
    "- [Descriptor HowTo Guide — Python 3.9.4 documentation](https://docs.python.org/3/howto/descriptor.html#closing-thoughts)"
   ]
  },
  {
   "cell_type": "code",
   "execution_count": null,
   "metadata": {},
   "outputs": [],
   "source": []
  }
 ],
 "metadata": {
  "kernelspec": {
   "display_name": "Python 3",
   "language": "python",
   "name": "python3"
  },
  "language_info": {
   "codemirror_mode": {
    "name": "ipython",
    "version": 3
   },
   "file_extension": ".py",
   "mimetype": "text/x-python",
   "name": "python",
   "nbconvert_exporter": "python",
   "pygments_lexer": "ipython3",
   "version": "3.7.3"
  }
 },
 "nbformat": 4,
 "nbformat_minor": 4
}
