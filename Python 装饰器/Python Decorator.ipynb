{
 "cells": [
  {
   "cell_type": "markdown",
   "metadata": {},
   "source": [
    "---\n",
    "title: Python Decorator 装饰器 wrapper\n",
    "tags: 小书匠,python,built-in,decorater,decorator|wrapper|装饰器,functools,functools.wraps\n",
    "grammar_cjkRuby: true\n",
    "renderNumberedHeading: true\n",
    "---\n",
    "\n",
    "[toc]\n",
    "\n",
    "# Python Decorator 装饰器 wrapper"
   ]
  },
  {
   "cell_type": "markdown",
   "metadata": {},
   "source": [
    "## 什么是装饰器\n",
    "\n",
    "* 装饰器的本质是高阶函数（接受函数为参数的函数）\n",
    "\n",
    "```\n",
    "@b\n",
    "def a(i):\n",
    "    pass\n",
    "```\n",
    "\n",
    "上面的写法实际上是下面写法的语法糖，两者是等价的。\n",
    "\n",
    "```\n",
    "a = b(a)\n",
    "```\n",
    "\n",
    "只要抓住这一点，许多有关装饰器看起来很奇怪的特性也就能理解了"
   ]
  },
  {
   "cell_type": "markdown",
   "metadata": {},
   "source": [
    "## 什么时候使用装饰器"
   ]
  },
  {
   "cell_type": "markdown",
   "metadata": {},
   "source": [
    "一般在两种情况下可以使用装饰器：\n",
    "\n",
    "1. 需要修改一些函数的行为。如重试、记时\n",
    "2. 为函数运行提供环境，如添加缓存。（stateful decorator）"
   ]
  },
  {
   "cell_type": "markdown",
   "metadata": {},
   "source": [
    "## 无参数装饰器\n",
    "\n",
    "### 实例"
   ]
  },
  {
   "cell_type": "markdown",
   "metadata": {},
   "source": [
    "#### 例：函数调用时显示函数名\n",
    "\n",
    "```\n",
    "def debug(func):\n",
    "    def wrapper(*arg, **kwargs):\n",
    "        print(\"I am function： {}()\".format(func.__name__))\n",
    "        return func(*arg, **kwargs)\n",
    "    return wrapper\n",
    "\n",
    "@debug\n",
    "def test(name='ed'):\n",
    "    print('hello, I am', name)\n",
    "\n",
    "# 这实际上相当于 test = debug(test)\n",
    "\n",
    "if __name__==\"__main__\":\n",
    "    test()\n",
    "    test('yuki')\n",
    "\n",
    "```\n",
    "\n",
    "*   注意： `func.__name__` 会返回函数的名字。"
   ]
  },
  {
   "cell_type": "markdown",
   "metadata": {},
   "source": [
    "#### 例：为函数添加缓存"
   ]
  },
  {
   "cell_type": "markdown",
   "metadata": {},
   "source": [
    "*   可以利用装饰器和闭包来给函数添加缓存功能。\n",
    "*   由于装饰器只在函数定义时会运行一次。因此\n",
    "    *   不同函数的装饰器不会中的变量不会冲突。因为定义时会重新运行一次。\n",
    "    *   闭包给函数提供了环境，保证每次运行的结果都能保存在环境中\n",
    "    *   这种特点非常适合给函数添加计数器、计时器等功能\n",
    "\n",
    "```\n",
    "def memo(func):\n",
    "    cache = {} # 注意这句只会运行一次！相当于初始化环境变量，这和python的运行机制有关，可以查看另一篇与装饰器相关的笔记\n",
    "    def wrapper(*args):\n",
    "        if args not in cache:\n",
    "            cache[args] = func(*args)\n",
    "        return cache[args]\n",
    "    return wrapper\n",
    "\n",
    "@memo # 利用装饰器的方式调用，相当于fibonacci = memo(fibonacci)\n",
    "def fibonacci(n, cache=None):\n",
    "    if n<=1:\n",
    "        return 1\n",
    "    else:\n",
    "        return fibonacci(n -1) + fibonacci(n-2)\n",
    "\n",
    "fibonacci(50)\n",
    "\n",
    "```"
   ]
  },
  {
   "cell_type": "markdown",
   "metadata": {},
   "source": [
    "#### 例：计时器"
   ]
  },
  {
   "cell_type": "code",
   "execution_count": 1,
   "metadata": {},
   "outputs": [],
   "source": [
    "def timeit(func):\n",
    "    def wrapper(*args, **kwargs):\n",
    "        start = time.time()\n",
    "        ret = func(*args, **kwargs)\n",
    "        time_elapsed = time.time() - start\n",
    "        print('func: {name} used time {h:02d}:{m:02d}:{s:02d}'.format(name=func.__name__,\n",
    "                                                          h=int(time_elapsed / 3600),\n",
    "                                                          m=int(time_elapsed / 60 % 60),\n",
    "                                                          s=int(time_elapsed % 3600)\n",
    "                                                          ))\n",
    "        return ret   "
   ]
  },
  {
   "cell_type": "markdown",
   "metadata": {},
   "source": [
    "## 使用 functools.wrap"
   ]
  },
  {
   "cell_type": "markdown",
   "metadata": {},
   "source": [
    "我们希望，我们对装饰器的使用是透明的。"
   ]
  },
  {
   "cell_type": "code",
   "execution_count": 2,
   "metadata": {},
   "outputs": [
    {
     "name": "stdout",
     "output_type": "stream",
     "text": [
      "hello\n",
      "hello\n"
     ]
    }
   ],
   "source": [
    "def do_twice(func):\n",
    "    def wrapper(*args, **kwargs):\n",
    "        func(*args, **kwargs)\n",
    "        func(*args, **kwargs)\n",
    "    return wrapper\n",
    "    \n",
    "@do_twice\n",
    "def print_hello():\n",
    "    print('hello')\n",
    "\n",
    "print_hello()"
   ]
  },
  {
   "cell_type": "markdown",
   "metadata": {},
   "source": [
    "我们现在来输出一下关于 print_hello 的信息"
   ]
  },
  {
   "cell_type": "code",
   "execution_count": 3,
   "metadata": {},
   "outputs": [
    {
     "name": "stdout",
     "output_type": "stream",
     "text": [
      "wrapper\n",
      "<function do_twice.<locals>.wrapper at 0x10fb10d08>\n"
     ]
    }
   ],
   "source": [
    "print(print_hello.__name__)\n",
    "print(print_hello) # 显示是 do_twice 内部的一个函数 wrapper"
   ]
  },
  {
   "cell_type": "markdown",
   "metadata": {},
   "source": [
    "由于装饰器返回的是 wrapper 函数，因此经过装饰器装饰之后，我们调用的 print_hello 实际上是 wrapper 函数。因此，我们在查看 print_hello 信息的时候实际上返回的是 wrapp 函数的信息。\n",
    "\n",
    "我们通常希望，对装饰器的使用是透明的，也就是说，在调用 print_hello 时，我们感受不到装饰器的存在，即我们希望在输出关于 print_hello 的信息的时候，得到的不是 wrapper 函数的信息。\n",
    "\n",
    "可以使用 `functools.wrap` 来解决这个问题。\n",
    "\n",
    "注意，`functools.wraps` 只需要对最后返回的那个函数是使用。"
   ]
  },
  {
   "cell_type": "code",
   "execution_count": 4,
   "metadata": {},
   "outputs": [
    {
     "name": "stdout",
     "output_type": "stream",
     "text": [
      "hello\n",
      "hello\n"
     ]
    }
   ],
   "source": [
    "import functools\n",
    "\n",
    "def do_twice(func):\n",
    "    @functools.wraps(func)\n",
    "    def wrapper(*args, **kwargs):\n",
    "        func(*args, **kwargs)\n",
    "        func(*args, **kwargs)\n",
    "    return wrapper\n",
    "    \n",
    "@do_twice\n",
    "def print_hello():\n",
    "    print('hello')\n",
    "\n",
    "print_hello()"
   ]
  },
  {
   "cell_type": "code",
   "execution_count": 5,
   "metadata": {},
   "outputs": [
    {
     "name": "stdout",
     "output_type": "stream",
     "text": [
      "print_hello\n",
      "<function print_hello at 0x10fb106a8>\n"
     ]
    }
   ],
   "source": [
    "print(print_hello.__name__)\n",
    "print(print_hello)"
   ]
  },
  {
   "cell_type": "markdown",
   "metadata": {},
   "source": [
    "可以看到，`functools.wraps` 是一个装饰器，它接受函数func作为参数，它的作用实际上就是 func 的一些属性赋值给 wrapper，我们虽然调用的是 wrapper，但是当我们想查函数的一些信息的时候，查看的是 print_hello 的信息。他的实现比较简单，可以看 [这里](https://github.com/python/cpython/blob/5d4cb54800966947db2e86f65fb109c5067076be/Lib/functools.py#L34)"
   ]
  },
  {
   "cell_type": "markdown",
   "metadata": {},
   "source": [
    "## 为装饰器添加参数\n",
    "\n",
    "*   在装饰的外层再添加一个函数用来接受参数，并返回装饰器\n",
    "*   注意这种方法在没有参数的情况下也要用`@retry()` 调用，不能用 `@retry`\n",
    "\n",
    "#### 例：利用装饰器添加重试功能\n",
    "\n",
    "```\n",
    "def retry(attempt=3, captureError=Exception, raiseException=Exception, callback=None):\n",
    "    '''\n",
    "    捕捉到指定的异常captureError重试至多attempt次，重试失败时返回raiseException异常，并调用callback函数\n",
    "    '''\n",
    "    def wrapper_(func):\n",
    "        def wrapper(*args, **kwargs):\n",
    "            i = 0\n",
    "            while i<attempt:\n",
    "                try:\n",
    "                    return func(*args, **kwargs)\n",
    "                except Exception as e:\n",
    "                    i += 1\n",
    "                    print('retrying %s times...'%i)\n",
    "            else:\n",
    "                if callback is not None:\n",
    "                    callback()\n",
    "                raise raiseException\n",
    "        return wrapper\n",
    "\n",
    "    return wrapper_\n",
    "\n",
    "@retry(callback=lambda: print('file open error'))\n",
    "def test():\n",
    "    f = open('test','w')\n",
    "    raise Exception('I am exception')\n",
    "\n",
    "test()\n",
    "\n",
    "```\n",
    "\n",
    "*   注意：这个功能可以用python的retrying库代替，一般还是不要造轮子的为好。但是说不定在哪个服务器上跑没有权限安装retrying库呢？"
   ]
  },
  {
   "cell_type": "markdown",
   "metadata": {},
   "source": [
    "## 使用类作为装饰器"
   ]
  },
  {
   "cell_type": "markdown",
   "metadata": {},
   "source": [
    "由于装饰器是一个 Callable 对象，而类可以通过定义 `__call__` 方法将类变成 Callable 对象，因此可以使用类来作为装饰器。这样做的一个目的是为了使用类来保持状态，这在下一节中会有介绍。"
   ]
  },
  {
   "cell_type": "markdown",
   "metadata": {},
   "source": []
  },
  {
   "cell_type": "code",
   "execution_count": 6,
   "metadata": {},
   "outputs": [
    {
     "name": "stdout",
     "output_type": "stream",
     "text": [
      "hello\n",
      "func test runs 1 times\n",
      "hello\n",
      "func test runs 2 times\n",
      "test\n",
      "<__main__.Counter object at 0x10fb49cc0>\n"
     ]
    }
   ],
   "source": [
    "import functools\n",
    "class Counter:\n",
    "    def __init__(self, func):\n",
    "        self.count = 0\n",
    "        self.func = func\n",
    "        functools.wraps(func)(self)\n",
    "\n",
    "    def __call__(self, *args, **kwargs):\n",
    "        self.count += 1\n",
    "        ret = self.func(*args, **kwargs)\n",
    "        print(\"func {} runs {} times\".format(self.func.__name__, self.count))\n",
    "        return ret\n",
    "    \n",
    "@Counter\n",
    "def test():\n",
    "    print(\"hello\")\n",
    "    \n",
    "for i in range(2):\n",
    "    test()\n",
    "    \n",
    "print(test.__name__)\n",
    "print(test) # 美中不足，test 是一个类，不是一个函数"
   ]
  },
  {
   "cell_type": "markdown",
   "metadata": {},
   "source": [
    "我们来分析上面的代码，由于装饰器的语法是语法糖，因此\n",
    "\n",
    "```\n",
    "@Counter\n",
    "def test():\n",
    "    pass\n",
    "```\n",
    "\n",
    "相当于 \n",
    "\n",
    "```\n",
    "test = Counter(test)\n",
    "```\n",
    "\n",
    "而 Counter 是一个类，test 是 Counter 类的实例对象。我们希望将 test 当作一个函数使用，也就是希望 Counter 这个类包含 `__call__` 属性。`__call__` 函数的功能实际上和我们之前定义的 `wrapper` 函数相同。"
   ]
  },
  {
   "cell_type": "markdown",
   "metadata": {},
   "source": [
    "在上面的示例中，我们使用 `functools.wraps` 将 func 的一些属性赋值给 `self`。在函数中，我们是这样使用 `functools.wraps` 的\n",
    "\n",
    "```\n",
    "def decorator(func):\n",
    "    @functools.wraps(func):\n",
    "    def wrapper(*args, **kwargs):\n",
    "        func(*args, **kwargs)\n",
    "    return wrapper\n",
    "```\n",
    "\n",
    "由于 `@functools.wraps` 是语法糖，它实际上相当于 `wrapper = functools.wraps(func)(wrapper)`\n",
    "\n",
    "仿照这种用法，我们在类中应该像下面这样调用 `self = functools.wraps(func)(self)`，由于 `functools.wraps` 会直接修改 `self`，因此我们也不需要将结果赋值给 self，因此用 `functools.wraps(func)(self)` 即可。\n",
    "\n",
    "美中不足的是，由于现在的 test 实际上类的示例，不是一个函数，因此 `print(test)` 输出的信息不是函数，而是类。"
   ]
  },
  {
   "cell_type": "markdown",
   "metadata": {},
   "source": [
    "### 总结"
   ]
  },
  {
   "cell_type": "markdown",
   "metadata": {},
   "source": [
    "1. 为了使用类作为装饰器，我们需要定义 `__call__` 方法，同时，我们需要在 `__init__` 中接受 func 参数，这类似于带参数的函数装饰器接受参数。\n",
    "2. 我们需要定义 `__call__` 同时不需要像函数装饰器那样使用 `wrapper`，`__call__` 的功能就是 `wrapper` 的功能。\n",
    "3. 我们不能使用 `functools.wraps`，而要使用 `functools.update_wrapper(self, func)`，functools.wraps 作用是返回一个新函数，它实际上是 `functools.update_wrapper` 的一个 partial 版本。\n",
    "4. `__init__` 中可以定义一些变量用于保持状态。"
   ]
  },
  {
   "cell_type": "markdown",
   "metadata": {},
   "source": [
    "## 使用装饰器保存状态"
   ]
  },
  {
   "cell_type": "markdown",
   "metadata": {},
   "source": [
    "使用装饰器的一大原因是装饰器可以用来为函数提供环境，即保持状态，如添加缓存、计算函数调用次数等等。\n",
    "\n",
    "其中，有一个很大的坑"
   ]
  },
  {
   "cell_type": "markdown",
   "metadata": {},
   "source": [
    "### 坑！装饰器与可变参数\n",
    "\n",
    "*   先给出结论：装饰器中使用变量要注意，如果是用来保持状态的变量要用可变参数！不能用不可变参数！（注意：None 也是不可变参数！）\n",
    "*   原因：因为闭包是浅拷贝，如果是不可变对象，每次调用完成后符号都会被清空，导致错误"
   ]
  },
  {
   "cell_type": "markdown",
   "metadata": {},
   "source": [
    "### 1. 计数器\n",
    "\n",
    "##### 错误实例"
   ]
  },
  {
   "cell_type": "code",
   "execution_count": 7,
   "metadata": {},
   "outputs": [
    {
     "ename": "UnboundLocalError",
     "evalue": "local variable 'counter' referenced before assignment",
     "output_type": "error",
     "traceback": [
      "\u001b[0;31m---------------------------------------------------------------------------\u001b[0m",
      "\u001b[0;31mUnboundLocalError\u001b[0m                         Traceback (most recent call last)",
      "\u001b[0;32m<ipython-input-7-29d3d5c5769c>\u001b[0m in \u001b[0;36m<module>\u001b[0;34m\u001b[0m\n\u001b[1;32m     12\u001b[0m \u001b[0;34m\u001b[0m\u001b[0m\n\u001b[1;32m     13\u001b[0m \u001b[0;32mfor\u001b[0m \u001b[0mi\u001b[0m \u001b[0;32min\u001b[0m \u001b[0mrange\u001b[0m\u001b[0;34m(\u001b[0m\u001b[0;36m3\u001b[0m\u001b[0;34m)\u001b[0m\u001b[0;34m:\u001b[0m\u001b[0;34m\u001b[0m\u001b[0;34m\u001b[0m\u001b[0m\n\u001b[0;32m---> 14\u001b[0;31m     \u001b[0mtest\u001b[0m\u001b[0;34m(\u001b[0m\u001b[0;34m)\u001b[0m\u001b[0;34m\u001b[0m\u001b[0;34m\u001b[0m\u001b[0m\n\u001b[0m",
      "\u001b[0;32m<ipython-input-7-29d3d5c5769c>\u001b[0m in \u001b[0;36mwrapper\u001b[0;34m(*args, **kwargs)\u001b[0m\n\u001b[1;32m      2\u001b[0m     \u001b[0mcounter\u001b[0m \u001b[0;34m=\u001b[0m \u001b[0;36m0\u001b[0m\u001b[0;34m\u001b[0m\u001b[0;34m\u001b[0m\u001b[0m\n\u001b[1;32m      3\u001b[0m     \u001b[0;32mdef\u001b[0m \u001b[0mwrapper\u001b[0m\u001b[0;34m(\u001b[0m\u001b[0;34m*\u001b[0m\u001b[0margs\u001b[0m\u001b[0;34m,\u001b[0m \u001b[0;34m**\u001b[0m\u001b[0mkwargs\u001b[0m\u001b[0;34m)\u001b[0m\u001b[0;34m:\u001b[0m\u001b[0;34m\u001b[0m\u001b[0;34m\u001b[0m\u001b[0m\n\u001b[0;32m----> 4\u001b[0;31m         \u001b[0mcounter\u001b[0m \u001b[0;34m+=\u001b[0m \u001b[0;36m1\u001b[0m\u001b[0;34m\u001b[0m\u001b[0;34m\u001b[0m\u001b[0m\n\u001b[0m\u001b[1;32m      5\u001b[0m         \u001b[0mprint\u001b[0m\u001b[0;34m(\u001b[0m\u001b[0;34m'Run funciton %s %s times'\u001b[0m\u001b[0;34m%\u001b[0m\u001b[0;34m(\u001b[0m\u001b[0mfunc\u001b[0m\u001b[0;34m.\u001b[0m\u001b[0m__name__\u001b[0m\u001b[0;34m,\u001b[0m \u001b[0mcounter\u001b[0m\u001b[0;34m)\u001b[0m\u001b[0;34m)\u001b[0m\u001b[0;34m\u001b[0m\u001b[0;34m\u001b[0m\u001b[0m\n\u001b[1;32m      6\u001b[0m         \u001b[0;32mreturn\u001b[0m \u001b[0mfunc\u001b[0m\u001b[0;34m(\u001b[0m\u001b[0;34m*\u001b[0m\u001b[0margs\u001b[0m\u001b[0;34m,\u001b[0m \u001b[0;34m**\u001b[0m\u001b[0mkwargs\u001b[0m\u001b[0;34m)\u001b[0m\u001b[0;34m\u001b[0m\u001b[0;34m\u001b[0m\u001b[0m\n",
      "\u001b[0;31mUnboundLocalError\u001b[0m: local variable 'counter' referenced before assignment"
     ]
    }
   ],
   "source": [
    "def simplecounter(func):\n",
    "    counter = 0\n",
    "    def wrapper(*args, **kwargs):\n",
    "        counter += 1\n",
    "        print('Run funciton %s %s times'%(func.__name__, counter))\n",
    "        return func(*args, **kwargs)\n",
    "    return wrapper\n",
    "\n",
    "@simplecounter\n",
    "def test():\n",
    "    print('this is test!')\n",
    "\n",
    "for i in range(3):\n",
    "    test()"
   ]
  },
  {
   "cell_type": "markdown",
   "metadata": {},
   "source": [
    "*   结果发现错误：\n",
    "\n",
    "```\n",
    "UnboundLocalError: local variable 'counter' referenced before assignment\n",
    "\n",
    "```\n",
    "\n",
    "*   最后发现引发这个错误的原因是`counter` 是一个int类型，不可变对象。这才会发现这种错误，因此需要将其修改为可变对象，最常见的可变对象就是list了。"
   ]
  },
  {
   "cell_type": "markdown",
   "metadata": {},
   "source": [
    "##### 修改法1：使用可变对象\n",
    "\n",
    "*   将 `counter` 定义成可变对象"
   ]
  },
  {
   "cell_type": "code",
   "execution_count": 8,
   "metadata": {},
   "outputs": [
    {
     "name": "stdout",
     "output_type": "stream",
     "text": [
      "Run funciton test 1 times\n",
      "this is test!\n",
      "Run funciton test 2 times\n",
      "this is test!\n",
      "Run funciton test 3 times\n",
      "this is test!\n"
     ]
    }
   ],
   "source": [
    "def simplecounter(func):\n",
    "    counter = [0]\n",
    "    def wrapper(*args, **kwargs):\n",
    "        counter[0] += 1\n",
    "        print('Run funciton %s %s times'%(func.__name__, counter[0]))\n",
    "        return func(*args, **kwargs)\n",
    "    return wrapper\n",
    "\n",
    "@simplecounter\n",
    "def test():\n",
    "    print('this is test!')\n",
    "\n",
    "for i in range(3):\n",
    "    test()"
   ]
  },
  {
   "cell_type": "markdown",
   "metadata": {},
   "source": [
    "##### 修改法2 使用 nonlocal\n",
    "\n",
    "*   用 `nonlocal` 关键字"
   ]
  },
  {
   "cell_type": "code",
   "execution_count": 9,
   "metadata": {},
   "outputs": [
    {
     "name": "stdout",
     "output_type": "stream",
     "text": [
      "Run funciton test 1 times\n",
      "this is test!\n",
      "Run funciton test 2 times\n",
      "this is test!\n",
      "Run funciton test 3 times\n",
      "this is test!\n"
     ]
    }
   ],
   "source": [
    "def simplecounter(func):\n",
    "    counter = 0\n",
    "    def wrapper(*args, **kwargs):\n",
    "        nonlocal counter\n",
    "        counter += 1\n",
    "        print('Run funciton %s %s times'%(func.__name__, counter))\n",
    "        return func(*args, **kwargs)\n",
    "    return wrapper\n",
    "\n",
    "@simplecounter\n",
    "def test():\n",
    "    print('this is test!')\n",
    "\n",
    "for i in range(3):\n",
    "    test()"
   ]
  },
  {
   "cell_type": "markdown",
   "metadata": {},
   "source": [
    "##### 修改法三：使用对象装饰器（Best Practice）"
   ]
  },
  {
   "cell_type": "code",
   "execution_count": 10,
   "metadata": {},
   "outputs": [
    {
     "name": "stdout",
     "output_type": "stream",
     "text": [
      "this is test!\n",
      "Run funciton test 1 times\n",
      "this is test!\n",
      "Run funciton test 2 times\n",
      "this is test!\n",
      "Run funciton test 3 times\n"
     ]
    }
   ],
   "source": [
    "class SimpleCounter:\n",
    "    def __init__(self, func):\n",
    "        self.func = func\n",
    "        self.counter = 0\n",
    "        \n",
    "    def __call__(self, *args, **kwargs):\n",
    "        self.counter += 1\n",
    "        ret = self.func(*args, **kwargs)\n",
    "        print('Run funciton %s %s times'%(self.func.__name__, self.counter))\n",
    "        return ret\n",
    "\n",
    "@SimpleCounter\n",
    "def test():\n",
    "    print('this is test!')\n",
    "\n",
    "for i in range(3):\n",
    "    test()"
   ]
  },
  {
   "cell_type": "markdown",
   "metadata": {},
   "source": [
    "#### 限制每10秒调用一次"
   ]
  },
  {
   "cell_type": "code",
   "execution_count": 11,
   "metadata": {},
   "outputs": [
    {
     "name": "stdout",
     "output_type": "stream",
     "text": [
      "hello world\n",
      "can't run function in a short time! Please wait for 10 sec!\n",
      "can't run function in a short time! Please wait for 10 sec!\n",
      "can't run function in a short time! Please wait for 10 sec!\n",
      "can't run function in a short time! Please wait for 10 sec!\n",
      "hello world\n",
      "can't run function in a short time! Please wait for 10 sec!\n",
      "can't run function in a short time! Please wait for 10 sec!\n",
      "can't run function in a short time! Please wait for 10 sec!\n",
      "can't run function in a short time! Please wait for 10 sec!\n"
     ]
    }
   ],
   "source": [
    "import time\n",
    "\n",
    "def limit_time(time_span=10):\n",
    "    start_time = [0]\n",
    "    def wrapper(func):\n",
    "        def wrapper_func(*args, **kwargs):\n",
    "            now = time.time()\n",
    "            if now - start_time[0] >= time_span:\n",
    "                start_time[0] = now\n",
    "                return func(*args, **kwargs)\n",
    "            else:\n",
    "                print(\"can't run function in a short time! Please wait for {} sec!\".format(time_span))\n",
    "        return wrapper_func\n",
    "\n",
    "    return wrapper\n",
    "\n",
    "@limit_time()\n",
    "def test():\n",
    "    print('hello world')\n",
    "\n",
    "for i in range(10):\n",
    "    test()\n",
    "    time.sleep(2)"
   ]
  },
  {
   "cell_type": "markdown",
   "metadata": {},
   "source": [
    "# References\n",
    "- http://localhost:8888/lab/tree/learnPython/Python%20%E8%A3%85%E9%A5%B0%E5%99%A8/Python%20Decorator.ipynb\n",
    "*   [浅谈Python装饰器-限制函数调用次数的方法 - 简书](https://www.jianshu.com/p/6202e6bce558)\n",
    "*   [详解Python的装饰器 - 一试就错](https://www.cnblogs.com/cicaday/p/python-decorator.html)\n",
    "*   [python使用装饰器记录函数执行次数 - 吃不胖的程序猿历程 - CSDN博客](https://blog.csdn.net/qq_31603575/article/details/80011287)\n",
    "- https://github.com/python/cpython/blob/5d4cb54800966947db2e86f65fb109c5067076be/Lib/functools.py\n",
    "- [Primer on Python Decorators – Real Python](https://realpython.com/primer-on-python-decorators/)"
   ]
  }
 ],
 "metadata": {
  "kernelspec": {
   "display_name": "Python 3",
   "language": "python",
   "name": "python3"
  },
  "language_info": {
   "codemirror_mode": {
    "name": "ipython",
    "version": 3
   },
   "file_extension": ".py",
   "mimetype": "text/x-python",
   "name": "python",
   "nbconvert_exporter": "python",
   "pygments_lexer": "ipython3",
   "version": "3.7.3"
  }
 },
 "nbformat": 4,
 "nbformat_minor": 4
}
