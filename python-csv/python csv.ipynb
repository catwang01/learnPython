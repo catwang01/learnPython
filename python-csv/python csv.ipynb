{
 "cells": [
  {
   "cell_type": "markdown",
   "metadata": {},
   "source": [
    "---\n",
    "title: Python csv\n",
    "tags: 小书匠,csv,python,built-in\n",
    "grammar_cjkRuby: true\n",
    "---\n",
    "\n",
    "[toc!]\n",
    "\n",
    "# Python csv"
   ]
  },
  {
   "cell_type": "markdown",
   "metadata": {},
   "source": [
    "## reader 和 writer"
   ]
  },
  {
   "cell_type": "markdown",
   "metadata": {},
   "source": [
    "### reader"
   ]
  },
  {
   "cell_type": "markdown",
   "metadata": {},
   "source": [
    "#### 读取 csv"
   ]
  },
  {
   "cell_type": "code",
   "execution_count": 1,
   "metadata": {},
   "outputs": [],
   "source": [
    "import csv\n",
    "\n",
    "csvname= 'test.csv'\n",
    "\n",
    "with open(csvname, 'w') as f:\n",
    "    f.write(\"name,id\\n\")\n",
    "    f.write(\"edward,1\\n\")\n",
    "    f.write(\"yuki,2\\n\")\n",
    "\n",
    "with open(csvname) as f:\n",
    "    reader = csv.reader(f)\n",
    "    for row in reader:\n",
    "        print(row)"
   ]
  },
  {
   "cell_type": "markdown",
   "metadata": {},
   "source": [
    "#### 修改 delimiter='\\t' 读取 tsv"
   ]
  },
  {
   "cell_type": "code",
   "execution_count": 3,
   "metadata": {},
   "outputs": [
    {
     "name": "stdout",
     "output_type": "stream",
     "text": [
      "['name', 'id']\n",
      "['edward', '1']\n",
      "['yuki', '2']\n"
     ]
    }
   ],
   "source": [
    "tsvname= 'test.tsv'\n",
    "\n",
    "with open(tsvname, 'w') as f:\n",
    "    f.write(\"name\\tid\\n\")\n",
    "    f.write(\"edward\\t1\\n\")\n",
    "    f.write(\"yuki\\t2\\n\")\n",
    "\n",
    "with open(tsvname) as f:\n",
    "    reader = csv.reader(f, delimiter='\\t')\n",
    "    for row in reader:\n",
    "        print(row)"
   ]
  },
  {
   "cell_type": "markdown",
   "metadata": {},
   "source": [
    "### writer"
   ]
  },
  {
   "cell_type": "code",
   "execution_count": 4,
   "metadata": {},
   "outputs": [],
   "source": [
    "rows = [['edward', 123], ['yuki', 423]]\n",
    "\n",
    "with open(csvname + '.new', 'w') as f:\n",
    "    writer = csv.writer(f, delimiter='\\t')\n",
    "    writer.writerows(rows)"
   ]
  },
  {
   "cell_type": "code",
   "execution_count": 5,
   "metadata": {},
   "outputs": [
    {
     "name": "stdout",
     "output_type": "stream",
     "text": [
      "edward\t123\n",
      "yuki\t423\n"
     ]
    }
   ],
   "source": [
    "!cat test.csv.new  "
   ]
  },
  {
   "cell_type": "markdown",
   "metadata": {},
   "source": [
    "## DictReader 和 DictWriter"
   ]
  },
  {
   "cell_type": "markdown",
   "metadata": {},
   "source": [
    "### DictReader"
   ]
  },
  {
   "cell_type": "code",
   "execution_count": 6,
   "metadata": {},
   "outputs": [
    {
     "name": "stdout",
     "output_type": "stream",
     "text": [
      "{'name': 'edward', 'id': '1'}\n",
      "{'name': 'yuki', 'id': '2'}\n"
     ]
    }
   ],
   "source": [
    "with open(csvname) as f:\n",
    "    reader = csv.DictReader(f)\n",
    "    for row in reader:\n",
    "        print(row)"
   ]
  },
  {
   "cell_type": "markdown",
   "metadata": {},
   "source": [
    "如果想从 reader 中获取列名，可以使用"
   ]
  },
  {
   "cell_type": "code",
   "execution_count": 15,
   "metadata": {},
   "outputs": [
    {
     "data": {
      "text/plain": [
       "['Name', 'Id']"
      ]
     },
     "execution_count": 15,
     "metadata": {},
     "output_type": "execute_result"
    }
   ],
   "source": [
    "reader.fieldnames"
   ]
  },
  {
   "cell_type": "markdown",
   "metadata": {},
   "source": [
    "可以提供列名， 但是如果提供了列名，那么就不会将第一行当作 header"
   ]
  },
  {
   "cell_type": "code",
   "execution_count": 7,
   "metadata": {},
   "outputs": [
    {
     "name": "stdout",
     "output_type": "stream",
     "text": [
      "{'Name': 'name', 'Id': 'id'}\n",
      "{'Name': 'edward', 'Id': '1'}\n",
      "{'Name': 'yuki', 'Id': '2'}\n"
     ]
    }
   ],
   "source": [
    "with open(csvname) as f:\n",
    "    fieldnames = ['Name', 'Id']\n",
    "    reader = csv.DictReader(f, fieldnames=fieldnames)\n",
    "    for row in reader: \n",
    "        print(row)"
   ]
  },
  {
   "cell_type": "markdown",
   "metadata": {},
   "source": [
    "### DictWriter"
   ]
  },
  {
   "cell_type": "code",
   "execution_count": 8,
   "metadata": {},
   "outputs": [],
   "source": [
    "rows = [{\"Name\": 'edward', 'id': 1}, {\"Name\": \"yuki\", 'id': 2}]\n",
    "\n",
    "with open(csvname + '.new', 'w') as f:\n",
    "    writer = csv.DictWriter(f, delimiter='\\t', fieldnames=['Name', 'id'])\n",
    "    writer.writerows(rows)"
   ]
  },
  {
   "cell_type": "code",
   "execution_count": 9,
   "metadata": {},
   "outputs": [
    {
     "name": "stdout",
     "output_type": "stream",
     "text": [
      "edward\t1\n",
      "yuki\t2\n"
     ]
    }
   ],
   "source": [
    "!cat test.csv.new"
   ]
  },
  {
   "cell_type": "markdown",
   "metadata": {},
   "source": [
    "如果要写入 header，可以用 `writer.writeheader`"
   ]
  },
  {
   "cell_type": "code",
   "execution_count": 10,
   "metadata": {},
   "outputs": [],
   "source": [
    "rows = [{\"Name\": 'edward', 'id': 1}, {\"Name\": \"yuki\", 'id': 2}]\n",
    "\n",
    "with open(csvname + '.new', 'w') as f:\n",
    "    writer = csv.DictWriter(f, delimiter='\\t', fieldnames=['Name', 'id'])\n",
    "    writer.writeheader()\n",
    "    writer.writerows(rows)"
   ]
  },
  {
   "cell_type": "code",
   "execution_count": 11,
   "metadata": {},
   "outputs": [
    {
     "name": "stdout",
     "output_type": "stream",
     "text": [
      "Name\tid\n",
      "edward\t1\n",
      "yuki\t2\n"
     ]
    }
   ],
   "source": [
    "!cat test.csv.new"
   ]
  },
  {
   "cell_type": "markdown",
   "metadata": {},
   "source": [
    "# References\n",
    "1. http://localhost:8888/lab/tree/learnPython/python-csv/Python%20csv.ipynb\n",
    "2. [csv — CSV File Reading and Writing — Python 3.9.1 documentation](https://docs.python.org/3/library/csv.html)"
   ]
  }
 ],
 "metadata": {
  "hide_input": false,
  "kernelspec": {
   "display_name": "Python 3",
   "language": "python",
   "name": "python3"
  },
  "language_info": {
   "codemirror_mode": {
    "name": "ipython",
    "version": 3
   },
   "file_extension": ".py",
   "mimetype": "text/x-python",
   "name": "python",
   "nbconvert_exporter": "python",
   "pygments_lexer": "ipython3",
   "version": "3.7.3"
  },
  "toc": {
   "base_numbering": 1,
   "nav_menu": {},
   "number_sections": true,
   "sideBar": true,
   "skip_h1_title": false,
   "title_cell": "Table of Contents",
   "title_sidebar": "Contents",
   "toc_cell": false,
   "toc_position": {
    "height": "calc(100% - 180px)",
    "left": "10px",
    "top": "150px",
    "width": "288px"
   },
   "toc_section_display": true,
   "toc_window_display": true
  },
  "varInspector": {
   "cols": {
    "lenName": 16,
    "lenType": 16,
    "lenVar": 40
   },
   "kernels_config": {
    "python": {
     "delete_cmd_postfix": "",
     "delete_cmd_prefix": "del ",
     "library": "var_list.py",
     "varRefreshCmd": "print(var_dic_list())"
    },
    "r": {
     "delete_cmd_postfix": ") ",
     "delete_cmd_prefix": "rm(",
     "library": "var_list.r",
     "varRefreshCmd": "cat(var_dic_list()) "
    }
   },
   "types_to_exclude": [
    "module",
    "function",
    "builtin_function_or_method",
    "instance",
    "_Feature"
   ],
   "window_display": false
  }
 },
 "nbformat": 4,
 "nbformat_minor": 4
}
