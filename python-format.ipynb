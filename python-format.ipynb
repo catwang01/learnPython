{
 "cells": [
  {
   "cell_type": "markdown",
   "metadata": {},
   "source": [
    "[toc]\n",
    "\n",
    "# Python format 格式化"
   ]
  },
  {
   "cell_type": "markdown",
   "metadata": {},
   "source": [
    "## 转义`{}`"
   ]
  },
  {
   "cell_type": "markdown",
   "metadata": {
    "ExecuteTime": {
     "end_time": "2020-08-30T08:23:41.736044Z",
     "start_time": "2020-08-30T08:23:41.730113Z"
    },
    "variables": {
     "</code> 代替 <code>{</code> , 用 <code>": "<p><strong>SyntaxError</strong>: invalid syntax (<ipython-input-9-3a90b71e0fac>, line 1)</p>\n"
    }
   },
   "source": [
    "`'hello {name}.format(name='world')'` 的时候大括号是特殊转义字符，如果需要原始的大括号，用 `{{` 代替 `{` , 用 `}}` 代替 `}`， 如下:"
   ]
  },
  {
   "cell_type": "code",
   "execution_count": 9,
   "metadata": {
    "ExecuteTime": {
     "end_time": "2020-08-30T08:23:45.401525Z",
     "start_time": "2020-08-30T08:23:45.395994Z"
    },
    "variables": {
     "worlds in braces!": "<p><strong>SyntaxError</strong>: invalid syntax (<ipython-input-2-c78aa741a164>, line 1)</p>\n",
     "代替{, 用": "<p><strong>SyntaxError</strong>: invalid syntax (<ipython-input-2-8099156ebff9>, line 1)</p>\n"
    }
   },
   "outputs": [
    {
     "data": {
      "text/plain": [
       "'hello {worlds in braces!}, zhangsan'"
      ]
     },
     "execution_count": 9,
     "metadata": {},
     "output_type": "execute_result"
    }
   ],
   "source": [
    "'hello {{worlds in braces!}}, {name}'.format(name='zhangsan')"
   ]
  },
  {
   "cell_type": "markdown",
   "metadata": {},
   "source": [
    "## 左右对齐"
   ]
  },
  {
   "cell_type": "markdown",
   "metadata": {},
   "source": [
    "假设，我们想打印出 \n",
    "\n",
    "```\n",
    "Yuki    200\n",
    "Wang    300\n",
    "Edward  100\n",
    "```\n",
    "\n",
    "这样的效果，我们可以使用下面的代码"
   ]
  },
  {
   "cell_type": "code",
   "execution_count": 10,
   "metadata": {
    "ExecuteTime": {
     "end_time": "2020-08-30T08:23:47.514588Z",
     "start_time": "2020-08-30T08:23:47.508827Z"
    }
   },
   "outputs": [
    {
     "name": "stdout",
     "output_type": "stream",
     "text": [
      "Wang    300\n",
      "Edward  100\n",
      "Yuki    200\n"
     ]
    }
   ],
   "source": [
    "d = {\"Edward\": 100, \"Yuki\": 200, \"Wang\": 300}\n",
    "\n",
    "for k, v in d.items():\n",
    "    print(\"{:<8}{}\".format(k, v))"
   ]
  },
  {
   "cell_type": "markdown",
   "metadata": {},
   "source": [
    "### str.ljust str.rjust str.center"
   ]
  },
  {
   "cell_type": "markdown",
   "metadata": {},
   "source": [
    "其中，{:<8} 的语法表示做对齐，总长度为 8，如果不满8，则在字符串左侧填充至 8。类似的语法还有 右对齐 {:>8}, 居中对齐 {:^8} 。\n",
    "\n",
    "使用 str.ljust, str.rjust, str.center 方法也可以得到类似的效果，见下面的例子。"
   ]
  },
  {
   "cell_type": "code",
   "execution_count": 3,
   "metadata": {
    "ExecuteTime": {
     "end_time": "2020-08-30T08:16:02.419031Z",
     "start_time": "2020-08-30T08:16:02.413151Z"
    }
   },
   "outputs": [
    {
     "name": "stdout",
     "output_type": "stream",
     "text": [
      "abc=======\n",
      "=======abc\n",
      "===abc====\n"
     ]
    }
   ],
   "source": [
    "s = \"abc\"\n",
    "\n",
    "print(s.ljust(10, '='))\n",
    "print(s.rjust(10, '='))\n",
    "print(s.center(10, '='))"
   ]
  },
  {
   "cell_type": "markdown",
   "metadata": {},
   "source": [
    "### str.format"
   ]
  },
  {
   "cell_type": "markdown",
   "metadata": {},
   "source": [
    "下面是使用 format 实现相同的效果。注意，填充符号（这里是`=`） 在 `:` 之后"
   ]
  },
  {
   "cell_type": "code",
   "execution_count": 11,
   "metadata": {
    "ExecuteTime": {
     "end_time": "2020-08-30T08:18:41.650675Z",
     "start_time": "2020-08-30T08:18:41.646106Z"
    }
   },
   "outputs": [
    {
     "name": "stdout",
     "output_type": "stream",
     "text": [
      "abc=======\n",
      "=======abc\n",
      "===abc====\n"
     ]
    }
   ],
   "source": [
    "s = \"abc\"\n",
    "\n",
    "print(\"{:=<10}\".format(s))\n",
    "print(\"{:=>10}\".format(s))\n",
    "print(\"{:=^10}\".format(s))"
   ]
  },
  {
   "cell_type": "markdown",
   "metadata": {},
   "source": [
    "## 精度设置"
   ]
  },
  {
   "cell_type": "code",
   "execution_count": 12,
   "metadata": {},
   "outputs": [
    {
     "data": {
      "text/plain": [
       "'3.2'"
      ]
     },
     "execution_count": 12,
     "metadata": {},
     "output_type": "execute_result"
    }
   ],
   "source": [
    "\"{:.2}\".format(3.154) #保留两位有效数字"
   ]
  },
  {
   "cell_type": "code",
   "execution_count": 13,
   "metadata": {},
   "outputs": [
    {
     "data": {
      "text/plain": [
       "'3.15'"
      ]
     },
     "execution_count": 13,
     "metadata": {},
     "output_type": "execute_result"
    }
   ],
   "source": [
    "\"{:.2f}\".format(3.154) # 小数点后保留两位有效数字"
   ]
  },
  {
   "cell_type": "markdown",
   "metadata": {},
   "source": [
    "## 输出为指定进制"
   ]
  },
  {
   "cell_type": "code",
   "execution_count": 8,
   "metadata": {},
   "outputs": [
    {
     "name": "stdout",
     "output_type": "stream",
     "text": [
      "二进制 10010\n",
      "八进制 22\n",
      "十进制 18\n",
      "16进制 12\n"
     ]
    }
   ],
   "source": [
    "print(\"二进制 {:b}\".format(18))\n",
    "print(\"八进制 {:o}\".format(18))\n",
    "print(\"十进制 {:d}\".format(18))\n",
    "print(\"16进制 {:x}\".format(18))"
   ]
  },
  {
   "cell_type": "markdown",
   "metadata": {},
   "source": [
    " # References\n",
    "- [python字符串中包含大括号时怎么使用sting的.format方法？ - 简书](https://www.jianshu.com/p/8500da66567b)\n",
    "- [python（字符串的左中右对齐） - 简书](https://www.jianshu.com/p/882e87b89cd1)\n",
    "- [format 的几种使用方法 - 天马行宇 - 博客园](https://www.cnblogs.com/yuanyongqiang/articles/9707961.html)"
   ]
  }
 ],
 "metadata": {
  "hide_input": false,
  "kernelspec": {
   "display_name": "Python 3",
   "language": "python",
   "name": "python3"
  },
  "language_info": {
   "codemirror_mode": {
    "name": "ipython",
    "version": 3
   },
   "file_extension": ".py",
   "mimetype": "text/x-python",
   "name": "python",
   "nbconvert_exporter": "python",
   "pygments_lexer": "ipython3",
   "version": "3.8.5"
  },
  "toc": {
   "base_numbering": 1,
   "nav_menu": {},
   "number_sections": true,
   "sideBar": true,
   "skip_h1_title": false,
   "title_cell": "Table of Contents",
   "title_sidebar": "Contents",
   "toc_cell": false,
   "toc_position": {},
   "toc_section_display": true,
   "toc_window_display": true
  },
  "varInspector": {
   "cols": {
    "lenName": 16,
    "lenType": 16,
    "lenVar": 40
   },
   "kernels_config": {
    "python": {
     "delete_cmd_postfix": "",
     "delete_cmd_prefix": "del ",
     "library": "var_list.py",
     "varRefreshCmd": "print(var_dic_list())"
    },
    "r": {
     "delete_cmd_postfix": ") ",
     "delete_cmd_prefix": "rm(",
     "library": "var_list.r",
     "varRefreshCmd": "cat(var_dic_list()) "
    }
   },
   "types_to_exclude": [
    "module",
    "function",
    "builtin_function_or_method",
    "instance",
    "_Feature"
   ],
   "window_display": false
  }
 },
 "nbformat": 4,
 "nbformat_minor": 2
}
