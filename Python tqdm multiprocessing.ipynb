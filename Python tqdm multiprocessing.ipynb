{
 "cells": [
  {
   "cell_type": "markdown",
   "metadata": {},
   "source": [
    "---\n",
    "title: Python tqdm multiprocessing\n",
    "tags: 小书匠,python,tqdm,multiprocessing\n",
    "grammar_cjkRuby: true\n",
    "# renderNumberedHeading: true\n",
    "---\n",
    "\n",
    "[toc!]\n",
    "\n",
    "# Python tqdm multiprocessing"
   ]
  },
  {
   "cell_type": "code",
   "execution_count": 1,
   "metadata": {},
   "outputs": [
    {
     "name": "stderr",
     "output_type": "stream",
     "text": [
      "multiprocessing calling: 100%|██████████| 40/40 [00:50<00:00,  1.25s/it]"
     ]
    },
    {
     "name": "stdout",
     "output_type": "stream",
     "text": [
      "耗时： 50.14053702354431\n"
     ]
    },
    {
     "name": "stderr",
     "output_type": "stream",
     "text": [
      "\n"
     ]
    }
   ],
   "source": [
    "from multiprocessing import Pool\n",
    "from tqdm import tqdm \n",
    "import time\n",
    "\n",
    "t1 = time.time()\n",
    "\n",
    "params = [0] * 40\n",
    "\n",
    "def func(x):\n",
    "    time.sleep(5)\n",
    "\n",
    "with Pool(4) as p:\n",
    "    res = list(tqdm(p.imap(func, params), total=len(params), desc=\"multiprocessing calling\"))\n",
    "\n",
    "p.close()\n",
    "p.join()\n",
    "\n",
    "t2 = time.time()\n",
    "print('耗时：', (t2 - t1))\n"
   ]
  },
  {
   "cell_type": "markdown",
   "metadata": {},
   "source": [
    "可以看到，func 被调用了 40 次，如果是单进程，理论用时 40 * 5 = 200 s。\n",
    "而这里开了 4 个进程，理论用时可以压缩到 5 * 10 = 50s，而程序最后的用时也和这个时间相近，因此多线程加速有效"
   ]
  },
  {
   "cell_type": "markdown",
   "metadata": {},
   "source": [
    "# References\n",
    "1. http://localhost:8888/lab/workspaces/auto-K/tree/learnPython/Python%20tqdm%20multiprocessing.ipynb"
   ]
  }
 ],
 "metadata": {
  "kernelspec": {
   "display_name": "Python 3",
   "language": "python",
   "name": "python3"
  },
  "language_info": {
   "codemirror_mode": {
    "name": "ipython",
    "version": 3
   },
   "file_extension": ".py",
   "mimetype": "text/x-python",
   "name": "python",
   "nbconvert_exporter": "python",
   "pygments_lexer": "ipython3",
   "version": "3.7.3"
  }
 },
 "nbformat": 4,
 "nbformat_minor": 4
}
