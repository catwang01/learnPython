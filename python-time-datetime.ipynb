{
 "cells": [
  {
   "cell_type": "markdown",
   "metadata": {},
   "source": [
    "[toc]\n",
    "\n",
    "# Python Time 和 datetime\n",
    "\n",
    "- 时间戳（timestamp）：从1970年1月1日开始计算的秒数\n",
    "- 时间元组：用9个元素的元组来描述时间，包括年月日时分秒等\n",
    "- time.time() 返回时间戳\n",
    "\n",
    "\n",
    "将时间戳转化为时间元组（用一个9元组来表示时间，python的time模板中进一步封装为struct_time对象）\n",
    "\n",
    "时间戳和时间元组都不是可以直观反映时间的。要想直观反映时间，需要转化为字符串"
   ]
  },
  {
   "cell_type": "markdown",
   "metadata": {},
   "source": [
    "## time"
   ]
  },
  {
   "cell_type": "markdown",
   "metadata": {
    "ExecuteTime": {
     "end_time": "2020-10-18T08:24:08.093757Z",
     "start_time": "2020-10-18T08:24:08.090965Z"
    }
   },
   "source": [
    "### 时间戳和struct_time互相转化\n",
    "\n",
    "#### time.localtime() 返回当前时间的struct_time"
   ]
  },
  {
   "cell_type": "code",
   "execution_count": 1,
   "metadata": {
    "ExecuteTime": {
     "end_time": "2020-10-18T08:25:39.443505Z",
     "start_time": "2020-10-18T08:25:39.436315Z"
    }
   },
   "outputs": [
    {
     "data": {
      "text/plain": [
       "time.struct_time(tm_year=2020, tm_mon=10, tm_mday=18, tm_hour=16, tm_min=25, tm_sec=39, tm_wday=6, tm_yday=292, tm_isdst=0)"
      ]
     },
     "execution_count": 1,
     "metadata": {},
     "output_type": "execute_result"
    }
   ],
   "source": [
    "import time\n",
    "time.localtime()"
   ]
  },
  {
   "cell_type": "markdown",
   "metadata": {},
   "source": [
    "### time.mktime(struct_time) \n",
    "\n",
    "struct_time 转化为时间戳"
   ]
  },
  {
   "cell_type": "code",
   "execution_count": 2,
   "metadata": {
    "ExecuteTime": {
     "end_time": "2020-10-18T08:25:39.457811Z",
     "start_time": "2020-10-18T08:25:39.454508Z"
    }
   },
   "outputs": [
    {
     "data": {
      "text/plain": [
       "time.struct_time(tm_year=2020, tm_mon=10, tm_mday=18, tm_hour=16, tm_min=25, tm_sec=39, tm_wday=6, tm_yday=292, tm_isdst=0)"
      ]
     },
     "execution_count": 2,
     "metadata": {},
     "output_type": "execute_result"
    }
   ],
   "source": [
    "import time\n",
    "\n",
    "time.localtime() # 返回当前时间的struct_time\n",
    "time.localtime(time.time()) # 将时间戳转化为时间元组"
   ]
  },
  {
   "cell_type": "markdown",
   "metadata": {
    "ExecuteTime": {
     "end_time": "2020-10-18T08:25:04.785610Z",
     "start_time": "2020-10-18T08:25:04.780798Z"
    }
   },
   "source": [
    "## struct_time和字符串互相转化\n",
    "\n",
    "### time.strftime(format, struct_time) 将struct_time格式化为字符串\n",
    "\n",
    "### time.strptime(string, format) 从字符串中解析出struct_time\n",
    "\n",
    "- strftime: string format time\n",
    "- strptime: string parse time\n",
    "\n",
    "    "
   ]
  },
  {
   "cell_type": "code",
   "execution_count": 3,
   "metadata": {
    "ExecuteTime": {
     "end_time": "2020-10-18T08:25:39.477471Z",
     "start_time": "2020-10-18T08:25:39.473035Z"
    }
   },
   "outputs": [
    {
     "data": {
      "text/plain": [
       "time.struct_time(tm_year=2019, tm_mon=7, tm_mday=8, tm_hour=19, tm_min=20, tm_sec=32, tm_wday=0, tm_yday=189, tm_isdst=-1)"
      ]
     },
     "execution_count": 3,
     "metadata": {},
     "output_type": "execute_result"
    }
   ],
   "source": [
    "import time\n",
    "\n",
    "# 缺省相当于 time.strtime(time.localtime())\n",
    "time.strftime('%Y-%m-%d %H:%M:%S')\n",
    "\n",
    "time.strptime('2019-07-08 19:20:32', '%Y-%m-%d %H:%M:%S')"
   ]
  },
  {
   "cell_type": "markdown",
   "metadata": {
    "ExecuteTime": {
     "end_time": "2020-10-18T08:24:21.686518Z",
     "start_time": "2020-10-18T08:24:21.680650Z"
    }
   },
   "source": [
    "### demo\n",
    "\n",
    "#### 返回当前时间字符串"
   ]
  },
  {
   "cell_type": "code",
   "execution_count": 4,
   "metadata": {
    "ExecuteTime": {
     "end_time": "2020-10-18T08:25:39.493732Z",
     "start_time": "2020-10-18T08:25:39.491617Z"
    }
   },
   "outputs": [],
   "source": [
    "import time\n",
    "def get_time():\n",
    "    return time.strftime(\"%Y-%m-%d %H:%M:%S\")"
   ]
  },
  {
   "cell_type": "markdown",
   "metadata": {
    "ExecuteTime": {
     "end_time": "2020-10-18T08:18:18.234463Z",
     "start_time": "2020-10-18T08:18:18.226609Z"
    }
   },
   "source": [
    "## datetime\n",
    "\n",
    "- datetime.datetime.now() 返回当前的datetime"
   ]
  },
  {
   "cell_type": "code",
   "execution_count": 5,
   "metadata": {
    "ExecuteTime": {
     "end_time": "2020-10-18T08:25:39.512626Z",
     "start_time": "2020-10-18T08:25:39.508798Z"
    }
   },
   "outputs": [
    {
     "data": {
      "text/plain": [
       "datetime.datetime(2020, 10, 16, 16, 59, 5, 851176)"
      ]
     },
     "execution_count": 5,
     "metadata": {},
     "output_type": "execute_result"
    }
   ],
   "source": [
    "import datetime\n",
    "datetime.datetime.now()\n",
    "datetime.datetime(2020, 10, 16, 16, 59, 5, 851176)"
   ]
  },
  {
   "cell_type": "markdown",
   "metadata": {
    "ExecuteTime": {
     "end_time": "2020-10-18T08:22:18.525554Z",
     "start_time": "2020-10-18T08:22:18.522552Z"
    }
   },
   "source": [
    "### demo"
   ]
  },
  {
   "cell_type": "code",
   "execution_count": 6,
   "metadata": {
    "ExecuteTime": {
     "end_time": "2020-10-18T08:25:39.530534Z",
     "start_time": "2020-10-18T08:25:39.527715Z"
    }
   },
   "outputs": [],
   "source": [
    "#### 输出成字符串"
   ]
  },
  {
   "cell_type": "code",
   "execution_count": 7,
   "metadata": {
    "ExecuteTime": {
     "end_time": "2020-10-18T08:25:39.535579Z",
     "start_time": "2020-10-18T08:25:39.532499Z"
    }
   },
   "outputs": [
    {
     "name": "stdout",
     "output_type": "stream",
     "text": [
      "2020-10-18\n"
     ]
    }
   ],
   "source": [
    "import datetime\n",
    "\n",
    "now = datetime.datetime.now()\n",
    "print(now.strftime(\"%Y-%m-%d\"))"
   ]
  },
  {
   "cell_type": "markdown",
   "metadata": {
    "ExecuteTime": {
     "end_time": "2020-10-18T08:22:25.305903Z",
     "start_time": "2020-10-18T08:22:25.303106Z"
    }
   },
   "source": [
    "#### 遍历日期区间"
   ]
  },
  {
   "cell_type": "code",
   "execution_count": 8,
   "metadata": {
    "ExecuteTime": {
     "end_time": "2020-10-18T08:25:39.551600Z",
     "start_time": "2020-10-18T08:25:39.547574Z"
    }
   },
   "outputs": [
    {
     "name": "stdout",
     "output_type": "stream",
     "text": [
      "2014-06-01\n",
      "2014-06-02\n",
      "2014-06-03\n",
      "2014-06-04\n",
      "2014-06-05\n",
      "2014-06-06\n",
      "2014-06-07\n"
     ]
    }
   ],
   "source": [
    "import datetime\n",
    "\n",
    "begin = datetime.date(2014,6,1)\n",
    "end = datetime.date(2014,6,7)\n",
    "delta = datetime.timedelta(days=1)\n",
    "while begin <= end:\n",
    "    print(begin.strftime(\"%Y-%m-%d\"))\n",
    "    begin += delta"
   ]
  },
  {
   "cell_type": "markdown",
   "metadata": {
    "ExecuteTime": {
     "end_time": "2020-10-18T08:22:50.483123Z",
     "start_time": "2020-10-18T08:22:50.477467Z"
    }
   },
   "source": [
    "#### 对日期进行排序\n",
    "\n",
    "- 对datetime对象进行排序，需要\n",
    "    1. 先转化为 string\n",
    "    2. 然后用 `time.strptime` 转化为 struct_time 对象\n",
    "    3. 用 `time.mktime` 将 struct_time 对象转化为时间戳，这样就可以进行比较了"
   ]
  },
  {
   "cell_type": "code",
   "execution_count": 9,
   "metadata": {
    "ExecuteTime": {
     "end_time": "2020-10-18T08:25:39.570338Z",
     "start_time": "2020-10-18T08:25:39.565178Z"
    }
   },
   "outputs": [
    {
     "data": {
      "text/plain": [
       "[datetime.date(2014, 4, 2), datetime.date(2014, 6, 1)]"
      ]
     },
     "execution_count": 9,
     "metadata": {},
     "output_type": "execute_result"
    }
   ],
   "source": [
    "import time\n",
    "import datetime\n",
    "\n",
    "dates = [datetime.date(2014, 6, 1), datetime.date(2014, 4, 2)]\n",
    "\n",
    "def transform_to_sec(date):\n",
    "    date_string = str(date) # 1. 转化为string\n",
    "    structtime = time.strptime(date_string, '%Y-%m-%d') # 2. 从string转化为 struct_time\n",
    "    return time.mktime(structtime) # 3. 从struct_time 转化为秒\n",
    "\n",
    "sorted(dates, key=transform_to_sec) # 排序"
   ]
  }
 ],
 "metadata": {
  "hide_input": false,
  "kernelspec": {
   "display_name": "Python 3",
   "language": "python",
   "name": "python3"
  },
  "language_info": {
   "codemirror_mode": {
    "name": "ipython",
    "version": 3
   },
   "file_extension": ".py",
   "mimetype": "text/x-python",
   "name": "python",
   "nbconvert_exporter": "python",
   "pygments_lexer": "ipython3",
   "version": "3.7.3"
  },
  "toc": {
   "base_numbering": 1,
   "nav_menu": {},
   "number_sections": true,
   "sideBar": true,
   "skip_h1_title": false,
   "title_cell": "Table of Contents",
   "title_sidebar": "Contents",
   "toc_cell": false,
   "toc_position": {},
   "toc_section_display": true,
   "toc_window_display": false
  },
  "varInspector": {
   "cols": {
    "lenName": 16,
    "lenType": 16,
    "lenVar": 40
   },
   "kernels_config": {
    "python": {
     "delete_cmd_postfix": "",
     "delete_cmd_prefix": "del ",
     "library": "var_list.py",
     "varRefreshCmd": "print(var_dic_list())"
    },
    "r": {
     "delete_cmd_postfix": ") ",
     "delete_cmd_prefix": "rm(",
     "library": "var_list.r",
     "varRefreshCmd": "cat(var_dic_list()) "
    }
   },
   "types_to_exclude": [
    "module",
    "function",
    "builtin_function_or_method",
    "instance",
    "_Feature"
   ],
   "window_display": false
  }
 },
 "nbformat": 4,
 "nbformat_minor": 2
}
