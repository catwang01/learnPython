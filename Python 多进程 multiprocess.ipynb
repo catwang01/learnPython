{
 "cells": [
  {
   "cell_type": "markdown",
   "metadata": {},
   "source": [
    "---\n",
    "title: Python 多进程 Multiprocessing\n",
    "tags: 小书匠,Multiprocessing,Python,apply,map,Pool\n",
    "grammar_cjkRuby: true\n",
    "renderNumberedHeading: true\n",
    "---\n",
    "\n",
    "[toc!]\n",
    "\n",
    "# Python 多进程 Multiprocessing\n",
    "\n",
    "- 多进程的使用（适用于CPU密集型操作）\n",
    "- 使用`multiprocessing`.\n",
    "\n",
    "## 简单使用"
   ]
  },
  {
   "cell_type": "markdown",
   "metadata": {},
   "source": [
    "### 实现方法一"
   ]
  },
  {
   "cell_type": "code",
   "execution_count": 7,
   "metadata": {
    "attributes": {
     "classes": [
      "py"
     ],
     "id": ""
    }
   },
   "outputs": [
    {
     "name": "stdout",
     "output_type": "stream",
     "text": [
      "测试Python多进程\n",
      "测试Python多进程\n",
      "测试Python多进程\n",
      "测试Python多进程\n",
      "测试Python多进程\n",
      "结束测试\n"
     ]
    }
   ],
   "source": [
    "from multiprocessing import  Process\n",
    "\n",
    "def fun1(name):\n",
    "    print('测试%s多进程' %name)\n",
    "\n",
    "process_list = []\n",
    "for i in range(5):  #开启5个子进程执行fun1函数\n",
    "    p = Process(target=fun1, args=('Python',)) #实例化进程对象\n",
    "    p.start()\n",
    "    process_list.append(p)\n",
    "\n",
    "for i in process_list:\n",
    "    p.join()\n",
    "\n",
    "print('结束测试')"
   ]
  },
  {
   "cell_type": "markdown",
   "metadata": {},
   "source": [
    "### 实现方法二"
   ]
  },
  {
   "cell_type": "code",
   "execution_count": 8,
   "metadata": {},
   "outputs": [
    {
     "name": "stdout",
     "output_type": "stream",
     "text": [
      "测试Python多进程\n",
      "测试Python多进程\n",
      "测试Python多进程\n",
      "测试Python多进程\n",
      "测试Python多进程\n",
      "结束测试\n"
     ]
    }
   ],
   "source": [
    "from multiprocessing import  Process\n",
    "\n",
    "class MyProcess(Process): #继承Process类\n",
    "    def __init__(self,name):\n",
    "        super(MyProcess,self).__init__()\n",
    "        self.name = name\n",
    "\n",
    "    def run(self):\n",
    "        print('测试%s多进程' % self.name)\n",
    "\n",
    "\n",
    "process_list = []\n",
    "for i in range(5):  #开启5个子进程执行fun1函数\n",
    "    p = MyProcess('Python') #实例化进程对象\n",
    "    p.start()\n",
    "    process_list.append(p)\n",
    "\n",
    "for i in process_list:\n",
    "    p.join()\n",
    "\n",
    "print('结束测试')"
   ]
  },
  {
   "cell_type": "markdown",
   "metadata": {},
   "source": [
    "## 使用进行池\n",
    "\n",
    "这是用生产消费者模式来进行任务调度，是比较常规的使用场景，Pool() 内部维护了一个任务队列，类似于生产者消费之模型"
   ]
  },
  {
   "cell_type": "markdown",
   "metadata": {},
   "source": [
    "### 使用 apply 函数"
   ]
  },
  {
   "cell_type": "markdown",
   "metadata": {},
   "source": [
    "### func 是单参数函数的情形"
   ]
  },
  {
   "cell_type": "code",
   "execution_count": 28,
   "metadata": {
    "attributes": {
     "classes": [
      "py"
     ],
     "id": ""
    }
   },
   "outputs": [
    {
     "name": "stdout",
     "output_type": "stream",
     "text": [
      "Worker 0 starts!\n",
      "Worker 1 starts!\n",
      "Worker 2 starts!\n",
      "Worker 3 starts!\n",
      "Worker 4 starts!\n",
      "0\n",
      "1\n",
      "2\n",
      "3\n",
      "4\n"
     ]
    }
   ],
   "source": [
    "from multiprocessing import Pool\n",
    "\n",
    "def func(i):\n",
    "    print('Worker %s starts!'%i)\n",
    "    return i\n",
    "\n",
    "results = []\n",
    "pool = Pool()\n",
    "for i in range(5):\n",
    "    # 用error_callback 来处理使用子进程的错误信息，否则子进程如果报错也不会出现错误提示\n",
    "    result = pool.apply_async(func, args=(i,), error_callback=print)\n",
    "    results.append(result)\n",
    "pool.close()\n",
    "pool.join()\n",
    "\n",
    "# 如果函数有返回，可以通过.get()方法获得\n",
    "for result in results:\n",
    "    print(result.get())"
   ]
  },
  {
   "cell_type": "markdown",
   "metadata": {},
   "source": [
    "### func 是多参数函数的情形"
   ]
  },
  {
   "cell_type": "code",
   "execution_count": 34,
   "metadata": {},
   "outputs": [
    {
     "name": "stdout",
     "output_type": "stream",
     "text": [
      "Worker 3 starts! I print 4\n",
      "Worker 1 starts! I print 2\n",
      "Worker 2 starts! I print 3\n",
      "Worker 0 starts! I print 1\n",
      "Worker 4 starts! I print 5\n",
      "(0, 1)\n",
      "(1, 2)\n",
      "(2, 3)\n",
      "(3, 4)\n",
      "(4, 5)\n"
     ]
    }
   ],
   "source": [
    "from multiprocessing import Pool\n",
    "\n",
    "def func(i, j):\n",
    "    print('Worker %s starts! I print %d' %(i, j))\n",
    "    return i, j\n",
    "\n",
    "results = []\n",
    "pool = Pool()\n",
    "for i in range(5):\n",
    "    # 用error_callback 来处理使用子进程的错误信息，否则子进程如果报错也不会出现错误提示\n",
    "    result = pool.apply_async(func, args=(i, i+1), error_callback=print)\n",
    "    results.append(result)\n",
    "pool.close()\n",
    "pool.join()\n",
    "\n",
    "# 如果函数有返回，可以通过.get()方法获得\n",
    "for result in results:\n",
    "    print(result.get())"
   ]
  },
  {
   "cell_type": "markdown",
   "metadata": {},
   "source": [
    "注意：\n",
    "1. 注意，如果func不接受参数，要写成 args=(); 如果 func 只接受一个参数i，一定要写成(i,)，不能写成(i)，因为 (i, ) 是元素为 i 的 tuple，而 (i) 相当于 i，不是 tuple; 如果用 list 传参就没有这个问题，直接用 [i] 就可以。\n",
    "2. 使用 error_callback函数来指定报错\n",
    "3. Pool() 没有参数时，默认创建 `os.cpu_count()` 多个线程"
   ]
  },
  {
   "cell_type": "markdown",
   "metadata": {},
   "source": [
    "### 使用 map 类型"
   ]
  },
  {
   "cell_type": "markdown",
   "metadata": {},
   "source": [
    "#### map"
   ]
  },
  {
   "cell_type": "markdown",
   "metadata": {},
   "source": [
    "pool.map 类似与内置的 map 函数，只能对**单参数函数**使用"
   ]
  },
  {
   "cell_type": "code",
   "execution_count": 29,
   "metadata": {},
   "outputs": [
    {
     "name": "stdout",
     "output_type": "stream",
     "text": [
      "0\n",
      "3\n",
      "1\n",
      "2\n",
      "4\n",
      "[0, 1, 2, 3, 4]\n"
     ]
    }
   ],
   "source": [
    "def func(x):\n",
    "    print(x)\n",
    "    return x\n",
    "\n",
    "pool = Pool()\n",
    "ret = pool.map(func, range(5)) #关键点，images是一个可迭代对象\n",
    "pool.close()\n",
    "pool.join()\n",
    "print(ret) # 结果直接可以用，不像 apply 的结果，还需要 .get() 获取"
   ]
  },
  {
   "cell_type": "markdown",
   "metadata": {},
   "source": [
    "#### starmap"
   ]
  },
  {
   "cell_type": "markdown",
   "metadata": {},
   "source": [
    "starmap 可以对 **多参数函数** 使用，但是**不能**对单参数函数使用。"
   ]
  },
  {
   "cell_type": "code",
   "execution_count": 36,
   "metadata": {},
   "outputs": [
    {
     "name": "stdout",
     "output_type": "stream",
     "text": [
      "6\n",
      "0\n",
      "4\n",
      "2\n",
      "8\n"
     ]
    }
   ],
   "source": [
    "def func(x, y):\n",
    "    print(x + y)\n",
    "\n",
    "pool = Pool()\n",
    "pool.starmap(func, zip(range(5), range(5))) #关键点，images是一个可迭代对象\n",
    "pool.close()\n",
    "pool.join()"
   ]
  },
  {
   "cell_type": "markdown",
   "metadata": {},
   "source": [
    "\n",
    "## 其它辅助\n",
    "\n",
    "### 获取 cpu 数"
   ]
  },
  {
   "cell_type": "code",
   "execution_count": 18,
   "metadata": {},
   "outputs": [
    {
     "data": {
      "text/plain": [
       "8"
      ]
     },
     "execution_count": 18,
     "metadata": {},
     "output_type": "execute_result"
    }
   ],
   "source": [
    "import os\n",
    "os.cpu_count()"
   ]
  },
  {
   "cell_type": "markdown",
   "metadata": {},
   "source": [
    "# References\n",
    "1. http://localhost:8888/lab/workspaces/auto-K/tree/learnPython/Python%20%E5%A4%9A%E8%BF%9B%E7%A8%8B%20multiprocess.ipynb\n",
    "5. [multiprocessing — Process-based parallelism — Python 3.9.2 documentation](https://docs.python.org/3/library/multiprocessing.html#multiprocessing.pool.Pool.starmap)\n",
    "3. [python - How to use multiprocessing pool.map with multiple arguments? - Stack Overflow](https://stackoverflow.com/questions/5442910/how-to-use-multiprocessing-pool-map-with-multiple-arguments)\n",
    "1. [Python程序中的进程操作-进程池(multiprocess.Pool） - 二十三岁的有德 - 博客园](https://www.cnblogs.com/nickchen121/p/11130258.html#%E5%85%AB%E3%80%81%E5%9B%9E%E8%B0%83%E5%87%BD%E6%95%B0)\n",
    "2. [一篇文章搞定Python多进程(全) - 知乎](https://zhuanlan.zhihu.com/p/64702600)"
   ]
  }
 ],
 "metadata": {
  "kernelspec": {
   "display_name": "Python 3",
   "language": "python",
   "name": "python3"
  },
  "language_info": {
   "codemirror_mode": {
    "name": "ipython",
    "version": 3
   },
   "file_extension": ".py",
   "mimetype": "text/x-python",
   "name": "python",
   "nbconvert_exporter": "python",
   "pygments_lexer": "ipython3",
   "version": "3.7.3"
  }
 },
 "nbformat": 4,
 "nbformat_minor": 4
}
