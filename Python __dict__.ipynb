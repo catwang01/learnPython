{
 "cells": [
  {
   "cell_type": "markdown",
   "metadata": {},
   "source": [
    "[toc]\n",
    "\n",
    "# Python `__dict__`"
   ]
  },
  {
   "cell_type": "markdown",
   "metadata": {},
   "source": [
    "### 类的`__dict__`属性和类对象的`__dict__`属性"
   ]
  },
  {
   "cell_type": "code",
   "execution_count": 1,
   "metadata": {},
   "outputs": [
    {
     "name": "stdout",
     "output_type": "stream",
     "text": [
      "class __dict__: {'__module__': '__main__', 'count': 0, '__init__': <function TestDict.__init__ at 0x7fcff82601f0>, 'test': <function TestDict.test at 0x7fcff8260280>, 'static_test': <staticmethod object at 0x7fcff8265ac0>, 'class_test': <classmethod object at 0x7fcff8265d60>, '__dict__': <attribute '__dict__' of 'TestDict' objects>, '__weakref__': <attribute '__weakref__' of 'TestDict' objects>, '__doc__': None}\n",
      "\n",
      "class obj __dict__: {'a': 2, 'b': 3}\n"
     ]
    }
   ],
   "source": [
    "# -*- coding: utf-8 -*-\n",
    "# from pprint import pprint as print\n",
    "\n",
    "class TestDict(object):\n",
    "\n",
    "    count = 0\n",
    "\n",
    "    def __init__(self):\n",
    "        self.a = 2\n",
    "        self.b = 3\n",
    "\n",
    "    def test(self):\n",
    "        print('a normal func.')\n",
    "\n",
    "    @staticmethod\n",
    "    def static_test():\n",
    "        print('a static func.')\n",
    "\n",
    "    @classmethod\n",
    "    def class_test(cls):\n",
    "        print('a class func.')\n",
    "\n",
    "if __name__ == '__main__':\n",
    "    obj = TestDict()\n",
    "    print('class __dict__:', TestDict.__dict__)\n",
    "    print()\n",
    "    print('class obj __dict__:', obj.__dict__)"
   ]
  },
  {
   "cell_type": "markdown",
   "metadata": {},
   "source": [
    "输出结果\n",
    "\n",
    "### 类的`__dict__`:\n",
    "\n",
    "```\n",
    "class __dict__: {'__module__': '__main__', 'count': 0, '__init__': <function TestDict.__init__ at 0x7fec585fd4c0>, 'test': <function TestDict.test at 0x7fec585fdc10>, 'static_test': <staticmethod object at 0x7fec58607430>, 'class_test': <classmethod object at 0x7fec58607940>, '__dict__': <attribute '__dict__' of 'TestDict' objects>, '__weakref__': <attribute '__weakref__' of 'TestDict' objects>, '__doc__': None}\n",
    "```\n",
    "\n",
    "类**dict**里存放类的下列属性\n",
    "\n",
    "1. 静态函数，`@staticmethod` 修饰的函数，如上面的 `static_test`\n",
    "2. 类函数, `@classmethod` 修饰的函数，如上面的 `class_test`\n",
    "3. 普通函数, 如上面的 `test`\n",
    "4. 全局变量, 如上面的 `count`\n",
    "5. 一些内置的属性，如上面的 `__module__`, `__weakref__`, `__doc__` 等\n",
    "\n",
    "### 类对象的`__dict__`\n",
    "\n",
    "```\n",
    "class obj __dict__: {'a': 2, 'b': 3}\n",
    "```\n",
    "\n",
    "类对象的`__dict__`存放类的属性:`self.xxx`"
   ]
  },
  {
   "cell_type": "code",
   "execution_count": 2,
   "metadata": {},
   "outputs": [],
   "source": [
    "## 继承关系中的`__dict__`"
   ]
  },
  {
   "cell_type": "code",
   "execution_count": 3,
   "metadata": {},
   "outputs": [
    {
     "name": "stdout",
     "output_type": "stream",
     "text": [
      "Parent __dict__: {'__module__': '__main__', 'a': 0, 'b': 1, '__init__': <function Parent.__init__ at 0x7fcfe91774c0>, 'parent_test': <function Parent.parent_test at 0x7fcff82608b0>, '__dict__': <attribute '__dict__' of 'Parent' objects>, '__weakref__': <attribute '__weakref__' of 'Parent' objects>, '__doc__': None}\n",
      "Child __dict__: {'__module__': '__main__', 'a': 4, 'b': 5, '__init__': <function Child.__init__ at 0x7fcff8260700>, 'child_test': <function Child.child_test at 0x7fcff8260670>, '__doc__': None}\n",
      "Parent obj __dict__: {'a': 2, 'b': 3}\n",
      "Child obj __dict__: {'a': 2, 'b': 7, 'c': 8}\n"
     ]
    }
   ],
   "source": [
    "class Parent(object):\n",
    "    a = 0\n",
    "    b = 1\n",
    "\n",
    "    def __init__(self):\n",
    "        self.a = 2\n",
    "        self.b = 3\n",
    "\n",
    "    def parent_test(self):\n",
    "        pass\n",
    "\n",
    "class Child(Parent):\n",
    "    a = 4\n",
    "    b = 5\n",
    "\n",
    "    def __init__(self):\n",
    "        super(Child, self).__init__()\n",
    "        self.b = 7\n",
    "        self.c = 8\n",
    "\n",
    "    def child_test(self):\n",
    "        pass\n",
    "\n",
    "if __name__ == '__main__':\n",
    "    parent_obj = Parent()\n",
    "    child_obj = Child()\n",
    "    print('Parent __dict__:', Parent.__dict__)\n",
    "    print('Child __dict__:', Child.__dict__)\n",
    "    print('Parent obj __dict__:', parent_obj.__dict__)\n",
    "    print('Child obj __dict__:', child_obj.__dict__)"
   ]
  },
  {
   "cell_type": "markdown",
   "metadata": {},
   "source": [
    "输出\n",
    "\n",
    "```bash\n",
    "('Parent __dict__:', dict_proxy({'a': 0, '__module__': '__main__', 'b': 1, 'parent_test': <function parent_test at 0x10c5e12a8>, '__dict__': <attribute '__dict__' of 'Parent' objects>, '__weakref__': <attribute '__weakref__' of 'Parent' objects>, '__doc__': None, '__init__': <function __init__ at 0x10c5e10c8>}))\n",
    "('Child __dict__:', dict_proxy({'a': 4, '__module__': '__main__', 'b': 5, '__doc__': None, '__init__': <function __init__ at 0x10c6bdd70>, 'child_test': <function child_test at 0x10c6bdde8>}))\n",
    "('Parent obj __dict__:', {'a': 2, 'b': 3})\n",
    "('Child obj __dict__:', {'a': 2, 'c': 8, 'b': 7})\n",
    "\n",
    "```\n",
    "\n",
    "可以看出\n",
    "\n",
    "*   继承关系，父类的`__dict__`并不会影响子类的`__dict__`因为, 子类`__init__`初始化了父类的`__init__`, 才会将父类对象的属性加到子类对象的 `__dict__`"
   ]
  },
  {
   "cell_type": "markdown",
   "metadata": {},
   "source": [
    "## 应用\n",
    "\n",
    "python中，用`__dict__`可以达到一些简化代码的目的"
   ]
  },
  {
   "cell_type": "markdown",
   "metadata": {},
   "source": [
    "### 例1: 简化创建属性操作"
   ]
  },
  {
   "cell_type": "code",
   "execution_count": 4,
   "metadata": {},
   "outputs": [],
   "source": [
    "class Person:\n",
    "    def __init__(self,_obj):\n",
    "        self.name = _obj['name']\n",
    "        self.age = _obj['age']\n",
    "        self.energy = _obj['energy']\n",
    "        self.gender = _obj['gender']\n",
    "        self.email = _obj['email']\n",
    "        self.phone = _obj['phone']\n",
    "        self.country = _obj['country']"
   ]
  },
  {
   "cell_type": "markdown",
   "metadata": {},
   "source": [
    "是不是很繁琐？用 `__dict__` 一句话就可以搞定"
   ]
  },
  {
   "cell_type": "code",
   "execution_count": 5,
   "metadata": {},
   "outputs": [],
   "source": [
    "class Person:\n",
    "    def __init__(self,_obj):\n",
    "        self.__dict__.update(_obj)"
   ]
  },
  {
   "cell_type": "markdown",
   "metadata": {},
   "source": [
    "### 例2: `__repr__` 中使用"
   ]
  },
  {
   "cell_type": "code",
   "execution_count": 6,
   "metadata": {},
   "outputs": [
    {
     "name": "stdout",
     "output_type": "stream",
     "text": [
      "<__main__.Person object at 0x7fcff82654f0>\n"
     ]
    }
   ],
   "source": [
    "class Person:\n",
    "    def __init__(self, name, age, gender):\n",
    "        self.name = name\n",
    "        self.age = age\n",
    "        self.gender = gender\n",
    "        \n",
    "person = Person(\"edward\", 13, 'male')\n",
    "print(person)"
   ]
  },
  {
   "cell_type": "markdown",
   "metadata": {},
   "source": [
    "我们输出出来的是 `<__main__.Person object at 0x7fec5860f940>`，这种默认输出没有携带我们想要的信息。"
   ]
  },
  {
   "cell_type": "markdown",
   "metadata": {},
   "source": [
    "可以利用 `__dict__` 实现简单的信息输出"
   ]
  },
  {
   "cell_type": "code",
   "execution_count": 7,
   "metadata": {},
   "outputs": [
    {
     "name": "stdout",
     "output_type": "stream",
     "text": [
      "{'name': 'edward', 'age': 13, 'gender': 'male'}\n"
     ]
    }
   ],
   "source": [
    "class Person:\n",
    "    def __init__(self, name, age, gender):\n",
    "        self.name = name\n",
    "        self.age = age\n",
    "        self.gender = gender\n",
    "    \n",
    "    def __repr__(self):\n",
    "        return str(self.__dict__)\n",
    "person = Person(\"edward\", 13, 'male')\n",
    "print(person)"
   ]
  },
  {
   "cell_type": "markdown",
   "metadata": {},
   "source": [
    "比较高端一点的，我们可以小小格式化一下，让它看起来更好看一些"
   ]
  },
  {
   "cell_type": "code",
   "execution_count": 8,
   "metadata": {},
   "outputs": [
    {
     "name": "stdout",
     "output_type": "stream",
     "text": [
      "Person(name=edward, age=13, gender=male)\n"
     ]
    }
   ],
   "source": [
    "class Person:\n",
    "    def __init__(self, name, age, gender):\n",
    "        self.name = name\n",
    "        self.age = age\n",
    "        self.gender = gender\n",
    "    \n",
    "    def __repr__(self):\n",
    "        return \"Person({})\".format(\", \".join([\"{}={}\".format(k, v) for k, v in self.__dict__.items()]))\n",
    "    \n",
    "person = Person(\"edward\", 13, 'male')\n",
    "print(person)"
   ]
  },
  {
   "cell_type": "markdown",
   "metadata": {},
   "source": [
    "### 复杂例子\n",
    "\n",
    "在适配器模式中，"
   ]
  },
  {
   "cell_type": "code",
   "execution_count": 9,
   "metadata": {},
   "outputs": [
    {
     "name": "stdout",
     "output_type": "stream",
     "text": [
      "self.__dict__: {'obj': <__main__.Synthesizer object at 0x7fcff829cfa0>, 'execute': <bound method Synthesizer.play of <__main__.Synthesizer object at 0x7fcff829cfa0>>}\n",
      "self.__dict__: {'obj': <__main__.Human object at 0x7fcff8298040>, 'execute': <bound method Human.speak of <__main__.Human object at 0x7fcff8298040>>}\n",
      "the Asus computer executes a program\n",
      "the moog synthesizer moog is playing an electronic song\n",
      "Bob the human says hello\n"
     ]
    }
   ],
   "source": [
    "class Synthesizer:\n",
    "\n",
    "    def __init__(self, name):\n",
    "        self.name = name\n",
    "\n",
    "    def __str__(self):\n",
    "        return 'the {} synthesizer'.format(self.name)\n",
    "\n",
    "    def play(self):\n",
    "        return '{} is playing an electronic song'.format(self.name)\n",
    "\n",
    "class Human:\n",
    "\n",
    "    def __init__(self, name):\n",
    "        self.name = name\n",
    "\n",
    "    def __str__(self):\n",
    "        return '{} the human'.format(self.name)\n",
    "\n",
    "    def speak(self):\n",
    "        return 'says hello'\n",
    "\n",
    "class Computer:\n",
    "\n",
    "    def __init__(self, name):\n",
    "        self.name = name\n",
    "\n",
    "    def __str__(self):\n",
    "        return 'the {} computer'.format(self.name)\n",
    "\n",
    "    def execute(self):\n",
    "        return 'executes a program'\n",
    "\n",
    "class Adapter:\n",
    "\n",
    "    def __init__(self, obj, adapted_methods):\n",
    "        self.obj = obj\n",
    "        self.__dict__.update(adapted_methods)\n",
    "        print (\"self.__dict__:\", self.__dict__)\n",
    "\n",
    "    def __str__(self):\n",
    "        return str(self.obj)\n",
    "\n",
    "def main():\n",
    "    objects = [Computer('Asus')]\n",
    "    synth = Synthesizer('moog')\n",
    "    human = Human('Bob')\n",
    "        \n",
    "    objects.append(Adapter(synth, {\"execute\": synth.play}))\n",
    "    objects.append(Adapter(human, {\"execute\": human.speak}))\n",
    "\n",
    "    for i in objects:\n",
    "        print('{} {}'.format(str(i), i.execute()))\n",
    "        \n",
    "main()"
   ]
  },
  {
   "cell_type": "markdown",
   "metadata": {},
   "source": [
    "`类Adapter`中`self.__dict__.update(adapted_methods)`，其实相当于"
   ]
  },
  {
   "cell_type": "code",
   "execution_count": 10,
   "metadata": {},
   "outputs": [
    {
     "name": "stdout",
     "output_type": "stream",
     "text": [
      "the Asus computer executes a program\n",
      "<__main__.Adapter object at 0x7fcff826feb0> moog is playing an electronic song\n",
      "<__main__.Adapter object at 0x7fcff826f940> says hello\n"
     ]
    }
   ],
   "source": [
    "class Adapter:\n",
    "    def __init__(self, obj, adapted_methods):\n",
    "        self.obj = obj\n",
    "        self.execute = adapted_methods\n",
    "\n",
    "def main():\n",
    "    objects = [Computer('Asus')]\n",
    "    synth = Synthesizer('moog')\n",
    "    human = Human('Bob')\n",
    "    objects.append(Adapter(synth, synth.play))\n",
    "    objects.append(Adapter(human, human.speak))\n",
    "    \n",
    "    for i in objects:\n",
    "        print('{} {}'.format(str(i), i.execute()))\n",
    "\n",
    "main()"
   ]
  },
  {
   "cell_type": "markdown",
   "metadata": {},
   "source": [
    "# References\n",
    "[python 中的 `__dict__` - 简书](https://www.jianshu.com/p/c390d591ce65)"
   ]
  }
 ],
 "metadata": {
  "kernelspec": {
   "display_name": "Python 3",
   "language": "python",
   "name": "python3"
  },
  "language_info": {
   "codemirror_mode": {
    "name": "ipython",
    "version": 3
   },
   "file_extension": ".py",
   "mimetype": "text/x-python",
   "name": "python",
   "nbconvert_exporter": "python",
   "pygments_lexer": "ipython3",
   "version": "3.8.5"
  },
  "toc": {
   "base_numbering": 1,
   "nav_menu": {},
   "number_sections": true,
   "sideBar": true,
   "skip_h1_title": false,
   "title_cell": "Table of Contents",
   "title_sidebar": "Contents",
   "toc_cell": false,
   "toc_position": {
    "height": "calc(100% - 180px)",
    "left": "10px",
    "top": "150px",
    "width": "288px"
   },
   "toc_section_display": true,
   "toc_window_display": true
  }
 },
 "nbformat": 4,
 "nbformat_minor": 4
}
