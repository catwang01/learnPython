{
 "cells": [
  {
   "cell_type": "markdown",
   "metadata": {},
   "source": [
    "[toc]\n",
    "\n",
    "# Pickle\n",
    "\n",
    "pickle 模块在使用时常常报错，主要是因为传入了无法序列化的对象。\n",
    "\n",
    "如果是直接使用，可以使用 dill 来代替。如果是间接使用，如在多进程库的底层中会用到 pickle 库，当我们用到多进程库时，就有可能遇到报错。\n",
    "\n",
    "## lambda函数无法序列化\n",
    "\n",
    "## 函数中的函数无法序列化\n",
    "\n",
    "另一种常常可能遇到的报错是由于我们使用了函数中的函数"
   ]
  },
  {
   "cell_type": "code",
   "execution_count": 6,
   "metadata": {
    "ExecuteTime": {
     "end_time": "2020-09-16T13:58:27.037808Z",
     "start_time": "2020-09-16T13:58:26.909787Z"
    }
   },
   "outputs": [
    {
     "name": "stdout",
     "output_type": "stream",
     "text": [
      "ls: *.pkl: No such file or directory\r\n"
     ]
    }
   ],
   "source": [
    "ls *.pkl"
   ]
  },
  {
   "cell_type": "code",
   "execution_count": 9,
   "metadata": {
    "ExecuteTime": {
     "end_time": "2020-09-16T13:58:39.018332Z",
     "start_time": "2020-09-16T13:58:38.889865Z"
    }
   },
   "outputs": [
    {
     "name": "stdout",
     "output_type": "stream",
     "text": [
      "Python 如何让类支持比较操作.md\r\n",
      "Untitled.ipynb\r\n",
      "Untitled1.ipynb\r\n",
      "Untitled2.ipynb\r\n",
      "\u001b[34mcodes\u001b[m\u001b[m/\r\n",
      "jupyter-extension.md\r\n",
      "\u001b[34mmkdir\u001b[m\u001b[m/\r\n",
      "\u001b[34mnose\u001b[m\u001b[m/\r\n",
      "python-abba.ipynb\r\n",
      "python-argparse.ipynb\r\n",
      "python-context.ipynb\r\n",
      "python-csv-read.md\r\n",
      "python-ctypes-array.md\r\n",
      "python-ctypes-basic.md\r\n",
      "python-ctypes-str.md\r\n",
      "python-ctypes.md\r\n",
      "\u001b[34mpython-dill\u001b[m\u001b[m/\r\n",
      "python-format.ipynb\r\n",
      "python-getsizeof.md\r\n",
      "python-high-performance.md\r\n",
      "python-import.md\r\n",
      "python-multiprocess.md\r\n",
      "\u001b[34mpython-nose\u001b[m\u001b[m/\r\n",
      "python-pip.md\r\n",
      "\u001b[34mpython-tqdm-multiprocess\u001b[m\u001b[m/\r\n",
      "python-tqdm-multiprocess.md\r\n",
      "\u001b[34mpython-unittest\u001b[m\u001b[m/\r\n"
     ]
    }
   ],
   "source": [
    "ls"
   ]
  },
  {
   "cell_type": "code",
   "execution_count": 18,
   "metadata": {
    "ExecuteTime": {
     "end_time": "2020-09-16T14:00:26.489210Z",
     "start_time": "2020-09-16T14:00:26.477945Z"
    }
   },
   "outputs": [
    {
     "ename": "AttributeError",
     "evalue": "Can't pickle local object 'testA.<locals>.testB'",
     "output_type": "error",
     "traceback": [
      "\u001b[0;31m----------------------------------------------------------------------\u001b[0m",
      "\u001b[0;31mAttributeError\u001b[0m                       Traceback (most recent call last)",
      "\u001b[0;32m<ipython-input-18-0d61dd60a314>\u001b[0m in \u001b[0;36m<module>\u001b[0;34m\u001b[0m\n\u001b[1;32m      8\u001b[0m         \u001b[0mpickle\u001b[0m\u001b[0;34m.\u001b[0m\u001b[0mdump\u001b[0m\u001b[0;34m(\u001b[0m\u001b[0mtestB\u001b[0m\u001b[0;34m,\u001b[0m \u001b[0mf\u001b[0m\u001b[0;34m)\u001b[0m\u001b[0;34m\u001b[0m\u001b[0;34m\u001b[0m\u001b[0m\n\u001b[1;32m      9\u001b[0m \u001b[0;34m\u001b[0m\u001b[0m\n\u001b[0;32m---> 10\u001b[0;31m \u001b[0mtestA\u001b[0m\u001b[0;34m(\u001b[0m\u001b[0;34m)\u001b[0m\u001b[0;34m\u001b[0m\u001b[0;34m\u001b[0m\u001b[0m\n\u001b[0m",
      "\u001b[0;32m<ipython-input-18-0d61dd60a314>\u001b[0m in \u001b[0;36mtestA\u001b[0;34m()\u001b[0m\n\u001b[1;32m      6\u001b[0m \u001b[0;34m\u001b[0m\u001b[0m\n\u001b[1;32m      7\u001b[0m     \u001b[0;32mwith\u001b[0m \u001b[0mopen\u001b[0m\u001b[0;34m(\u001b[0m\u001b[0;34m\"testB.pkl\"\u001b[0m\u001b[0;34m,\u001b[0m \u001b[0;34m\"wb\"\u001b[0m\u001b[0;34m)\u001b[0m \u001b[0;32mas\u001b[0m \u001b[0mf\u001b[0m\u001b[0;34m:\u001b[0m\u001b[0;34m\u001b[0m\u001b[0;34m\u001b[0m\u001b[0m\n\u001b[0;32m----> 8\u001b[0;31m         \u001b[0mpickle\u001b[0m\u001b[0;34m.\u001b[0m\u001b[0mdump\u001b[0m\u001b[0;34m(\u001b[0m\u001b[0mtestB\u001b[0m\u001b[0;34m,\u001b[0m \u001b[0mf\u001b[0m\u001b[0;34m)\u001b[0m\u001b[0;34m\u001b[0m\u001b[0;34m\u001b[0m\u001b[0m\n\u001b[0m\u001b[1;32m      9\u001b[0m \u001b[0;34m\u001b[0m\u001b[0m\n\u001b[1;32m     10\u001b[0m \u001b[0mtestA\u001b[0m\u001b[0;34m(\u001b[0m\u001b[0;34m)\u001b[0m\u001b[0;34m\u001b[0m\u001b[0;34m\u001b[0m\u001b[0m\n",
      "\u001b[0;31mAttributeError\u001b[0m: Can't pickle local object 'testA.<locals>.testB'"
     ]
    }
   ],
   "source": [
    "import pickle\n",
    "\n",
    "def testA():\n",
    "    def testB():\n",
    "        pass\n",
    "    \n",
    "    with open(\"testB.pkl\", \"wb\") as f:\n",
    "        pickle.dump(testB, f)\n",
    "        \n",
    "testA()"
   ]
  },
  {
   "cell_type": "markdown",
   "metadata": {},
   "source": [
    "解决方法是将 testB 移到函数外。"
   ]
  },
  {
   "cell_type": "code",
   "execution_count": 20,
   "metadata": {
    "ExecuteTime": {
     "end_time": "2020-09-16T14:00:48.081492Z",
     "start_time": "2020-09-16T14:00:48.074506Z"
    }
   },
   "outputs": [],
   "source": [
    "import pickle\n",
    "\n",
    "def testB():\n",
    "    pass\n",
    "\n",
    "def testA():\n",
    "    \n",
    "    with open(\"testB.pkl\", \"wb\") as f:\n",
    "        pickle.dump(testB, f)\n",
    "        \n",
    "testA()"
   ]
  },
  {
   "cell_type": "markdown",
   "metadata": {},
   "source": [
    "# References\n",
    "\n",
    "1. [(6条消息)python模块 - pickle模块_皮皮blog-CSDN博客](https://blog.csdn.net/pipisorry/article/details/45315483)"
   ]
  }
 ],
 "metadata": {
  "hide_input": false,
  "kernelspec": {
   "display_name": "Python 3",
   "language": "python",
   "name": "python3"
  },
  "language_info": {
   "codemirror_mode": {
    "name": "ipython",
    "version": 3
   },
   "file_extension": ".py",
   "mimetype": "text/x-python",
   "name": "python",
   "nbconvert_exporter": "python",
   "pygments_lexer": "ipython3",
   "version": "3.7.3"
  },
  "toc": {
   "base_numbering": 1,
   "nav_menu": {},
   "number_sections": true,
   "sideBar": true,
   "skip_h1_title": false,
   "title_cell": "Table of Contents",
   "title_sidebar": "Contents",
   "toc_cell": false,
   "toc_position": {},
   "toc_section_display": true,
   "toc_window_display": false
  },
  "varInspector": {
   "cols": {
    "lenName": 16,
    "lenType": 16,
    "lenVar": 40
   },
   "kernels_config": {
    "python": {
     "delete_cmd_postfix": "",
     "delete_cmd_prefix": "del ",
     "library": "var_list.py",
     "varRefreshCmd": "print(var_dic_list())"
    },
    "r": {
     "delete_cmd_postfix": ") ",
     "delete_cmd_prefix": "rm(",
     "library": "var_list.r",
     "varRefreshCmd": "cat(var_dic_list()) "
    }
   },
   "types_to_exclude": [
    "module",
    "function",
    "builtin_function_or_method",
    "instance",
    "_Feature"
   ],
   "window_display": false
  }
 },
 "nbformat": 4,
 "nbformat_minor": 2
}
