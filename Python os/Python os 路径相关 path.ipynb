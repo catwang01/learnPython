{
 "cells": [
  {
   "cell_type": "markdown",
   "id": "509328be-fead-48a0-9e49-1c4b00d3a4f5",
   "metadata": {},
   "source": [
    "---\n",
    "title: Python os 路径相关 path\n",
    "tags: 小书匠,python,os,path\n",
    "grammar_cjkRuby: true\n",
    "renderNumberedHeading: true\n",
    "---\n",
    "\n",
    "[toc]\n",
    "\n",
    "# Python os 路径相关 path"
   ]
  },
  {
   "cell_type": "code",
   "execution_count": 6,
   "id": "3598f65e-32e6-472b-b9e3-9b24a4083cd0",
   "metadata": {},
   "outputs": [],
   "source": [
    "import os"
   ]
  },
  {
   "cell_type": "markdown",
   "id": "cf30fad7-395e-4892-b83a-2bce8e20f5ca",
   "metadata": {},
   "source": [
    "### 返回相对与某个路径的相对路径"
   ]
  },
  {
   "cell_type": "code",
   "execution_count": 7,
   "id": "33d9d44e-565e-46ae-b833-db1a79a0cf5d",
   "metadata": {},
   "outputs": [
    {
     "data": {
      "text/plain": [
       "'john/a'"
      ]
     },
     "execution_count": 7,
     "metadata": {},
     "output_type": "execute_result"
    }
   ],
   "source": [
    "import os\n",
    "p = \"/home/john/a\"\n",
    "start = \"/home\"\n",
    "os.path.relpath(p, start)"
   ]
  },
  {
   "cell_type": "markdown",
   "id": "62c663c8-62e7-4e35-ba83-14fb950e0499",
   "metadata": {},
   "source": [
    "# References"
   ]
  },
  {
   "cell_type": "markdown",
   "id": "af694f8a-83fe-42b9-a672-7c1c36f20382",
   "metadata": {},
   "source": [
    "- [python路径操作新标准：pathlib 模块 - 知乎](https://zhuanlan.zhihu.com/p/139783331)"
   ]
  },
  {
   "cell_type": "code",
   "execution_count": null,
   "id": "3b813efb-c067-4db1-b1e0-6528332249bc",
   "metadata": {},
   "outputs": [],
   "source": []
  }
 ],
 "metadata": {
  "kernelspec": {
   "display_name": "Python 3",
   "language": "python",
   "name": "python3"
  },
  "language_info": {
   "codemirror_mode": {
    "name": "ipython",
    "version": 3
   },
   "file_extension": ".py",
   "mimetype": "text/x-python",
   "name": "python",
   "nbconvert_exporter": "python",
   "pygments_lexer": "ipython3",
   "version": "3.9.2"
  }
 },
 "nbformat": 4,
 "nbformat_minor": 5
}
