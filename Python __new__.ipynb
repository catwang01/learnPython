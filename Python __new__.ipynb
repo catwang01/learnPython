{
 "cells": [
  {
   "cell_type": "markdown",
   "metadata": {},
   "source": [
    "---\n",
    "title: Python `__new__`\n",
    "tags: 小书匠,python,__new__,魔法方法\n",
    "grammar_cjkRuby: true\n",
    "renderNumberedHeading: true\n",
    "---\n",
    "\n",
    "[toc]\n",
    "\n",
    "# Python `__new__`"
   ]
  },
  {
   "cell_type": "markdown",
   "metadata": {},
   "source": [
    "1. `__new__()` 接受的参数和 `__init__()` 基本相同，只不过是将 `self` 变成了 `cls`，因此 `__new__` 是一个类方法。\n",
    "2. `__new__()` 方法需要有返回值，`__init__()` 参数接受的 `self` 参数就是 `__new__()` 的返回值。需要注意的是，如果 `__new__()` 返回的不是 `cls` 的类或者子类的实例，那么 `__init__` 不会被调用。"
   ]
  },
  {
   "cell_type": "code",
   "execution_count": 5,
   "metadata": {},
   "outputs": [
    {
     "name": "stdout",
     "output_type": "stream",
     "text": [
      "[1]\n"
     ]
    }
   ],
   "source": [
    "l = ['a', 1, (1,2,3)]\n",
    "\n",
    "class IntList(list):\n",
    "    def __init__(self, iterable):\n",
    "        g = (x for x in iterable if isinstance(x, int) and x>0)\n",
    "        super(IntList, self).__init__(g)\n",
    "\n",
    "print(IntList(l))"
   ]
  },
  {
   "cell_type": "markdown",
   "metadata": {},
   "source": [
    "## 定制不可变类\n",
    "\n",
    "由于不可变类在实例创建后就不可变化，而当运行`__init__`方法时实际上实际对象已经创建出来了（就是self），因此不能在`__init__`方法中修改，而需要在`__new__`方法中修改，`__new__`是真正创建实例对象的方法，其返回的实例对象会返回给`__init__`进行初始化。"
   ]
  },
  {
   "cell_type": "code",
   "execution_count": 6,
   "metadata": {},
   "outputs": [
    {
     "name": "stdout",
     "output_type": "stream",
     "text": [
      "(1,)\n"
     ]
    }
   ],
   "source": [
    "l = ('a', 1, (1,2,3))\n",
    "class IntTuple(tuple):\n",
    "    # 实例是由__new__方法创建的，因为__new__的参数中没有self（因为此时self还没有被创建）\n",
    "    def __new__(cls, iterable):\n",
    "        # 生成器表达式\n",
    "        g = (x for x in iterable if isinstance(x, int) and x>0)\n",
    "        return super(IntTuple, cls).__new__(cls, g) # __init__会接受这个返回\n",
    "\n",
    "print(IntTuple(l))"
   ]
  },
  {
   "cell_type": "markdown",
   "metadata": {},
   "source": [
    "# References\n",
    "- http://localhost:8888/lab/tree/learnPython/Python%20__new__.ipynb\n",
    "- [3. Data model — Python 3.9.4 documentation](https://docs.python.org/3.9/reference/datamodel.html?highlight=__new__#object.__new__)"
   ]
  }
 ],
 "metadata": {
  "kernelspec": {
   "display_name": "Python 3",
   "language": "python",
   "name": "python3"
  },
  "language_info": {
   "codemirror_mode": {
    "name": "ipython",
    "version": 3
   },
   "file_extension": ".py",
   "mimetype": "text/x-python",
   "name": "python",
   "nbconvert_exporter": "python",
   "pygments_lexer": "ipython3",
   "version": "3.7.3"
  }
 },
 "nbformat": 4,
 "nbformat_minor": 4
}
