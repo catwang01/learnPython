{
 "cells": [
  {
   "cell_type": "markdown",
   "metadata": {},
   "source": [
    "[toc]\n",
    "\n",
    "# Python random库\n",
    "\n",
    "## random.seed(123) 用于设置随机数种子"
   ]
  },
  {
   "cell_type": "code",
   "execution_count": 10,
   "metadata": {},
   "outputs": [
    {
     "name": "stdout",
     "output_type": "stream",
     "text": [
      "0.052363598850944326\n",
      "0.08718667752263232\n",
      "0.4072417636703983\n",
      "0.052363598850944326\n",
      "0.08718667752263232\n",
      "0.4072417636703983\n"
     ]
    }
   ],
   "source": [
    "random.seed(123)\n",
    "print(random.random())\n",
    "print(random.random())\n",
    "print(random.random())\n",
    "\n",
    "random.seed(123)\n",
    "print(random.random())\n",
    "print(random.random())\n",
    "print(random.random())"
   ]
  },
  {
   "cell_type": "markdown",
   "metadata": {},
   "source": [
    "## random.random 用于生成一个0到1的随机符点数: 0 <= n < 1.0"
   ]
  },
  {
   "cell_type": "code",
   "execution_count": 5,
   "metadata": {},
   "outputs": [
    {
     "data": {
      "text/plain": [
       "0.10237507607031648"
      ]
     },
     "execution_count": 5,
     "metadata": {},
     "output_type": "execute_result"
    }
   ],
   "source": [
    "import random\n",
    "\n",
    "random.random()"
   ]
  },
  {
   "cell_type": "markdown",
   "metadata": {},
   "source": [
    "## random.uniform\n",
    "\n",
    "用于生成一个指定范围内的随机符点数，两个参数其中一个是上限，一个是下限。如果a > b，则生成的随机数n: a <= n <= b。如果 a <b， 则 b <= n <= a"
   ]
  },
  {
   "cell_type": "code",
   "execution_count": 11,
   "metadata": {},
   "outputs": [
    {
     "data": {
      "text/plain": [
       "1.107700234938439"
      ]
     },
     "execution_count": 11,
     "metadata": {},
     "output_type": "execute_result"
    }
   ],
   "source": [
    "random.uniform(1, 2)"
   ]
  },
  {
   "cell_type": "markdown",
   "metadata": {},
   "source": [
    "## random.randint 用于生成 [a, b] 范围内的整数。 \n",
    "\n",
    "```   \n",
    "print(random.randint(12, 20))  #生成的随机数n: 12 <= n <= 20\n",
    "```\n",
    "\n",
    "## random.choice random.choice从序列中获取一个随机元素。\n",
    "\n",
    "```\n",
    "print(random.choice(\"学习Python\"))\n",
    "```\n",
    "\n",
    "## random.shuffle\n",
    "\n",
    "对行进行 shuffle\n",
    "\n",
    "注意： random.shuffle 会修改原数组\n",
    "\n",
    "```\n",
    "p = list(range(4))\n",
    "random.shuffle(p)\n",
    "print(p)\n",
    "```\n",
    "\n",
    "## random.sample 从指定序列中随机指定长度的随机数\n",
    "\n",
    "```\n",
    "list = [1, 2, 3, 4, 5, 6, 7, 8, 9, 10]  \n",
    "print(random.sample(list, 5))  # 从list中随机获取5个元素\n",
    "```"
   ]
  },
  {
   "cell_type": "markdown",
   "metadata": {},
   "source": [
    "# References\n",
    "- [Python中的random模块 - Capricorn.python - 博客园](https://www.cnblogs.com/yd1227/archive/2011/03/18/1988015.html)"
   ]
  }
 ],
 "metadata": {
  "kernelspec": {
   "display_name": "Python 3",
   "language": "python",
   "name": "python3"
  },
  "language_info": {
   "codemirror_mode": {
    "name": "ipython",
    "version": 3
   },
   "file_extension": ".py",
   "mimetype": "text/x-python",
   "name": "python",
   "nbconvert_exporter": "python",
   "pygments_lexer": "ipython3",
   "version": "3.8.5"
  },
  "toc": {
   "base_numbering": 1,
   "nav_menu": {},
   "number_sections": true,
   "sideBar": true,
   "skip_h1_title": false,
   "title_cell": "Table of Contents",
   "title_sidebar": "Contents",
   "toc_cell": false,
   "toc_position": {},
   "toc_section_display": true,
   "toc_window_display": false
  }
 },
 "nbformat": 4,
 "nbformat_minor": 4
}
