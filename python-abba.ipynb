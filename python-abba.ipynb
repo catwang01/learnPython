{
 "cells": [
  {
   "cell_type": "markdown",
   "metadata": {},
   "source": [
    "[toc]\n",
    "\n",
    "# Python a, b = b, a 的坑"
   ]
  },
  {
   "cell_type": "code",
   "execution_count": 1,
   "metadata": {
    "ExecuteTime": {
     "end_time": "2020-08-10T03:12:52.731941Z",
     "start_time": "2020-08-10T03:12:52.727977Z"
    }
   },
   "outputs": [
    {
     "name": "stdout",
     "output_type": "stream",
     "text": [
      "[4, 1, -1, 1]\n"
     ]
    }
   ],
   "source": [
    "A = [3,4,-1,1]\n",
    "i = 1\n",
    "A[i], A[A[i]-1] = A[A[i]-1], A[i]\n",
    "print(A)"
   ]
  },
  {
   "cell_type": "markdown",
   "metadata": {},
   "source": [
    "由于 `A[1] == 4`，因此期望上面代码的结果为 `[3, 1, -1, 4]`，结果得到的输出是 `[4, 1, -1, 1]`。查找资料后发现，这个可能和 Python 的机制有关系，大概可以理解为 `a, b = b, a` 相当于下面的代码\n"
   ]
  },
  {
   "cell_type": "code",
   "execution_count": 2,
   "metadata": {
    "ExecuteTime": {
     "end_time": "2020-08-10T03:12:54.796280Z",
     "start_time": "2020-08-10T03:12:54.721400Z"
    }
   },
   "outputs": [
    {
     "ename": "NameError",
     "evalue": "name 'b' is not defined",
     "output_type": "error",
     "traceback": [
      "\u001b[0;31m---------------------------------------------------------------------------\u001b[0m",
      "\u001b[0;31mNameError\u001b[0m                                 Traceback (most recent call last)",
      "\u001b[0;32m<ipython-input-2-ab72bd09b1c5>\u001b[0m in \u001b[0;36m<module>\u001b[0;34m\u001b[0m\n\u001b[0;32m----> 1\u001b[0;31m \u001b[0mtmp\u001b[0m \u001b[0;34m=\u001b[0m \u001b[0;34m(\u001b[0m\u001b[0mb\u001b[0m\u001b[0;34m,\u001b[0m \u001b[0ma\u001b[0m\u001b[0;34m)\u001b[0m\u001b[0;34m\u001b[0m\u001b[0m\n\u001b[0m\u001b[1;32m      2\u001b[0m \u001b[0ma\u001b[0m \u001b[0;34m=\u001b[0m \u001b[0mtmp\u001b[0m\u001b[0;34m[\u001b[0m\u001b[0;36m0\u001b[0m\u001b[0;34m]\u001b[0m\u001b[0;34m\u001b[0m\u001b[0m\n\u001b[1;32m      3\u001b[0m \u001b[0mb\u001b[0m \u001b[0;34m=\u001b[0m \u001b[0mtmp\u001b[0m\u001b[0;34m[\u001b[0m\u001b[0;36m1\u001b[0m\u001b[0;34m]\u001b[0m\u001b[0;34m\u001b[0m\u001b[0m\n",
      "\u001b[0;31mNameError\u001b[0m: name 'b' is not defined"
     ]
    }
   ],
   "source": [
    "tmp = (b, a)\n",
    "a = tmp[0]\n",
    "b = tmp[1]"
   ]
  },
  {
   "cell_type": "markdown",
   "metadata": {
    "ExecuteTime": {
     "end_time": "2020-08-10T03:13:15.367420Z",
     "start_time": "2020-08-10T03:13:15.362122Z"
    }
   },
   "source": [
    "因此， `A[i], A[A[i]-1] = A[A[i]-1], A[i]` 相当于下面的代码"
   ]
  },
  {
   "cell_type": "code",
   "execution_count": null,
   "metadata": {},
   "outputs": [],
   "source": [
    "tmp = (A[A[i]-1], A[i]) # (1, 4)\n",
    "A[i] = tmp[0] # 这句修改了 A[i] 的值\n",
    "A[A[i]-1] = tmp[1]"
   ]
  },
  {
   "cell_type": "markdown",
   "metadata": {
    "ExecuteTime": {
     "end_time": "2020-08-10T03:13:18.156212Z",
     "start_time": "2020-08-10T03:13:18.149900Z"
    }
   },
   "source": [
    "由于第2句修改了 A[i] 的值，从而影响到了第三句 `A[A[i]-1] = tmp[1]`，因此会导致错误的结果。"
   ]
  },
  {
   "cell_type": "markdown",
   "metadata": {},
   "source": [
    "一个解决方式是写一个 swap 函数来避免这个问题。"
   ]
  },
  {
   "cell_type": "code",
   "execution_count": 4,
   "metadata": {
    "ExecuteTime": {
     "end_time": "2020-08-09T10:07:36.382912Z",
     "start_time": "2020-08-09T10:07:36.376561Z"
    }
   },
   "outputs": [
    {
     "name": "stdout",
     "output_type": "stream",
     "text": [
      "[3, 1, -1, 4]\n"
     ]
    }
   ],
   "source": [
    "def swap(A, i, j):\n",
    "    A[i], A[j] = A[j], A[i]\n",
    "    \n",
    "A = [3,4,-1,1]\n",
    "i = 1\n",
    "swap(A, i, A[i]-1)\n",
    "print(A) # [3, 1, -1, 4] 得到了正确的结果"
   ]
  },
  {
   "cell_type": "markdown",
   "metadata": {},
   "source": [
    "# References\n",
    "1. [python list 交换赋值的问题 - 远途 - 博客园](https://www.cnblogs.com/winder-knight/p/9837643.html)\n",
    "2. [(1条消息)python两个数值互换（浅析a,b=b,a原理）_土豆洋芋山药蛋的博客-CSDN博客_a,b=b,a](https://blog.csdn.net/qq_33414271/article/details/78522235?utm_medium=distribute.pc_relevant.none-task-blog-baidulandingword-1&spm=1001.2101.3001.4242)"
   ]
  }
 ],
 "metadata": {
  "hide_input": false,
  "kernelspec": {
   "display_name": "Python 3.5.5 64-bit ('pytorch': conda)",
   "language": "python",
   "name": "python35564bitpytorchconda72e94a1a4f294f41ae76e825f8204341"
  },
  "language_info": {
   "codemirror_mode": {
    "name": "ipython",
    "version": 3
   },
   "file_extension": ".py",
   "mimetype": "text/x-python",
   "name": "python",
   "nbconvert_exporter": "python",
   "pygments_lexer": "ipython3",
   "version": "3.5.5"
  },
  "toc": {
   "base_numbering": 1,
   "nav_menu": {},
   "number_sections": true,
   "sideBar": true,
   "skip_h1_title": false,
   "title_cell": "Table of Contents",
   "title_sidebar": "Contents",
   "toc_cell": false,
   "toc_position": {},
   "toc_section_display": true,
   "toc_window_display": false
  },
  "varInspector": {
   "cols": {
    "lenName": 16,
    "lenType": 16,
    "lenVar": 40
   },
   "kernels_config": {
    "python": {
     "delete_cmd_postfix": "",
     "delete_cmd_prefix": "del ",
     "library": "var_list.py",
     "varRefreshCmd": "print(var_dic_list())"
    },
    "r": {
     "delete_cmd_postfix": ") ",
     "delete_cmd_prefix": "rm(",
     "library": "var_list.r",
     "varRefreshCmd": "cat(var_dic_list()) "
    }
   },
   "types_to_exclude": [
    "module",
    "function",
    "builtin_function_or_method",
    "instance",
    "_Feature"
   ],
   "window_display": false
  }
 },
 "nbformat": 4,
 "nbformat_minor": 2
}
