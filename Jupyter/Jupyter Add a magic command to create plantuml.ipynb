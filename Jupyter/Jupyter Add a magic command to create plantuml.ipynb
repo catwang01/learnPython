{
 "cells": [
  {
   "cell_type": "markdown",
   "id": "0b7efd05-69d1-45cb-b293-fa777044b643",
   "metadata": {},
   "source": [
    "---\n",
    "title: Jupyter Add a magic command to create plantuml\n",
    "tags: 小书匠,jupyter,plantuml,magic\n",
    "grammar_cjkRuby: true\n",
    "renderNumberedHeading: true\n",
    "---\n",
    "\n",
    "[toc]\n",
    "\n",
    "# Jupyter Add a magic command to create plantuml"
   ]
  },
  {
   "cell_type": "markdown",
   "id": "b2aa2b16-74d8-4f37-86df-14983b94a51e",
   "metadata": {},
   "source": [
    "## Install plantuml"
   ]
  },
  {
   "cell_type": "markdown",
   "id": "b0c8ce06-5922-4619-a56a-23359c1570a7",
   "metadata": {},
   "source": [
    "First, we need a tool to convert plantuml code into images. Here I find a package called `plantuml` to do this, see [Welcome to plantuml’s documentation! — plantuml 0.1.1 documentation][2] for more details."
   ]
  },
  {
   "cell_type": "code",
   "execution_count": 39,
   "id": "5b6fafeb-5ef9-47e5-9cfe-9b2acd696708",
   "metadata": {},
   "outputs": [
    {
     "name": "stdout",
     "output_type": "stream",
     "text": [
      "Requirement already satisfied: plantuml in /opt/conda/lib/python3.9/site-packages (0.3.0)\n",
      "Requirement already satisfied: httplib2 in /opt/conda/lib/python3.9/site-packages (from plantuml) (0.19.1)\n",
      "Requirement already satisfied: pyparsing<3,>=2.4.2 in /opt/conda/lib/python3.9/site-packages (from httplib2->plantuml) (2.4.7)\n"
     ]
    }
   ],
   "source": [
    "!pip install plantuml"
   ]
  },
  {
   "cell_type": "code",
   "execution_count": 40,
   "id": "e976ebb1-684c-42d8-ac84-33e84f230ee3",
   "metadata": {},
   "outputs": [
    {
     "data": {
      "image/png": "[encoded data removed]",
      "text/plain": [
       "<IPython.core.display.Image object>"
      ]
     },
     "execution_count": 40,
     "metadata": {},
     "output_type": "execute_result"
    }
   ],
   "source": [
    "from plantuml import PlantUML\n",
    "from IPython.display import Image\n",
    "\n",
    "url = 'http://www.plantuml.com/plantuml/img/'\n",
    "processor = PlantUML(url)\n",
    "text = \"\"\"\n",
    "title Authentication Sequence\n",
    "\n",
    "Alice->Bob: Authentication Request\n",
    "note right of Bob: Bob thinks about it\n",
    "Bob->Alice: Authentication Response\n",
    "\"\"\"\n",
    "img = processor.processes(text)\n",
    "Image(img)"
   ]
  },
  {
   "cell_type": "markdown",
   "id": "176e189b-fc2c-4c71-91c2-2c0e28d03fa2",
   "metadata": {},
   "source": [
    "## Create a magic cell"
   ]
  },
  {
   "cell_type": "markdown",
   "id": "35dc9a0d-f705-4dad-b641-60b3d733a3d8",
   "metadata": {},
   "source": [
    "See [Jupyter Custom magic function][1] for details about creating a magic cell"
   ]
  },
  {
   "cell_type": "code",
   "execution_count": 47,
   "id": "4619c279-6379-484b-9779-3660c1a1c9c4",
   "metadata": {},
   "outputs": [],
   "source": [
    "from IPython.display import Image\n",
    "from io import StringIO\n",
    "from IPython.core.magic import register_cell_magic\n",
    "\n",
    "@register_cell_magic\n",
    "def plantuml(line, cell):\n",
    "    url = 'http://www.plantuml.com/plantuml/img/'\n",
    "    processor = PlantUML(url)\n",
    "    sio = StringIO(cell)\n",
    "    img = processor.processes(text)\n",
    "    return Image(img)"
   ]
  },
  {
   "cell_type": "code",
   "execution_count": 48,
   "id": "c8e0a486-5efa-4589-84d8-bf279d6640a6",
   "metadata": {},
   "outputs": [
    {
     "data": {
      "image/png": "[encoded data removed]",
      "text/plain": [
       "<IPython.core.display.Image object>"
      ]
     },
     "execution_count": 48,
     "metadata": {},
     "output_type": "execute_result"
    }
   ],
   "source": [
    "%%plantuml\n",
    "\n",
    "title Authentication Sequence\n",
    "\n",
    "Alice->Bob: Authentication Request\n",
    "note right of Bob: Bob thinks about it\n",
    "Bob->Alice: Authentication Response"
   ]
  },
  {
   "cell_type": "markdown",
   "id": "d3f21596-fd3f-4e98-9ebb-30118f95a1df",
   "metadata": {},
   "source": [
    "### Auto load the extension"
   ]
  },
  {
   "cell_type": "markdown",
   "id": "94d6f6cb-ee4a-4419-8352-c5a130a9f339",
   "metadata": {},
   "source": [
    "Write the following code into `~/.ipython/extensions/plantuml.py`"
   ]
  },
  {
   "cell_type": "code",
   "execution_count": 49,
   "id": "ee9f15f9-16e7-4bbc-9be3-a63172ba7d88",
   "metadata": {},
   "outputs": [
    {
     "name": "stdout",
     "output_type": "stream",
     "text": [
      "Overwriting /home/jovyan/.ipython/extensions/plantuml.py\n"
     ]
    }
   ],
   "source": [
    "%%writefile ~/.ipython/extensions/plantuml.py\n",
    "\n",
    "from IPython.display import Image\n",
    "from io import StringIO\n",
    "from IPython.core.magic import register_cell_magic\n",
    "\n",
    "@register_cell_magic\n",
    "def plantuml(line, cell):\n",
    "    url = 'http://www.plantuml.com/plantuml/img/'\n",
    "    processor = PlantUML(url)\n",
    "    sio = StringIO(cell)\n",
    "    img = processor.processes(text)\n",
    "    return Image(img)\n",
    "\n",
    "def load_ipython_extension(ipython):\n",
    "    ipython.register_magic_function(csv, 'cell')"
   ]
  },
  {
   "cell_type": "markdown",
   "id": "0c7af1a3-b57a-42d4-999c-7aad153291c4",
   "metadata": {},
   "source": [
    "Then add the `c.InteractiveShellApp.extensions = [ 'plantuml' ]` into `~/.ipython/profile_default/ipython_config.py`"
   ]
  },
  {
   "cell_type": "code",
   "execution_count": 50,
   "id": "cf52a5ce-634d-437d-9dda-ff1824eb9c7f",
   "metadata": {},
   "outputs": [],
   "source": [
    "%%bash\n",
    "\n",
    "filename=\"~/.ipython/profile_default/ipython_config.py\"\n",
    "if [ ! -f $filename ]\n",
    "then\n",
    "    mkdir -p $(dirname $filename)\n",
    "    touch $filename\n",
    "fi\n",
    "echo \"c.InteractiveShellApp.extensions = [ 'plantuml' ]\" >> $filename"
   ]
  },
  {
   "cell_type": "markdown",
   "id": "a1684616-1791-406e-b4c7-c277d4b29ae0",
   "metadata": {},
   "source": [
    "# References\n",
    "- [Jupyter Custom magic function][1]\n",
    "- [Welcome to plantuml’s documentation! — plantuml 0.1.1 documentation][2]\n",
    "\n",
    "[1]: evernote:///view/22483756/s54/6030f1b8-e112-4aaf-94bf-08b885202a76/6030f1b8-e112-4aaf-94bf-08b885202a76\n",
    "[2]: https://pythonhosted.org/plantuml/index.html#plantuml.PlantUML"
   ]
  }
 ],
 "metadata": {
  "kernelspec": {
   "display_name": "Python 3",
   "language": "python",
   "name": "python3"
  },
  "language_info": {
   "codemirror_mode": {
    "name": "ipython",
    "version": 3
   },
   "file_extension": ".py",
   "mimetype": "text/x-python",
   "name": "python",
   "nbconvert_exporter": "python",
   "pygments_lexer": "ipython3",
   "version": "3.9.2"
  }
 },
 "nbformat": 4,
 "nbformat_minor": 5
}
