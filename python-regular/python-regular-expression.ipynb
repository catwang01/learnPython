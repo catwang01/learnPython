{
 "cells": [
  {
   "cell_type": "markdown",
   "metadata": {},
   "source": [
    "---\n",
    "title:  Python 正则表达式\n",
    "tags:  Python,cmd,develop,editable,install|安装,setup,命令行\n",
    "grammar_cjkRuby: true\n",
    "renderNumberedHeading: true\n",
    "---\n",
    "\n",
    "# Python 正则表达式"
   ]
  },
  {
   "cell_type": "markdown",
   "metadata": {},
   "source": [
    "## 数量词"
   ]
  },
  {
   "cell_type": "markdown",
   "metadata": {
    "ExecuteTime": {
     "end_time": "2020-10-12T06:53:42.245763Z",
     "start_time": "2020-10-12T06:53:42.240181Z"
    }
   },
   "source": [
    "```\n",
    "\\d{6}    出现6次数字\n",
    "\\d{4,6}    数字出现4-6次\n",
    "\\d{4,}    数字出现4-65536次\n",
    "\\d{0,6}    数字出现0-6次\n",
    "* 相当于{0,}\n",
    "+ 相当于 {1,}\n",
    "? 相当于 {0,1}\n",
    "```"
   ]
  },
  {
   "cell_type": "markdown",
   "metadata": {},
   "source": [
    "数量词默认用法是贪婪,如果在数量词后面加’?’,进行非贪婪"
   ]
  },
  {
   "cell_type": "code",
   "execution_count": 79,
   "metadata": {
    "ExecuteTime": {
     "end_time": "2020-10-12T06:51:35.750845Z",
     "start_time": "2020-10-12T06:51:35.747384Z"
    }
   },
   "outputs": [
    {
     "name": "stdout",
     "output_type": "stream",
     "text": [
      "['212']\n",
      "['21231']\n"
     ]
    }
   ],
   "source": [
    "print(re.findall(r'\\d{3,5}?','qw-e21231ewq'))\n",
    "print(re.findall(r'\\d{3,5}','qw-e21231ewq'))"
   ]
  },
  {
   "cell_type": "markdown",
   "metadata": {
    "ExecuteTime": {
     "end_time": "2020-10-13T04:55:37.856950Z",
     "start_time": "2020-10-13T04:55:37.849726Z"
    }
   },
   "source": [
    "## 概括字符集"
   ]
  },
  {
   "cell_type": "markdown",
   "metadata": {
    "ExecuteTime": {
     "end_time": "2020-10-13T04:56:54.219100Z",
     "start_time": "2020-10-13T04:56:54.214711Z"
    }
   },
   "source": [
    "```\n",
    "\\d 相当于 [0-9]    digit\n",
    "\\w 相当于 [0-9a-zA-Z]    word还可以匹配下划线\n",
    "\\s space 制表符,回车符,换行符\n",
    "```\n",
    "\n",
    "\\D,\\W,\\S分别与\\d,\\w,\\s相反\n",
    "\n",
    ". 可以匹配任意字符除了换行符\\n"
   ]
  },
  {
   "cell_type": "code",
   "execution_count": 19,
   "metadata": {
    "ExecuteTime": {
     "end_time": "2020-10-13T08:20:27.026864Z",
     "start_time": "2020-10-13T08:20:27.021858Z"
    }
   },
   "outputs": [
    {
     "data": {
      "text/plain": [
       "<re.Match object; span=(0, 3), match='x y'>"
      ]
     },
     "execution_count": 19,
     "metadata": {},
     "output_type": "execute_result"
    }
   ],
   "source": [
    "# import re\n",
    "p = re.compile(r\"(?<! )\" + \"x y\" + r\"(?! )\")\n",
    "p.search(\"x y\")"
   ]
  },
  {
   "cell_type": "markdown",
   "metadata": {},
   "source": [
    "## 环视 (look around)"
   ]
  },
  {
   "cell_type": "markdown",
   "metadata": {},
   "source": [
    "环视顾名思义，左右看看，满足条件才匹配。相当于给正则表达式添加了简单的条件判断的能力，只有满足条件才匹配。"
   ]
  },
  {
   "cell_type": "markdown",
   "metadata": {
    "ExecuteTime": {
     "end_time": "2020-10-12T06:34:14.823947Z",
     "start_time": "2020-10-12T06:34:14.819679Z"
    }
   },
   "source": [
    "| 环视 | 含义 |\n",
    "| -- | -- |\n",
    "| (?=...) | 肯定顺序环视，子表达式能匹配右侧的文本 |\n",
    "| (?!...) | 否定顺序环视，子表达式不能匹配右侧的文本 |\n",
    "| (?<=...) | 肯定逆序环视，子表达式能匹配左侧的文本 |\n",
    "| (?<!...) | 否定逆序环视，子表达式不能匹配左侧的文本 |"
   ]
  },
  {
   "cell_type": "markdown",
   "metadata": {},
   "source": [
    "环视匹配的最终结果就是一个位置，匹配到的内容不保存到最终的匹配结果。这就好像要找某一单位，它位于人民大街和自由大路交叉口，人民大街东侧，自由大路南侧。我们根据这些线索确定这个单位，结果并不包含这些线索。环视的作用相当于对所在位置加了一个附加条件，只有满足这个条件，环视子表达式才能匹配成功。"
   ]
  },
  {
   "cell_type": "code",
   "execution_count": 93,
   "metadata": {
    "ExecuteTime": {
     "end_time": "2020-10-12T06:53:58.256333Z",
     "start_time": "2020-10-12T06:53:58.251656Z"
    }
   },
   "outputs": [
    {
     "name": "stdout",
     "output_type": "stream",
     "text": [
      "['AAA']\n",
      "['AAA']\n",
      "['AAA']\n",
      "['AAA']\n"
     ]
    }
   ],
   "source": [
    "import re \n",
    "\n",
    "print(re.findall(r\"(?<=B)AAA\",\"BAAA\"))\n",
    "print(re.findall(r\"(?<!B)AAA\",\"CAAA\")) #这里使用(?<!B)、(?<!=B)均可\n",
    "print(re.findall(r\"AAA(?=B)\",\"AAAB\"))\n",
    "print(re.findall(r\"AAA(?!B)\",\"AAAC\")) #这里使用(?!B)、(?!=B)均可"
   ]
  },
  {
   "cell_type": "markdown",
   "metadata": {},
   "source": [
    "## 分组"
   ]
  },
  {
   "cell_type": "markdown",
   "metadata": {},
   "source": [
    "来自 [Python 正则表达式 | 菜鸟教程](https://www.runoob.com/python/python-reg-expressions.html)"
   ]
  },
  {
   "cell_type": "code",
   "execution_count": 1,
   "metadata": {},
   "outputs": [
    {
     "name": "stdout",
     "output_type": "stream",
     "text": [
      "{'province': '110', 'city': '223', 'born_year': '1990'}\n"
     ]
    }
   ],
   "source": [
    "import re\n",
    "s = '1102231990xxxxxxxx'\n",
    "res = re.search('(?P<province>\\d{3})(?P<city>\\d{3})(?P<born_year>\\d{4})',s)\n",
    "print(res.groupdict())"
   ]
  },
  {
   "cell_type": "markdown",
   "metadata": {},
   "source": [
    "# References\n",
    "\n",
    "- [正则表达式中的“环视”（lookaround）学习笔记_acflair的专栏-CSDN博客](https://blog.csdn.net/acflair/article/details/82975674)\n",
    "- [Python3 正则表达式 - 简书](https://www.jianshu.com/p/f1a6f96e3e94)\n",
    "- [Python 正则表达式 | 菜鸟教程](https://www.runoob.com/python/python-reg-expressions.html)"
   ]
  }
 ],
 "metadata": {
  "hide_input": false,
  "kernelspec": {
   "display_name": "Python 3",
   "language": "python",
   "name": "python3"
  },
  "language_info": {
   "codemirror_mode": {
    "name": "ipython",
    "version": 3
   },
   "file_extension": ".py",
   "mimetype": "text/x-python",
   "name": "python",
   "nbconvert_exporter": "python",
   "pygments_lexer": "ipython3",
   "version": "3.9.2"
  },
  "toc": {
   "base_numbering": 1,
   "nav_menu": {},
   "number_sections": true,
   "sideBar": true,
   "skip_h1_title": false,
   "title_cell": "Table of Contents",
   "title_sidebar": "Contents",
   "toc_cell": false,
   "toc_position": {},
   "toc_section_display": true,
   "toc_window_display": false
  },
  "varInspector": {
   "cols": {
    "lenName": 16,
    "lenType": 16,
    "lenVar": 40
   },
   "kernels_config": {
    "python": {
     "delete_cmd_postfix": "",
     "delete_cmd_prefix": "del ",
     "library": "var_list.py",
     "varRefreshCmd": "print(var_dic_list())"
    },
    "r": {
     "delete_cmd_postfix": ") ",
     "delete_cmd_prefix": "rm(",
     "library": "var_list.r",
     "varRefreshCmd": "cat(var_dic_list()) "
    }
   },
   "types_to_exclude": [
    "module",
    "function",
    "builtin_function_or_method",
    "instance",
    "_Feature"
   ],
   "window_display": false
  }
 },
 "nbformat": 4,
 "nbformat_minor": 4
}
