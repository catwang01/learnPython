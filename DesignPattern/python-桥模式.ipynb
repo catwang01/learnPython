{
 "cells": [
  {
   "cell_type": "markdown",
   "metadata": {},
   "source": [
    "[toc]\n",
    "\n",
    "# Python 设计模式 结构型模式之桥模式"
   ]
  },
  {
   "cell_type": "markdown",
   "metadata": {},
   "source": [
    "## 场景模拟\n",
    "\n",
    "假设我们现在想定义一些带颜色的形状。\n",
    "\n",
    "下面是一种可能的实现方式"
   ]
  },
  {
   "cell_type": "markdown",
   "metadata": {},
   "source": [
    "内容：将一个事物的两个维度分离，使其可以在不同维度进行拓展。"
   ]
  },
  {
   "cell_type": "markdown",
   "metadata": {},
   "source": [
    "角色：\n",
    "1. 抽象\n",
    "2. 实现"
   ]
  },
  {
   "cell_type": "code",
   "execution_count": 2,
   "metadata": {
    "ExecuteTime": {
     "end_time": "2020-10-03T09:45:56.158399Z",
     "start_time": "2020-10-03T09:45:56.152352Z"
    }
   },
   "outputs": [],
   "source": [
    "class Shape:\n",
    "    pass\n",
    "\n",
    "class Line(Shape):\n",
    "    pass\n",
    "\n",
    "class Circle(Shape):\n",
    "    pass\n",
    "\n",
    "class RedLine(Line):\n",
    "    pass\n",
    "\n",
    "class GreenLine(Line):\n",
    "    pass\n",
    "\n",
    "class RedCircle(Circle):\n",
    "    pass\n",
    "\n",
    "class GreenCircle(Circle):\n",
    "    pass"
   ]
  },
  {
   "cell_type": "markdown",
   "metadata": {},
   "source": [
    "这种实现方式的坏处是难以拓展。比如我们现在想要添加一个新的颜色 Blue，我们需要对我们所有的形状都实现一遍，即我们需要定义 BlueLine、BlueCircle"
   ]
  },
  {
   "cell_type": "markdown",
   "metadata": {},
   "source": [
    "可以使用桥模式。"
   ]
  },
  {
   "cell_type": "code",
   "execution_count": 8,
   "metadata": {
    "ExecuteTime": {
     "end_time": "2020-10-03T10:02:57.695354Z",
     "start_time": "2020-10-03T10:02:57.685399Z"
    }
   },
   "outputs": [
    {
     "name": "stdout",
     "output_type": "stream",
     "text": [
      "绿色的直线\n",
      "红色的圆\n"
     ]
    }
   ],
   "source": [
    "from abc import ABCMeta, abstractmethod\n",
    "\n",
    "# ------------ 抽象 ------------------\n",
    "class Shape(metaclass=ABCMeta):\n",
    "    \n",
    "    def __init__(self, color):\n",
    "        self.color = color \n",
    "        \n",
    "    @abstractmethod\n",
    "    def draw(self):\n",
    "        pass\n",
    "        \n",
    "class Color(metaclass=ABCMeta):\n",
    "    \n",
    "    @abstractmethod\n",
    "    def paint(self):\n",
    "        pass\n",
    "        \n",
    "# --------------- 实现者 ------------------\n",
    "class Line(Shape):\n",
    "    name = '直线'\n",
    "    def draw(self):\n",
    "        # 直线的逻辑\n",
    "        self.color.paint(self)\n",
    "\n",
    "class Circle(Shape):\n",
    "    name = \"圆\"\n",
    "    def draw(self):\n",
    "        # 圆的逻辑\n",
    "        self.color.paint(self)\n",
    "\n",
    "class Red(Color):\n",
    "    \n",
    "    def paint(self, shape):\n",
    "        print(\"红色的{}\".format(shape.name))\n",
    "\n",
    "class Green(Color):\n",
    "    \n",
    "    def paint(self, shape):\n",
    "        print(\"绿色的{}\".format(shape.name))\n",
    "        \n",
    "# ----------- client -------------\n",
    "line = Line(Green())\n",
    "line.draw()\n",
    "\n",
    "circle = Circle(Red())\n",
    "circle.draw()"
   ]
  },
  {
   "cell_type": "markdown",
   "metadata": {
    "ExecuteTime": {
     "end_time": "2020-10-03T10:00:52.606699Z",
     "start_time": "2020-10-03T10:00:52.595937Z"
    }
   },
   "source": [
    "# References\n",
    "1. [Python之常用设计模式_哔哩哔哩 (゜-゜)つロ 干杯~-bilibili](https://www.bilibili.com/video/BV19541167cn?p=9)"
   ]
  }
 ],
 "metadata": {
  "hide_input": false,
  "kernelspec": {
   "display_name": "Python 3",
   "language": "python",
   "name": "python3"
  },
  "language_info": {
   "codemirror_mode": {
    "name": "ipython",
    "version": 3
   },
   "file_extension": ".py",
   "mimetype": "text/x-python",
   "name": "python",
   "nbconvert_exporter": "python",
   "pygments_lexer": "ipython3",
   "version": "3.7.3"
  },
  "toc": {
   "base_numbering": 1,
   "nav_menu": {},
   "number_sections": true,
   "sideBar": true,
   "skip_h1_title": false,
   "title_cell": "Table of Contents",
   "title_sidebar": "Contents",
   "toc_cell": false,
   "toc_position": {},
   "toc_section_display": true,
   "toc_window_display": false
  },
  "varInspector": {
   "cols": {
    "lenName": 16,
    "lenType": 16,
    "lenVar": 40
   },
   "kernels_config": {
    "python": {
     "delete_cmd_postfix": "",
     "delete_cmd_prefix": "del ",
     "library": "var_list.py",
     "varRefreshCmd": "print(var_dic_list())"
    },
    "r": {
     "delete_cmd_postfix": ") ",
     "delete_cmd_prefix": "rm(",
     "library": "var_list.r",
     "varRefreshCmd": "cat(var_dic_list()) "
    }
   },
   "types_to_exclude": [
    "module",
    "function",
    "builtin_function_or_method",
    "instance",
    "_Feature"
   ],
   "window_display": false
  }
 },
 "nbformat": 4,
 "nbformat_minor": 2
}
