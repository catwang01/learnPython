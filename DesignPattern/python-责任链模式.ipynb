{
 "cells": [
  {
   "cell_type": "markdown",
   "metadata": {},
   "source": [
    "[toc]\n",
    "\n",
    "# Python 设计模式 行为型模式之责任链模式"
   ]
  },
  {
   "cell_type": "markdown",
   "metadata": {},
   "source": [
    "内容：使多个对象都有机会处理请求，从而避免请求的发送和接收者之间的耦合关系。将这些对象连成一条链，并沿着链传递该请求，知道有一个对象处理它为止。"
   ]
  },
  {
   "cell_type": "markdown",
   "metadata": {},
   "source": [
    "角色：\n",
    "1. 抽象处理者 Handler\n",
    "2. 具体处理者 ConcreteHandler\n",
    "3. 客户端 Client"
   ]
  },
  {
   "cell_type": "markdown",
   "metadata": {
    "ExecuteTime": {
     "end_time": "2020-10-02T15:09:33.468652Z",
     "start_time": "2020-10-02T15:09:33.463459Z"
    }
   },
   "source": [
    "真实场景：\n",
    "假如说某个员工要请假。根据请假天数的不同，可能由不同的上级来处理。\n",
    "如 3天之内，ProjectDirector 可以处理；7天之内 DepartmentManager 可以处理，10天之内 GeneralManager 可以处理。这是可以使用责任链模式。"
   ]
  },
  {
   "cell_type": "code",
   "execution_count": 8,
   "metadata": {
    "ExecuteTime": {
     "end_time": "2020-10-02T15:15:14.145283Z",
     "start_time": "2020-10-02T15:15:14.133272Z"
    }
   },
   "outputs": [
    {
     "name": "stdout",
     "output_type": "stream",
     "text": [
      "项目主管批假2天\n",
      "==========\n",
      "项目主管权限不足\n",
      "部门经理批假5天\n",
      "==========\n",
      "项目主管权限不足\n",
      "部门经理权限不足\n",
      "总经理批假9天\n",
      "==========\n",
      "项目主管权限不足\n",
      "部门经理权限不足\n",
      "总经理说：你还是辞职吧\n"
     ]
    }
   ],
   "source": [
    "from abc import ABCMeta, abstractmethod\n",
    "\n",
    "# ---------- 抽象处理者 ------------\n",
    "class Handler(metaclass=ABCMeta):\n",
    "    @abstractmethod\n",
    "    def handle(self, day):\n",
    "        pass\n",
    "    \n",
    "# ------------- 具体处理者 -----------\n",
    "class GeneralManager(Handler):\n",
    "    def handle(self, day):\n",
    "        if day <= 10:\n",
    "            print(\"总经理批假{}天\".format(day))\n",
    "        else:\n",
    "            print(\"总经理说：你还是辞职吧\")\n",
    "            \n",
    "class DepartmentManager(Handler):\n",
    "    def __init__(self):\n",
    "        self.next = GeneralManager()\n",
    "        \n",
    "    def handle(self, day):\n",
    "        if day <= 7:\n",
    "            print(\"部门经理批假{}天\".format(day))\n",
    "        else:\n",
    "            print(\"部门经理权限不足\")\n",
    "            self.next.handle(day)\n",
    "            \n",
    "class ProjectDirector(Handler):\n",
    "    \n",
    "    def __init__(self):\n",
    "        self.next = DepartmentManager()\n",
    "        \n",
    "    def handle(self, day):\n",
    "        if day <= 3:\n",
    "            print(\"项目主管批假{}天\".format(day))\n",
    "        else:\n",
    "            print(\"项目主管权限不足\")\n",
    "            self.next.handle(day)\n",
    "            \n",
    "# ---------- client ------------\n",
    "\n",
    "leader = ProjectDirector()\n",
    "leader.handle(2)\n",
    "print(\"=\" * 10)\n",
    "leader.handle(5)\n",
    "print(\"=\" * 10)\n",
    "leader.handle(9)\n",
    "print(\"=\" * 10)\n",
    "leader.handle(11)"
   ]
  },
  {
   "cell_type": "markdown",
   "metadata": {},
   "source": [
    "可以看到，这个处理方式实际上实现了一个链表"
   ]
  },
  {
   "cell_type": "markdown",
   "metadata": {
    "ExecuteTime": {
     "end_time": "2020-10-02T15:18:34.581232Z",
     "start_time": "2020-10-02T15:18:34.564858Z"
    }
   },
   "source": [
    "适用场景：\n",
    "1. 有多个对象可以处理一个请求，哪个对象处理由运行时决定\n",
    "2. 在不明确接受者的情况下，向多个对象中的一个或多个提交请求"
   ]
  },
  {
   "cell_type": "markdown",
   "metadata": {},
   "source": [
    "优点：\n",
    "降低耦合度：一个对象无需知道时其他哪一个对象处理其请求。"
   ]
  },
  {
   "cell_type": "markdown",
   "metadata": {},
   "source": [
    "Scrapy框架实际上就使用了责任链模式。"
   ]
  },
  {
   "cell_type": "markdown",
   "metadata": {},
   "source": [
    "# References\n",
    "1. [Python之常用设计模式_哔哩哔哩 (゜-゜)つロ 干杯~-bilibili](https://www.bilibili.com/video/BV19541167cn?p=13)"
   ]
  }
 ],
 "metadata": {
  "hide_input": false,
  "kernelspec": {
   "display_name": "Python 3",
   "language": "python",
   "name": "python3"
  },
  "language_info": {
   "codemirror_mode": {
    "name": "ipython",
    "version": 3
   },
   "file_extension": ".py",
   "mimetype": "text/x-python",
   "name": "python",
   "nbconvert_exporter": "python",
   "pygments_lexer": "ipython3",
   "version": "3.7.3"
  },
  "toc": {
   "base_numbering": 1,
   "nav_menu": {},
   "number_sections": true,
   "sideBar": true,
   "skip_h1_title": false,
   "title_cell": "Table of Contents",
   "title_sidebar": "Contents",
   "toc_cell": false,
   "toc_position": {},
   "toc_section_display": true,
   "toc_window_display": false
  },
  "varInspector": {
   "cols": {
    "lenName": 16,
    "lenType": 16,
    "lenVar": 40
   },
   "kernels_config": {
    "python": {
     "delete_cmd_postfix": "",
     "delete_cmd_prefix": "del ",
     "library": "var_list.py",
     "varRefreshCmd": "print(var_dic_list())"
    },
    "r": {
     "delete_cmd_postfix": ") ",
     "delete_cmd_prefix": "rm(",
     "library": "var_list.r",
     "varRefreshCmd": "cat(var_dic_list()) "
    }
   },
   "types_to_exclude": [
    "module",
    "function",
    "builtin_function_or_method",
    "instance",
    "_Feature"
   ],
   "window_display": false
  }
 },
 "nbformat": 4,
 "nbformat_minor": 2
}
