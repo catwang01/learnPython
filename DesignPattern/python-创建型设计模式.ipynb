{
 "cells": [
  {
   "cell_type": "markdown",
   "metadata": {},
   "source": [
    "[toc]\n",
    "\n",
    "# Python 设计模式\n"
   ]
  },
  {
   "cell_type": "markdown",
   "metadata": {},
   "source": [
    "## 创建型设计模式"
   ]
  },
  {
   "cell_type": "markdown",
   "metadata": {},
   "source": [
    "### 简单工厂模式"
   ]
  },
  {
   "cell_type": "code",
   "execution_count": 1,
   "metadata": {
    "ExecuteTime": {
     "end_time": "2020-10-02T11:33:37.363519Z",
     "start_time": "2020-10-02T11:33:37.355869Z"
    }
   },
   "outputs": [
    {
     "name": "stdout",
     "output_type": "stream",
     "text": [
      "微信支付100元\n",
      "花呗支付100元\n",
      "支付宝支付100元\n"
     ]
    }
   ],
   "source": [
    "from abc import ABCMeta, abstractclassmethod\n",
    "\n",
    "class Payment(metaclass=ABCMeta):\n",
    "    @abstractclassmethod\n",
    "    def pay(self, money):\n",
    "        pass\n",
    "    \n",
    "class Alipay(Payment):\n",
    "    def __init__(self, use_huabei=False):\n",
    "        self.use_huabei = use_huabei\n",
    "        \n",
    "    def pay(self, money):\n",
    "        if self.use_huabei:\n",
    "            print(\"花呗支付{}元\".format(money))\n",
    "        else:\n",
    "            print(\"支付宝支付{}元\".format(money))\n",
    "\n",
    "class WechatPay(Payment):\n",
    "    def pay(self, money):\n",
    "        print(\"微信支付{}元\".format(money))\n",
    "\n",
    "class PaymentFactory:\n",
    "    def create_payment(self, method):\n",
    "        if method == 'alipay':\n",
    "            return Alipay()\n",
    "        elif method == \"wechat\":\n",
    "            return WechatPay()\n",
    "        elif method == \"huabei\":\n",
    "            return Alipay(use_huabei=True)\n",
    "        else:\n",
    "            raise TypeError(\"No such payment named {}\".format(method))\n",
    "\n",
    "## client\n",
    "pf = PaymentFactory()\n",
    "p = pf.create_payment('wechat')\n",
    "p.pay(100)\n",
    "p = pf.create_payment('huabei')\n",
    "p.pay(100)\n",
    "p = pf.create_payment('alipay')\n",
    "p.pay(100)"
   ]
  },
  {
   "cell_type": "markdown",
   "metadata": {
    "ExecuteTime": {
     "end_time": "2020-10-02T10:40:10.524463Z",
     "start_time": "2020-10-02T10:40:10.520997Z"
    }
   },
   "source": [
    "角色：\n",
    "- 工厂 Creator --> 这里的 PaymentFactory\n",
    "- 抽象产品 Abstract Product --> 这里的 Payment\n",
    "- 具体产品 Concrete Product --> 这里的 WechatPayh 和 Alipay"
   ]
  },
  {
   "cell_type": "markdown",
   "metadata": {},
   "source": [
    "优点：不直接向客户端暴露对象创建的实现细节，而是通过一个工厂类负责产品实例的创建。\n",
    "\n",
    "以上面的例子来说，用户并不知道 WechatPay 和 Alipay 的实现细节，但是却可以通过相同的方式去创建并调用"
   ]
  },
  {
   "cell_type": "markdown",
   "metadata": {},
   "source": [
    "缺点：\n",
    "1. 违反了单一职责原则，一个工厂类负责好几种产品的创建（这里的 PaymentFactory 生产了 3 种产品）\n",
    "2. 当添加新的产品时，需要修改工厂 PaymentFactory 中的代码。"
   ]
  },
  {
   "cell_type": "markdown",
   "metadata": {},
   "source": [
    "### 工厂方法模式"
   ]
  },
  {
   "cell_type": "markdown",
   "metadata": {},
   "source": [
    "内容： 定义一个用于创建工厂的接口，让子类决定示例化那个产品。\n",
    "\n",
    "角色：\n",
    "1. 抽象工厂 Creator\n",
    "2. 具体工厂 Concrete Creator\n",
    "3. 抽象产品 Product\n",
    "4. 具体产品 Concrete Product"
   ]
  },
  {
   "cell_type": "markdown",
   "metadata": {
    "ExecuteTime": {
     "end_time": "2020-10-02T10:53:05.371588Z",
     "start_time": "2020-10-02T10:53:05.367430Z"
    }
   },
   "source": [
    "优点：\n",
    "1. 隐藏了对象创建的实现细节。\n",
    "2. 每个具体产品都对应一个具体工厂类，不需要修改工厂类代码就可以自由拓展。\n",
    "\n",
    "缺点：\n",
    "每添加一个具体产品类，就必须增加一个相应法具体工厂类。"
   ]
  },
  {
   "cell_type": "markdown",
   "metadata": {},
   "source": [
    "在简单工厂模式的基础上，将多种产品的创建逻辑从 PaymentFactory 中分离出来。创建了一个抽象工厂 PaymentFactory，并继承 PaymentFactory 对每一个类创建一个工厂方法。"
   ]
  },
  {
   "cell_type": "code",
   "execution_count": 2,
   "metadata": {
    "ExecuteTime": {
     "end_time": "2020-10-02T11:33:37.423686Z",
     "start_time": "2020-10-02T11:33:37.415572Z"
    }
   },
   "outputs": [
    {
     "name": "stdout",
     "output_type": "stream",
     "text": [
      "支付宝支付100元\n",
      "微信支付100元\n",
      "花呗支付100元\n"
     ]
    }
   ],
   "source": [
    "from abc import ABCMeta, abstractclassmethod\n",
    "\n",
    "class Payment(metaclass=ABCMeta):\n",
    "    @abstractclassmethod\n",
    "    def pay(self, money):\n",
    "        pass\n",
    "    \n",
    "class Alipay(Payment):\n",
    "    def __init__(self, use_huabei=False):\n",
    "        self.use_huabei = use_huabei\n",
    "        \n",
    "    def pay(self, money):\n",
    "        if self.use_huabei:\n",
    "            print(\"花呗支付{}元\".format(money))\n",
    "        else:\n",
    "            print(\"支付宝支付{}元\".format(money))\n",
    "\n",
    "class WechatPay(Payment):\n",
    "    def pay(self, money):\n",
    "        print(\"微信支付{}元\".format(money))\n",
    "\n",
    "class PaymentFactory(metaclass=ABCMeta):\n",
    "    @classmethod\n",
    "    def create_payment(self):\n",
    "        pass\n",
    "    \n",
    "class AlipayFactory(PaymentFactory):\n",
    "    def create_payment(self):\n",
    "        return Alipay()\n",
    "    \n",
    "class HuabeiFactory(PaymentFactory):\n",
    "    def create_payment(self):\n",
    "        return Alipay(use_huabei=True)\n",
    "    \n",
    "class WechatPayFactory(PaymentFactory):\n",
    "    def create_payment(self):\n",
    "        return WechatPay()\n",
    "    \n",
    "## client\n",
    "\n",
    "pf = AlipayFactory()\n",
    "p = pf.create_payment()\n",
    "p.pay(100)\n",
    "\n",
    "pf = WechatPayFactory()\n",
    "p = pf.create_payment()\n",
    "p.pay(100)\n",
    "\n",
    "pf = HuabeiFactory()\n",
    "p = pf.create_payment()\n",
    "p.pay(100)"
   ]
  },
  {
   "cell_type": "markdown",
   "metadata": {},
   "source": [
    "### 抽象工厂模式"
   ]
  },
  {
   "cell_type": "markdown",
   "metadata": {},
   "source": [
    "内容：定义一个工厂类接口，让工厂子类来创建一系列相关或相互依赖的对象\n",
    "\n",
    "例：生产一部手机，需要手机壳、CPU、操作系统三类对象进行组装，其中每类对象都有不同的种类。对每个具体工厂，分别生产一部手机所\n",
    "需要的三个对象。\n",
    "\n",
    "相比工厂方法模式，抽象工厂模式中的每个具体工厂都生产一套产品。\n"
   ]
  },
  {
   "cell_type": "markdown",
   "metadata": {},
   "source": [
    "角色：\n",
    "\n",
    "1. 抽象工厂角色 (Creator)\n",
    "2. 具体工厂角色 (ConcreteCreator)\n",
    "3. 抽象产品角色 (Product)\n",
    "4. 具体产品角色 (ConcreteProduct)\n",
    "5. 客户端 (Client)"
   ]
  },
  {
   "cell_type": "markdown",
   "metadata": {},
   "source": [
    "优点：\n",
    "1. 将客户端与类的具体实现相分离\n",
    "2. 每个工厂创建了一个完整的产品系列\n",
    "3. 有利于产品的一致性。避免了不存在的产品组合的可能。如 AppleShell + Android 的组合是不可能出现的。\n",
    "\n",
    "缺点：\n",
    "难以支撑新的种类。如果出了 phoneshell、cpu、os 之外，多添加了一个摄像头 Camera 类，那么需要修改很多代码。"
   ]
  },
  {
   "cell_type": "code",
   "execution_count": 3,
   "metadata": {
    "ExecuteTime": {
     "end_time": "2020-10-02T11:33:37.464286Z",
     "start_time": "2020-10-02T11:33:37.451566Z"
    }
   },
   "outputs": [
    {
     "name": "stdout",
     "output_type": "stream",
     "text": [
      "手机信息: \n",
      "苹果CPU\n",
      "IOS\n",
      "苹果手机壳\n",
      "手机信息: \n",
      "晓龙CPU\n",
      "安卓系统\n",
      "普通手机小手机壳\n"
     ]
    }
   ],
   "source": [
    "from abc import abstractmethod, ABCMeta\n",
    "\n",
    "# ---------- 抽象产品 -------------\n",
    "\n",
    "class PhoneShell(metaclass=ABCMeta):\n",
    "    @abstractmethod\n",
    "    def show_shell(self):\n",
    "        pass\n",
    "\n",
    "class CPU(metaclass=ABCMeta):\n",
    "    @abstractmethod\n",
    "    def show_cpu(self):\n",
    "        pass\n",
    "\n",
    "class OS(metaclass=ABCMeta):\n",
    "    @abstractmethod\n",
    "    def show_os(self):\n",
    "        pass\n",
    "    \n",
    "# ---------- 抽象工厂 ------------\n",
    "\n",
    "class PhoneFactory(metaclass=ABCMeta):\n",
    "    @abstractmethod\n",
    "    def make_shell(self):\n",
    "        pass\n",
    "    \n",
    "    \n",
    "class CPUFactory(metaclass=ABCMeta):\n",
    "    @abstractmethod\n",
    "    def make_cpu(self):\n",
    "        pass\n",
    "  \n",
    "  \n",
    "class OSFactory(metaclass=ABCMeta):\n",
    "    @abstractmethod\n",
    "    def make_os(self):\n",
    "        pass\n",
    "\n",
    "# ---------- 具体产品 ------------\n",
    "class SmallShell(PhoneShell):\n",
    "    def show_shell(self):\n",
    "        print(\"普通手机小手机壳\")\n",
    "        \n",
    "class AppleShell(PhoneShell):\n",
    "    def show_shell(self):\n",
    "        print(\"苹果手机壳\")\n",
    "\n",
    "class SnapDragonCPU(CPU):\n",
    "    def show_cpu(self):\n",
    "        print(\"晓龙CPU\")\n",
    "\n",
    "class AppleCPU(CPU):\n",
    "    def show_cpu(self):\n",
    "        print(\"苹果CPU\")\n",
    "\n",
    "class IOS(OS):\n",
    "    def show_os(self):\n",
    "        print(\"IOS\")\n",
    "\n",
    "class Android(OS):\n",
    "    def show_os(self):\n",
    "        print(\"安卓系统\")\n",
    "        \n",
    "# ---------- 具体工厂 ------------\n",
    "\n",
    "class MiFactory(PhoneFactory):\n",
    "    def make_cpu(self):\n",
    "        return SnapDragonCPU()\n",
    "    \n",
    "    def make_shell(self):\n",
    "        return SmallShell()\n",
    "\n",
    "    def make_os(self):\n",
    "        return Android()\n",
    "\n",
    "class IPhoneFactory(PhoneFactory):\n",
    "    def make_cpu(self):\n",
    "        return AppleCPU()\n",
    "    \n",
    "    def make_shell(self):\n",
    "        return AppleShell()\n",
    "\n",
    "    def make_os(self):\n",
    "        return IOS()\n",
    "    \n",
    "# ---------- client --------------\n",
    "class Phone:\n",
    "    def __init__(self, cpu, os, shell):\n",
    "        self.cpu = cpu\n",
    "        self.os = os\n",
    "        self.shell = shell\n",
    "        \n",
    "    def show_info(self):\n",
    "        print(\"手机信息: \")\n",
    "        self.cpu.show_cpu()\n",
    "        self.os.show_os()\n",
    "        self.shell.show_shell()\n",
    "\n",
    "def make_phone(factory):\n",
    "    cpu = factory.make_cpu()\n",
    "    os = factory.make_os()\n",
    "    shell = factory.make_shell()\n",
    "    return Phone(cpu, os, shell)\n",
    "\n",
    "p1 = make_phone(IPhoneFactory())\n",
    "p1.show_info()\n",
    "\n",
    "p2 = make_phone(MiFactory())\n",
    "p2.show_info()"
   ]
  },
  {
   "cell_type": "markdown",
   "metadata": {},
   "source": [
    "### 建造者模式"
   ]
  },
  {
   "cell_type": "code",
   "execution_count": 4,
   "metadata": {
    "ExecuteTime": {
     "end_time": "2020-10-02T11:33:37.476862Z",
     "start_time": "2020-10-02T11:33:37.466308Z"
    }
   },
   "outputs": [
    {
     "name": "stdout",
     "output_type": "stream",
     "text": [
      "漂亮脸蛋, 苗条, 漂亮胳膊, 大长腿\n",
      "怪兽脸, 怪兽身体, 怪兽胳膊, 怪兽腿\n"
     ]
    }
   ],
   "source": [
    "from abc import ABCMeta, abstractmethod\n",
    "\n",
    "# ------- 产品 ---------\n",
    "\n",
    "class Player:\n",
    "    def __init__(self, face=None, body=None, arm=None, leg=None):\n",
    "        self.face = face\n",
    "        self.body = body\n",
    "        self.arm = arm\n",
    "        self.leg = leg\n",
    "    \n",
    "    def __str__(self):\n",
    "        return \"{}, {}, {}, {}\".format(self.face, self.body, self.arm, self.leg)\n",
    "    \n",
    "# ------------- 抽象构建者 ---------------\n",
    "\n",
    "class PlayerBuilder(metaclass=ABCMeta):\n",
    "    @abstractmethod\n",
    "    def build_face(self):\n",
    "        pass\n",
    "    \n",
    "    @abstractmethod\n",
    "    def build_body(self):\n",
    "        pass\n",
    "\n",
    "    @abstractmethod\n",
    "    def build_arm(self):\n",
    "        pass\n",
    "    \n",
    "    @abstractmethod\n",
    "    def build_leg(self):\n",
    "        pass\n",
    "\n",
    "# ---------------- 具体构建者 ----------------\n",
    "\n",
    "class SexyGirlBuilder(PlayerBuilder):\n",
    "    def __init__(self):\n",
    "        self.player = Player()\n",
    "        \n",
    "    def build_face(self):\n",
    "        self.player.face = \"漂亮脸蛋\"\n",
    "        \n",
    "    def build_arm(self):\n",
    "        self.player.arm = \"漂亮胳膊\"\n",
    "    \n",
    "    def build_body(self):\n",
    "        self.player.body = \"苗条\"\n",
    "    \n",
    "    def build_leg(self):\n",
    "        self.player.leg = \"大长腿\"\n",
    "\n",
    "class MonsterBuilder(PlayerBuilder):\n",
    "    def __init__(self):\n",
    "        self.player = Player()\n",
    "        \n",
    "    def build_face(self):\n",
    "        self.player.face = \"怪兽脸\"\n",
    "        \n",
    "    def build_arm(self):\n",
    "        self.player.arm = \"怪兽胳膊\"\n",
    "    \n",
    "    def build_body(self):\n",
    "        self.player.body = \"怪兽身体\"\n",
    "    \n",
    "    def build_leg(self):\n",
    "        self.player.leg = \"怪兽腿\"\n",
    "        \n",
    "# ----------------指挥者 --------------\n",
    "\n",
    "class PlayerDirector:\n",
    "    def build_player(self, builder):\n",
    "        builder.build_body()\n",
    "        builder.build_face()\n",
    "        builder.build_arm()\n",
    "        builder.build_leg()\n",
    "        return builder.player\n",
    "    \n",
    "# -------------- client -----------------\n",
    "\n",
    "director = PlayerDirector()\n",
    "\n",
    "girl = director.build_player(SexyGirlBuilder())\n",
    "print(girl)\n",
    "\n",
    "monster = director.build_player(MonsterBuilder())\n",
    "print(monster)"
   ]
  },
  {
   "cell_type": "markdown",
   "metadata": {},
   "source": [
    "内容：将一个复杂对象的构建与它的表示分离，使得同样的构建过程可以创建不同的表示。\n",
    "\n",
    "角色：\n",
    "1. 抽象建造者 (Builder)\n",
    "2. 具体建造者 (ConcreteBuilder)\n",
    "3. 指挥者  (Director)\n",
    "4. 产品 (Product)\n"
   ]
  },
  {
   "cell_type": "markdown",
   "metadata": {},
   "source": [
    "# References\n",
    "1. [Python之常用设计模式_哔哩哔哩 (゜-゜)つロ 干杯~-bilibili](https://www.bilibili.com/video/BV19541167cn?p=3)\n",
    "\n",
    "2. [Python之常用设计模式_哔哩哔哩 (゜-゜)つロ 干杯~-bilibili](https://www.bilibili.com/video/BV19541167cn?p=4)\n",
    "\n",
    "3. [Python之常用设计模式_抽象工厂模式_哔哩哔哩 (゜-゜)つロ 干杯~-bilibili](https://www.bilibili.com/video/BV19541167cn?p=5)\n",
    "\n",
    "4. [Python之常用设计模式_建造者模式_哔哩哔哩 (゜-゜)つロ 干杯~-bilibili](https://www.bilibili.com/video/BV19541167cn?p=6)"
   ]
  }
 ],
 "metadata": {
  "hide_input": false,
  "kernelspec": {
   "display_name": "Python 3",
   "language": "python",
   "name": "python3"
  },
  "language_info": {
   "codemirror_mode": {
    "name": "ipython",
    "version": 3
   },
   "file_extension": ".py",
   "mimetype": "text/x-python",
   "name": "python",
   "nbconvert_exporter": "python",
   "pygments_lexer": "ipython3",
   "version": "3.7.3"
  },
  "toc": {
   "base_numbering": 1,
   "nav_menu": {},
   "number_sections": true,
   "sideBar": true,
   "skip_h1_title": false,
   "title_cell": "Table of Contents",
   "title_sidebar": "Contents",
   "toc_cell": false,
   "toc_position": {},
   "toc_section_display": true,
   "toc_window_display": false
  },
  "varInspector": {
   "cols": {
    "lenName": 16,
    "lenType": 16,
    "lenVar": 40
   },
   "kernels_config": {
    "python": {
     "delete_cmd_postfix": "",
     "delete_cmd_prefix": "del ",
     "library": "var_list.py",
     "varRefreshCmd": "print(var_dic_list())"
    },
    "r": {
     "delete_cmd_postfix": ") ",
     "delete_cmd_prefix": "rm(",
     "library": "var_list.r",
     "varRefreshCmd": "cat(var_dic_list()) "
    }
   },
   "types_to_exclude": [
    "module",
    "function",
    "builtin_function_or_method",
    "instance",
    "_Feature"
   ],
   "window_display": false
  }
 },
 "nbformat": 4,
 "nbformat_minor": 2
}
