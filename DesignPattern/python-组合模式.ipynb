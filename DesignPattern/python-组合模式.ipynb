{
 "cells": [
  {
   "cell_type": "markdown",
   "metadata": {},
   "source": [
    "[toc]\n",
    "\n",
    "# Python 设计模式 结构型模式之组合模式"
   ]
  },
  {
   "cell_type": "markdown",
   "metadata": {},
   "source": [
    "使用场景：以 ppt 中的图形为例。我们会有一些基本图形，还可以将多个基本图形组合成为组合图形。基本图形和组合图形的使用并没有差异，如图，基本图形和组合图形有相似的菜单栏。"
   ]
  },
  {
   "cell_type": "markdown",
   "metadata": {},
   "source": [
    "![](https://gitee.com/EdwardElric_1683260718/picture_bed/raw/master/img/20201002225449.png)\n",
    "![](https://gitee.com/EdwardElric_1683260718/picture_bed/raw/master/img/20201002225506.png)"
   ]
  },
  {
   "cell_type": "markdown",
   "metadata": {},
   "source": [
    "为了实现这种功能，我们需要让基本图形和组合图形实现相同的接口。"
   ]
  },
  {
   "cell_type": "markdown",
   "metadata": {},
   "source": [
    "角色：\n",
    "1. 抽象组件 Component\n",
    "2. 叶子组件 Leaf\n",
    "3. 复合组件 Composite\n",
    "4. 客户端 Client"
   ]
  },
  {
   "cell_type": "code",
   "execution_count": 3,
   "metadata": {
    "ExecuteTime": {
     "end_time": "2020-10-02T14:59:47.633773Z",
     "start_time": "2020-10-02T14:59:47.620027Z"
    }
   },
   "outputs": [
    {
     "name": "stdout",
     "output_type": "stream",
     "text": [
      "点(1, 2)\n",
      "线段: [点(2, 3), 点(4, 4)]\n",
      "点(0, 0)\n",
      "线段: [点(2, 1), 点(4, 2)]\n"
     ]
    }
   ],
   "source": [
    "from abc import ABCMeta, abstractmethod\n",
    "\n",
    "class Graphic(metaclass=ABCMeta):\n",
    "    @abstractmethod\n",
    "    def draw(self):\n",
    "        pass\n",
    "    \n",
    "class Point(Graphic):\n",
    "    def __init__(self, x, y):\n",
    "        self.x = x\n",
    "        self.y = y\n",
    "        \n",
    "    def __str__(self):\n",
    "        return \"点({}, {})\".format(self.x, self.y)\n",
    "    \n",
    "    def draw(self):\n",
    "        print(str(self))\n",
    "        \n",
    "class Line(Graphic):\n",
    "    def __init__(self, p1, p2):\n",
    "        self.p1 = p1\n",
    "        self.p2 = p2\n",
    "    \n",
    "    def __str__(self):\n",
    "        return \"线段: [{}, {}]\".format(self.p1, self.p2)\n",
    "    \n",
    "    def draw(self):\n",
    "        print(str(self))\n",
    "\n",
    "class Picture(Graphic):\n",
    "    def __init__(self, iterable=None):\n",
    "        if iterable is not None:\n",
    "            self.children = list(iterable)\n",
    "        else:\n",
    "            self.children = []\n",
    "\n",
    "    def add(self, graphic):\n",
    "        self.children.append(graphic)\n",
    "    \n",
    "    def draw(self):\n",
    "        for child in self.children:\n",
    "            child.draw()\n",
    "\n",
    "# ----------- client ------------\n",
    "p1 = Point(1, 2)\n",
    "line1 = Line(Point(2,3), Point(4, 4))\n",
    "pic1 = Picture([p1, line1])\n",
    "\n",
    "p2 = Point(0, 0)\n",
    "line2 = Line(Point(2, 1), Point(4, 2))\n",
    "pic2 = Picture([p2, line2])\n",
    "\n",
    "pic = Picture([pic1, pic2])\n",
    "pic.draw()"
   ]
  },
  {
   "cell_type": "markdown",
   "metadata": {},
   "source": [
    "适用场景：\n",
    "1. 表示对象的“部分一整体\"层次结构（特别是结构是递归的）\n",
    "2. 希望用户忽略组合对象与单个对象的不同，用户统一地使用组合结构中的所有对象\n",
    "\n",
    "优点：\n",
    "1. 定义了包含基本对象和组合对象的类层次结构\n",
    "2. 简化客户端代码，即客户可以一致地使用组合对象和单个对象\n",
    "3. 更容易增加新类型的组件，如果我们想添加一个新的图形 Circle，那么直接实现 Graphic 接口即可。"
   ]
  },
  {
   "cell_type": "markdown",
   "metadata": {},
   "source": [
    "# References\n",
    "1. [Python之常用设计模式_哔哩哔哩 (゜-゜)つロ 干杯~-bilibili](https://www.bilibili.com/video/BV19541167cn?p=10)"
   ]
  }
 ],
 "metadata": {
  "hide_input": false,
  "kernelspec": {
   "display_name": "Python 3",
   "language": "python",
   "name": "python3"
  },
  "language_info": {
   "codemirror_mode": {
    "name": "ipython",
    "version": 3
   },
   "file_extension": ".py",
   "mimetype": "text/x-python",
   "name": "python",
   "nbconvert_exporter": "python",
   "pygments_lexer": "ipython3",
   "version": "3.7.3"
  },
  "toc": {
   "base_numbering": 1,
   "nav_menu": {},
   "number_sections": true,
   "sideBar": true,
   "skip_h1_title": false,
   "title_cell": "Table of Contents",
   "title_sidebar": "Contents",
   "toc_cell": false,
   "toc_position": {},
   "toc_section_display": true,
   "toc_window_display": false
  },
  "varInspector": {
   "cols": {
    "lenName": 16,
    "lenType": 16,
    "lenVar": 40
   },
   "kernels_config": {
    "python": {
     "delete_cmd_postfix": "",
     "delete_cmd_prefix": "del ",
     "library": "var_list.py",
     "varRefreshCmd": "print(var_dic_list())"
    },
    "r": {
     "delete_cmd_postfix": ") ",
     "delete_cmd_prefix": "rm(",
     "library": "var_list.r",
     "varRefreshCmd": "cat(var_dic_list()) "
    }
   },
   "types_to_exclude": [
    "module",
    "function",
    "builtin_function_or_method",
    "instance",
    "_Feature"
   ],
   "window_display": false
  }
 },
 "nbformat": 4,
 "nbformat_minor": 2
}
