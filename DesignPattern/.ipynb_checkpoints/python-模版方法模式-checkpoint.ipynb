{
 "cells": [
  {
   "cell_type": "markdown",
   "metadata": {},
   "source": [
    "[toc]\n",
    "\n",
    "# Python 设计模式 行为模式之模版方法模式\n",
    "\n",
    "内容：定义一个操作中算法的骨架，而将一些步骤延迟到子类中。模版方法使得子类可以不改变一个算法的结构即可重定义该算法的结构即可重定义算法的某些特定步骤。"
   ]
  },
  {
   "cell_type": "markdown",
   "metadata": {},
   "source": [
    "角色：\n",
    "1. 抽象类：定义抽象的钩子操作，实现一个模板方法作为算法的骨架 \n",
    "2. 具体类 实现钩子操作"
   ]
  },
  {
   "cell_type": "code",
   "execution_count": 4,
   "metadata": {
    "ExecuteTime": {
     "end_time": "2020-10-03T01:52:07.545494Z",
     "start_time": "2020-10-03T01:52:05.188016Z"
    }
   },
   "outputs": [
    {
     "name": "stdout",
     "output_type": "stream",
     "text": [
      "==========欢迎使用记事本=========\n",
      "显示当前内容 哈哈\n",
      "显示当前内容 哈哈\n",
      "显示当前内容 哈哈\n",
      "==========退出记事本=========\n"
     ]
    }
   ],
   "source": [
    "from abc import ABCMeta, abstractmethod\n",
    "import time\n",
    "\n",
    "class Window(metaclass=ABCMeta):\n",
    "    \n",
    "    # -------------- 钩子操作 -------------------\n",
    "    @abstractmethod \n",
    "    def repaint(self):\n",
    "        pass\n",
    "    \n",
    "    @abstractmethod\n",
    "    def start(self):\n",
    "        pass\n",
    "    \n",
    "    @abstractmethod\n",
    "    def stop(self):\n",
    "        pass \n",
    "    # --------------- 模板方法 ---------------------\n",
    "    def run(self):\n",
    "        self.start()\n",
    "        while True:\n",
    "            try: \n",
    "                self.repaint()\n",
    "                time.sleep(1)\n",
    "            except KeyboardInterrupt:\n",
    "                break\n",
    "        self.stop()\n",
    "                \n",
    "class NotepadWindow(Window):\n",
    "    def __init__(self, msg):\n",
    "        self.msg = msg \n",
    "        \n",
    "    def repaint(self):\n",
    "        print('显示当前内容 {}'.format(self.msg))\n",
    "        \n",
    "    def start(self):\n",
    "        print(\"==========欢迎使用记事本=========\")\n",
    "        \n",
    "    def stop(self):\n",
    "        print(\"==========退出记事本=========\")\n",
    "     \n",
    "# --------------- client ------------------\n",
    "notepad = NotepadWindow(\"哈哈\")\n",
    "notepad.run()"
   ]
  },
  {
   "cell_type": "markdown",
   "metadata": {},
   "source": [
    "适用场景：\n",
    "1. 一次性实现一个算法的不变部分\n",
    "2. 各个子类中的公共行为应被提取出来并集中到一个父类集合中避免代码重复。\n",
    "3. 控制子类拓展（只有满足这个框架的算法才能继承这个父类）"
   ]
  },
  {
   "cell_type": "markdown",
   "metadata": {},
   "source": [
    "# References\n",
    "\n",
    "[Python之常用设计模式_哔哩哔哩 (゜-゜)つロ 干杯~-bilibili](https://www.bilibili.com/video/BV19541167cn?p=16)"
   ]
  }
 ],
 "metadata": {
  "hide_input": false,
  "kernelspec": {
   "display_name": "Python 3",
   "language": "python",
   "name": "python3"
  },
  "language_info": {
   "codemirror_mode": {
    "name": "ipython",
    "version": 3
   },
   "file_extension": ".py",
   "mimetype": "text/x-python",
   "name": "python",
   "nbconvert_exporter": "python",
   "pygments_lexer": "ipython3",
   "version": "3.7.3"
  },
  "toc": {
   "base_numbering": 1,
   "nav_menu": {},
   "number_sections": true,
   "sideBar": true,
   "skip_h1_title": false,
   "title_cell": "Table of Contents",
   "title_sidebar": "Contents",
   "toc_cell": false,
   "toc_position": {},
   "toc_section_display": true,
   "toc_window_display": false
  },
  "varInspector": {
   "cols": {
    "lenName": 16,
    "lenType": 16,
    "lenVar": 40
   },
   "kernels_config": {
    "python": {
     "delete_cmd_postfix": "",
     "delete_cmd_prefix": "del ",
     "library": "var_list.py",
     "varRefreshCmd": "print(var_dic_list())"
    },
    "r": {
     "delete_cmd_postfix": ") ",
     "delete_cmd_prefix": "rm(",
     "library": "var_list.r",
     "varRefreshCmd": "cat(var_dic_list()) "
    }
   },
   "types_to_exclude": [
    "module",
    "function",
    "builtin_function_or_method",
    "instance",
    "_Feature"
   ],
   "window_display": false
  }
 },
 "nbformat": 4,
 "nbformat_minor": 2
}
