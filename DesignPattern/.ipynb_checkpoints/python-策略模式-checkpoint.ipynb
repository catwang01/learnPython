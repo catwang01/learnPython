{
 "cells": [
  {
   "cell_type": "markdown",
   "metadata": {},
   "source": [
    "[toc]\n",
    "\n",
    "# Python 设计模式 行为型设计模式之策略模式"
   ]
  },
  {
   "cell_type": "markdown",
   "metadata": {
    "ExecuteTime": {
     "end_time": "2020-10-03T01:32:54.033673Z",
     "start_time": "2020-10-03T01:32:54.019542Z"
    }
   },
   "source": [
    "内容：定义一系列算法，将它们一个个封装起来，并使之相互可以替换，本模式可以使算法独立于使用它的客户而变化。"
   ]
  },
  {
   "cell_type": "markdown",
   "metadata": {},
   "source": [
    "角色：\n",
    "\n",
    "1. 抽象策略 Strategy\n",
    "2. 具体策略 ConcreteStategy\n",
    "3. 上下文 Context 用于策略的执行和切换。还有一些执行策略前用户无需了解的步骤，如生成随机数之类的。"
   ]
  },
  {
   "cell_type": "code",
   "execution_count": 1,
   "metadata": {
    "ExecuteTime": {
     "end_time": "2020-10-02T15:26:19.345822Z",
     "start_time": "2020-10-02T15:26:19.336122Z"
    }
   },
   "outputs": [
    {
     "name": "stdout",
     "output_type": "stream",
     "text": [
      "用较快的策略处理data\n",
      "用较慢的策略处理data\n"
     ]
    }
   ],
   "source": [
    "from abc import ABCMeta, abstractmethod\n",
    "\n",
    "class Strategy(metaclass=ABCMeta):\n",
    "    @abstractmethod\n",
    "    def execute(self, data):\n",
    "        pass\n",
    "    \n",
    "class FastStrategy(Strategy):\n",
    "    def execute(self, data):\n",
    "        print(\"用较快的策略处理{}\".format(data))\n",
    "        \n",
    "class SlowStrategy(Strategy):\n",
    "    def execute(self, data):\n",
    "        print(\"用较慢的策略处理{}\".format(data))\n",
    "        \n",
    "class Context:\n",
    "    \n",
    "    def __init__(self, strategy, data):\n",
    "        self.strategy = strategy\n",
    "        self.data = data\n",
    "        \n",
    "    def set_strategy(self, strategy):\n",
    "        self.strategy = strategy\n",
    "    \n",
    "    def do_strategy(self):\n",
    "        self.strategy.execute(self.data)\n",
    "        \n",
    "# ----------- client -----------\n",
    "\n",
    "data = \"data\"\n",
    "s1 = FastStrategy()\n",
    "s2 = SlowStrategy()\n",
    "context = Context(s1, data)\n",
    "context.do_strategy()\n",
    "context.set_strategy(s2)\n",
    "context.do_strategy()"
   ]
  },
  {
   "cell_type": "markdown",
   "metadata": {},
   "source": [
    "优点：\n",
    "1. 定义了一系列可重用的算法和行为\n",
    "2. 消除了一些条件语句\n",
    "3. 可以提供相同行为的不同实现\n",
    "\n",
    "缺点：\n",
    "客户必须了解不同的策略"
   ]
  },
  {
   "cell_type": "markdown",
   "metadata": {},
   "source": [
    "# References\n",
    "1. [Python之常用设计模式_哔哩哔哩 (゜-゜)つロ 干杯~-bilibili](https://www.bilibili.com/video/BV19541167cn?p=15)"
   ]
  }
 ],
 "metadata": {
  "hide_input": false,
  "kernelspec": {
   "display_name": "Python 3",
   "language": "python",
   "name": "python3"
  },
  "language_info": {
   "codemirror_mode": {
    "name": "ipython",
    "version": 3
   },
   "file_extension": ".py",
   "mimetype": "text/x-python",
   "name": "python",
   "nbconvert_exporter": "python",
   "pygments_lexer": "ipython3",
   "version": "3.7.3"
  },
  "toc": {
   "base_numbering": 1,
   "nav_menu": {},
   "number_sections": true,
   "sideBar": true,
   "skip_h1_title": false,
   "title_cell": "Table of Contents",
   "title_sidebar": "Contents",
   "toc_cell": false,
   "toc_position": {},
   "toc_section_display": true,
   "toc_window_display": false
  },
  "varInspector": {
   "cols": {
    "lenName": 16,
    "lenType": 16,
    "lenVar": 40
   },
   "kernels_config": {
    "python": {
     "delete_cmd_postfix": "",
     "delete_cmd_prefix": "del ",
     "library": "var_list.py",
     "varRefreshCmd": "print(var_dic_list())"
    },
    "r": {
     "delete_cmd_postfix": ") ",
     "delete_cmd_prefix": "rm(",
     "library": "var_list.r",
     "varRefreshCmd": "cat(var_dic_list()) "
    }
   },
   "types_to_exclude": [
    "module",
    "function",
    "builtin_function_or_method",
    "instance",
    "_Feature"
   ],
   "window_display": false
  }
 },
 "nbformat": 4,
 "nbformat_minor": 2
}
