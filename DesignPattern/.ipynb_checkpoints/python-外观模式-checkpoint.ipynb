{
 "cells": [
  {
   "cell_type": "markdown",
   "metadata": {},
   "source": [
    "[toc]\n",
    "\n",
    "# Python 设计模式 行为型模式之外观模式"
   ]
  },
  {
   "cell_type": "markdown",
   "metadata": {},
   "source": [
    "这是一个比较简单的设计模式。\n",
    "\n",
    "内容：为子系统中的一组接口提供统一的界面\n",
    "\n",
    "角色：\n",
    "1. 外观 facade\n",
    "2. 子系统类 subsystem classes"
   ]
  },
  {
   "cell_type": "code",
   "execution_count": 5,
   "metadata": {
    "ExecuteTime": {
     "end_time": "2020-10-03T08:51:33.583251Z",
     "start_time": "2020-10-03T08:51:33.572977Z"
    }
   },
   "outputs": [
    {
     "name": "stdout",
     "output_type": "stream",
     "text": [
      "CPU开始运行\n",
      "硬盘开始运行\n",
      "内存通电\n",
      "内存断电\n",
      "硬盘开始运行\n",
      "CPU停止工作\n"
     ]
    }
   ],
   "source": [
    "# -------------- 子系统类 --------------\n",
    "class CPU:\n",
    "    def run(self):\n",
    "        print(\"CPU开始运行\")\n",
    "        \n",
    "    def stop(self):\n",
    "        print(\"CPU停止工作\")\n",
    "        \n",
    "class Disk:\n",
    "    def run(self):\n",
    "        print(\"硬盘开始运行\")\n",
    "       \n",
    "    def stop(self):\n",
    "        print(\"硬盘开始运行\")\n",
    "        \n",
    "class Memory:\n",
    "    def run(self):\n",
    "        print('内存通电')\n",
    "       \n",
    "    def stop(self):\n",
    "        print(\"内存断电\")\n",
    "        \n",
    "# -------------- 外观 ------------------\n",
    "class Computer:\n",
    "    def __init__(self, cpu, disk, memory):\n",
    "        self.cpu = cpu\n",
    "        self.disk = disk\n",
    "        self.memory = memory\n",
    "        \n",
    "    def run(self):\n",
    "        self.cpu.run()\n",
    "        self.disk.run()\n",
    "        self.memory.run()\n",
    "        \n",
    "    def stop(self):\n",
    "        self.memory.stop()\n",
    "        self.disk.stop()\n",
    "        self.cpu.stop()\n",
    "        \n",
    "# ----------------- client -------------------\n",
    "cpu = CPU()\n",
    "disk = Disk()\n",
    "memory = Memory()\n",
    "computer = Computer(cpu, disk, memory)\n",
    "computer.run()\n",
    "computer.stop()"
   ]
  },
  {
   "cell_type": "markdown",
   "metadata": {},
   "source": [
    "# References\n",
    "[Python之常用设计模式_哔哩哔哩 (゜-゜)つロ 干杯~-bilibili](https://www.bilibili.com/video/BV19541167cn?p=11)"
   ]
  }
 ],
 "metadata": {
  "hide_input": false,
  "kernelspec": {
   "display_name": "Python 3",
   "language": "python",
   "name": "python3"
  },
  "language_info": {
   "codemirror_mode": {
    "name": "ipython",
    "version": 3
   },
   "file_extension": ".py",
   "mimetype": "text/x-python",
   "name": "python",
   "nbconvert_exporter": "python",
   "pygments_lexer": "ipython3",
   "version": "3.7.3"
  },
  "toc": {
   "base_numbering": 1,
   "nav_menu": {},
   "number_sections": true,
   "sideBar": true,
   "skip_h1_title": false,
   "title_cell": "Table of Contents",
   "title_sidebar": "Contents",
   "toc_cell": false,
   "toc_position": {},
   "toc_section_display": true,
   "toc_window_display": false
  },
  "varInspector": {
   "cols": {
    "lenName": 16,
    "lenType": 16,
    "lenVar": 40
   },
   "kernels_config": {
    "python": {
     "delete_cmd_postfix": "",
     "delete_cmd_prefix": "del ",
     "library": "var_list.py",
     "varRefreshCmd": "print(var_dic_list())"
    },
    "r": {
     "delete_cmd_postfix": ") ",
     "delete_cmd_prefix": "rm(",
     "library": "var_list.r",
     "varRefreshCmd": "cat(var_dic_list()) "
    }
   },
   "types_to_exclude": [
    "module",
    "function",
    "builtin_function_or_method",
    "instance",
    "_Feature"
   ],
   "window_display": false
  }
 },
 "nbformat": 4,
 "nbformat_minor": 2
}
