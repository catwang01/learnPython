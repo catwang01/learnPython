{
 "cells": [
  {
   "cell_type": "markdown",
   "metadata": {},
   "source": [
    "[toc]\n",
    "\n",
    "# Python 设计模式 结构性模式之适配器模式"
   ]
  },
  {
   "cell_type": "markdown",
   "metadata": {},
   "source": [
    "有时，我们需要将两个不同的系统的接口统一起来，可以使用适配器模式。"
   ]
  },
  {
   "cell_type": "markdown",
   "metadata": {},
   "source": [
    "角色：\n",
    "1. 目标接口\n",
    "2. 待适配的类\n",
    "3. 适配器"
   ]
  },
  {
   "cell_type": "code",
   "execution_count": 12,
   "metadata": {
    "ExecuteTime": {
     "end_time": "2020-10-02T14:04:19.924883Z",
     "start_time": "2020-10-02T14:04:19.918453Z"
    }
   },
   "outputs": [],
   "source": [
    "from abc import ABCMeta, abstractmethod\n",
    "\n",
    "# -------- 目标接口 -----------\n",
    "\n",
    "class Payment(metaclass=ABCMeta):\n",
    "    @abstractmethod\n",
    "    def pay(self, user_id, money):\n",
    "        pass\n",
    "\n",
    "class Alipay(Payment):\n",
    "    def pay(self, user_id, money):\n",
    "        print(\"用户 {} 支付宝支付{}元\".format(user_id, money))\n",
    "        \n",
    "class WechatPay(Payment):\n",
    "    def pay(self, user_id, money):\n",
    "        print(\"用户 {} 微信支付{}元\".format(user_id, money))\n",
    "\n",
    "# ------------ 待适配的类 ----------------\n",
    "class BankPay:\n",
    "    def cost(self, money, user_id):\n",
    "        print(\"用户 {} 银联支付{}元\".format(user_id, money))\n",
    "        \n",
    "class CreditPay:\n",
    "    def cost(self, money, user_id):\n",
    "        print(\"用户 {} 信用卡支付{}元\".format(user_id, money))\n",
    "        "
   ]
  },
  {
   "cell_type": "markdown",
   "metadata": {
    "ExecuteTime": {
     "end_time": "2020-10-02T13:59:43.860109Z",
     "start_time": "2020-10-02T13:59:43.852300Z"
    }
   },
   "source": [
    "假设，我们现在希望对 Alipay，wechatPay，BankPay，CreditPay提供统一的接口，可以使用适配器模式"
   ]
  },
  {
   "cell_type": "markdown",
   "metadata": {},
   "source": [
    "## 1. 利用多继承"
   ]
  },
  {
   "cell_type": "code",
   "execution_count": 20,
   "metadata": {
    "ExecuteTime": {
     "end_time": "2020-10-02T14:08:16.623304Z",
     "start_time": "2020-10-02T14:08:16.617816Z"
    }
   },
   "outputs": [
    {
     "name": "stdout",
     "output_type": "stream",
     "text": [
      "用户 ed 微信支付10元\n",
      "用户 ed 银联支付20元\n"
     ]
    }
   ],
   "source": [
    "# --------------- 适配器： 类适配器 ----------------\n",
    "class NewBankPay(Payment, BankPay):\n",
    "    def pay(self, user_id, money):\n",
    "        self.cost(money, user_id)\n",
    "\n",
    "class NewCreditPay(Payment, BankPay):\n",
    "    def pay(self, user_id, money):\n",
    "        self.cost(money, user_id)\n",
    "\n",
    "p = WechatPay()\n",
    "p.pay(\"ed\", 10)\n",
    "\n",
    "p = NewBankPay()\n",
    "p.pay(\"ed\", 20)"
   ]
  },
  {
   "cell_type": "markdown",
   "metadata": {},
   "source": [
    "这样有一个问题，那就是 BankPay 和 CreditPay 都需要创建一个适配器。极端一些，如果有更多的待适配类，那么要创建的适配器就有很多。可以使用下面的方法解决这个问题。"
   ]
  },
  {
   "cell_type": "markdown",
   "metadata": {},
   "source": [
    "## 2. 利用组合"
   ]
  },
  {
   "cell_type": "code",
   "execution_count": 21,
   "metadata": {
    "ExecuteTime": {
     "end_time": "2020-10-02T14:08:17.516052Z",
     "start_time": "2020-10-02T14:08:17.509332Z"
    }
   },
   "outputs": [
    {
     "name": "stdout",
     "output_type": "stream",
     "text": [
      "用户 ed 微信支付10元\n",
      "用户 ed 银联支付20元\n"
     ]
    }
   ],
   "source": [
    "# ----------- 适配器： 对象适配器 ---------------\n",
    "\n",
    "class PaymentAdapter(Payment):\n",
    "    def __init__(self, payment):\n",
    "        self.payment = payment\n",
    "    \n",
    "    def pay(self, user_id, money):\n",
    "        self.payment.cost(money, user_id)\n",
    "\n",
    "p = WechatPay()\n",
    "p.pay(\"ed\", 10)\n",
    "\n",
    "\n",
    "p = PaymentAdapter(BankPay())\n",
    "p.pay(\"ed\", 20)"
   ]
  },
  {
   "cell_type": "markdown",
   "metadata": {},
   "source": [
    "# Reference\n",
    "1. [Python之常用设计模式_哔哩哔哩 (゜-゜)つロ 干杯~-bilibili](https://www.bilibili.com/video/BV19541167cn?p=8)"
   ]
  }
 ],
 "metadata": {
  "hide_input": false,
  "kernelspec": {
   "display_name": "Python 3",
   "language": "python",
   "name": "python3"
  },
  "language_info": {
   "codemirror_mode": {
    "name": "ipython",
    "version": 3
   },
   "file_extension": ".py",
   "mimetype": "text/x-python",
   "name": "python",
   "nbconvert_exporter": "python",
   "pygments_lexer": "ipython3",
   "version": "3.7.3"
  },
  "toc": {
   "base_numbering": 1,
   "nav_menu": {},
   "number_sections": true,
   "sideBar": true,
   "skip_h1_title": false,
   "title_cell": "Table of Contents",
   "title_sidebar": "Contents",
   "toc_cell": false,
   "toc_position": {},
   "toc_section_display": true,
   "toc_window_display": false
  },
  "varInspector": {
   "cols": {
    "lenName": 16,
    "lenType": 16,
    "lenVar": 40
   },
   "kernels_config": {
    "python": {
     "delete_cmd_postfix": "",
     "delete_cmd_prefix": "del ",
     "library": "var_list.py",
     "varRefreshCmd": "print(var_dic_list())"
    },
    "r": {
     "delete_cmd_postfix": ") ",
     "delete_cmd_prefix": "rm(",
     "library": "var_list.r",
     "varRefreshCmd": "cat(var_dic_list()) "
    }
   },
   "types_to_exclude": [
    "module",
    "function",
    "builtin_function_or_method",
    "instance",
    "_Feature"
   ],
   "window_display": false
  }
 },
 "nbformat": 4,
 "nbformat_minor": 2
}
