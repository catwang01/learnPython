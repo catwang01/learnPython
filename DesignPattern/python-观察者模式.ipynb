{
 "cells": [
  {
   "cell_type": "markdown",
   "metadata": {},
   "source": [
    "[toc]\n",
    "\n",
    "# Python 设计模式 行为型模式之观察者模式"
   ]
  },
  {
   "cell_type": "markdown",
   "metadata": {},
   "source": [
    "内容：定义对象间的一种一对多的依赖关系，当一个对象的状态发生改变时，所有依赖于它的对象都得到通知并被自动更新。观察者模式又称 ”发布-订阅“模式"
   ]
  },
  {
   "cell_type": "markdown",
   "metadata": {},
   "source": [
    "角色：\n",
    "1. 抽象主题\n",
    "2. 具体主题\n",
    "3. 抽象观察者\n",
    "4. 具体观察者"
   ]
  },
  {
   "cell_type": "markdown",
   "metadata": {},
   "source": [
    "场景模拟：\n",
    "\n",
    "假设公司里面通知员工消息。\n",
    "1. 当来一个新员工时，可以将新员工添加到在职员工列表中。\n",
    "2. 当一个新员工离职时，可以将新员工从在职员工列表中除去。\n",
    "3. 发通知时，会自动通知到所有的在职员工。"
   ]
  },
  {
   "cell_type": "code",
   "execution_count": 14,
   "metadata": {
    "ExecuteTime": {
     "end_time": "2020-10-03T08:38:10.873854Z",
     "start_time": "2020-10-03T08:38:10.862885Z"
    }
   },
   "outputs": [
    {
     "name": "stdout",
     "output_type": "stream",
     "text": [
      "没有收到公司的通知 没有收到公司的通知\n",
      "今天公司放假！ 今天公司放假！\n",
      "今天公司加班！！ 今天公司放假！\n"
     ]
    }
   ],
   "source": [
    "from abc import ABCMeta, abstractmethod\n",
    "\n",
    "class Subscriber(metaclass=ABCMeta):\n",
    "    @abstractmethod\n",
    "    def update(self, publisher):\n",
    "        pass\n",
    "    \n",
    "class Employee(Subscriber):\n",
    "    def __init__(self):\n",
    "        self.msg = \"没有收到公司的通知\"\n",
    "        \n",
    "    def update(self, publisher):\n",
    "        self.msg = publisher.msg\n",
    "    \n",
    "class Publisher:\n",
    "    def __init__(self):\n",
    "        self._msg = None\n",
    "        self.subscribers = []\n",
    "        \n",
    "    def add(self, subscriber):\n",
    "        self.subscribers.append(subscriber)\n",
    "        \n",
    "    def remove(self, subscriber):\n",
    "        self.subscribers.remove(subscriber)\n",
    "    \n",
    "    def publish(self):\n",
    "        for subcriber in self.subscribers:\n",
    "            subcriber.update(self)\n",
    "            \n",
    "    @property\n",
    "    def msg(self):\n",
    "        return self._msg\n",
    "    \n",
    "    @msg.setter\n",
    "    def msg(self, msg):\n",
    "        self._msg = msg\n",
    "        self.publish()\n",
    "            \n",
    "\n",
    "# ------------ client ----------------\n",
    "e1 = Employee()\n",
    "e2 = Employee()\n",
    "\n",
    "publisher = Publisher()\n",
    "publisher.add(e1) # e1 e2 入职\n",
    "publisher.add(e2)\n",
    "print(e1.msg, e2.msg)\n",
    "\n",
    "publisher.msg = \"今天公司放假！\"\n",
    "print(e1.msg, e2.msg)\n",
    "\n",
    "publisher.remove(e2) # e2 离职\n",
    "\n",
    "publisher.msg = \"今天公司加班！！\"\n",
    "print(e1.msg, e2.msg) # e2 不会接受到新的消息"
   ]
  },
  {
   "cell_type": "markdown",
   "metadata": {},
   "source": [
    "适用场景：\n",
    "1. 当一个抽象模型有两方面，其中一个方面依赖于另一个方面，将者两者封装在独立对象中以使它们可以各自独立地改变和复用。\n",
    "2. 当对一个对象的改变需要同时改变其他对象，而不知道具体有多少对象改变时\n",
    "3. 一个对象必须通知其他对象。\n",
    "\n",
    "优点：\n",
    "1. 目标和观察者之间的耦合小\n",
    "2. 支持广播通信"
   ]
  },
  {
   "cell_type": "markdown",
   "metadata": {},
   "source": [
    "# References\n",
    "[Python之常用设计模式_哔哩哔哩 (゜-゜)つロ 干杯~-bilibili](https://www.bilibili.com/video/BV19541167cn?p=14)"
   ]
  }
 ],
 "metadata": {
  "hide_input": false,
  "kernelspec": {
   "display_name": "Python 3",
   "language": "python",
   "name": "python3"
  },
  "language_info": {
   "codemirror_mode": {
    "name": "ipython",
    "version": 3
   },
   "file_extension": ".py",
   "mimetype": "text/x-python",
   "name": "python",
   "nbconvert_exporter": "python",
   "pygments_lexer": "ipython3",
   "version": "3.7.3"
  },
  "toc": {
   "base_numbering": 1,
   "nav_menu": {},
   "number_sections": true,
   "sideBar": true,
   "skip_h1_title": false,
   "title_cell": "Table of Contents",
   "title_sidebar": "Contents",
   "toc_cell": false,
   "toc_position": {},
   "toc_section_display": true,
   "toc_window_display": false
  },
  "varInspector": {
   "cols": {
    "lenName": 16,
    "lenType": 16,
    "lenVar": 40
   },
   "kernels_config": {
    "python": {
     "delete_cmd_postfix": "",
     "delete_cmd_prefix": "del ",
     "library": "var_list.py",
     "varRefreshCmd": "print(var_dic_list())"
    },
    "r": {
     "delete_cmd_postfix": ") ",
     "delete_cmd_prefix": "rm(",
     "library": "var_list.r",
     "varRefreshCmd": "cat(var_dic_list()) "
    }
   },
   "types_to_exclude": [
    "module",
    "function",
    "builtin_function_or_method",
    "instance",
    "_Feature"
   ],
   "window_display": false
  }
 },
 "nbformat": 4,
 "nbformat_minor": 2
}
