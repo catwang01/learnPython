{
 "cells": [
  {
   "cell_type": "markdown",
   "id": "491b6df5-ade4-47e3-a3ea-69aab5f74b08",
   "metadata": {},
   "source": [
    "---\n",
    "title: Python import error when using logging package\n",
    "tags: python,import,logging\n",
    "---\n",
    "\n",
    "# Python import error when using logging package\n",
    "\n",
    "## 问题描述\n",
    "\n",
    "The following code encouters an error of `AttributeError: 'module' object has no attribute 'handlers'`"
   ]
  },
  {
   "cell_type": "code",
   "execution_count": 11,
   "id": "9060689e-8b6e-4d40-8d8c-29f5a9bb6078",
   "metadata": {},
   "outputs": [
    {
     "name": "stdout",
     "output_type": "stream",
     "text": [
      "Overwriting test.py\n"
     ]
    }
   ],
   "source": [
    "%%file test.py\n",
    "import logging\n",
    "logger = logging.handlers.TimedRotatingFileHandler(\"log.txt\")"
   ]
  },
  {
   "cell_type": "code",
   "execution_count": 1,
   "id": "ce651fc4-3ab9-407f-be44-893ef4aa1a12",
   "metadata": {},
   "outputs": [],
   "source": [
    "!python test.py"
   ]
  },
  {
   "cell_type": "markdown",
   "id": "9cb321b3-485c-4621-b8eb-d02272719209",
   "metadata": {},
   "source": [
    "Whereas this is OK."
   ]
  },
  {
   "cell_type": "code",
   "execution_count": 2,
   "id": "5eedda17-e9b9-490e-ae1b-42fa00e87ea1",
   "metadata": {},
   "outputs": [
    {
     "name": "stdout",
     "output_type": "stream",
     "text": [
      "Overwriting test.py\n"
     ]
    }
   ],
   "source": [
    "%%file test.py\n",
    "\n",
    "from logging.handlers import TimedRotatingFileHandler\n",
    "logger = TimedRotatingFileHandler(\"log.txt\")"
   ]
  },
  {
   "cell_type": "code",
   "execution_count": 3,
   "id": "dc804e59-caa0-47a1-9d61-9a1959c9b272",
   "metadata": {},
   "outputs": [],
   "source": [
    "!python test.py"
   ]
  },
  {
   "cell_type": "markdown",
   "id": "5ce93765-ac96-49a4-9764-aeb23d39970e",
   "metadata": {},
   "source": [
    "## Explanation"
   ]
  },
  {
   "cell_type": "markdown",
   "id": "469c6b81-f83e-4acb-9fe5-14c4b14a8ae7",
   "metadata": {},
   "source": [
    "The main reason is that `logging` is a package.\n",
    "\n",
    "In python, we have the concepts of package and module. In practice, a module is a .py file and a package is a directory with a `__init__.py` in it.\n",
    "\n",
    "When a module is imported, all the variables in the .py file are imported. While when a package is imported, all the variables in the `__init__.py` file are imported.\n",
    "\n",
    "Because `logging` is a package, if we want to use `logging.handlers`, we must ensure the `handlers` is included into `logging/__init__.py`. However, [logging/__init__.py](https://github.com/python/cpython/blob/686c6f303a6e9e54b50401be0ae3dc6aa2fcf05a/Lib/logging/__init__.py) doesn't include `handlers`. Thus, using `logging.handlers` will raise an error.\n",
    "\n",
    "In the second cases, we use `import logging.handlers import TimedRotatingFileHandler` to direct import the module `logging.handlers`."
   ]
  },
  {
   "cell_type": "markdown",
   "id": "cd528ad1-f268-4664-b136-9db05a60a24b",
   "metadata": {},
   "source": [
    "# References\n",
    "- [Python的from...import和import的区别 - 清晰还是一样清晰的博客 - CSDN博客](https://blog.csdn.net/m0_37295861/article/details/79050781)"
   ]
  }
 ],
 "metadata": {
  "kernelspec": {
   "display_name": "Python 3",
   "language": "python",
   "name": "python3"
  },
  "language_info": {
   "codemirror_mode": {
    "name": "ipython",
    "version": 3
   },
   "file_extension": ".py",
   "mimetype": "text/x-python",
   "name": "python",
   "nbconvert_exporter": "python",
   "pygments_lexer": "ipython3",
   "version": "3.9.2"
  }
 },
 "nbformat": 4,
 "nbformat_minor": 5
}
